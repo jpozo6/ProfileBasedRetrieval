{
 "cells": [
  {
   "cell_type": "code",
   "execution_count": 1,
   "id": "3ba2eb83-a2aa-4e08-b066-fe297d48fd4c",
   "metadata": {},
   "outputs": [],
   "source": [
    "from sklearn.datasets import fetch_20newsgroups\n",
    "import pandas as pd\n",
    "import seaborn as sns\n",
    "import matplotlib.pyplot as plt\n",
    "import nltk\n",
    "from nltk.corpus import stopwords\n",
    "from collections import defaultdict,Counter"
   ]
  },
  {
   "cell_type": "code",
   "execution_count": 2,
   "id": "517acefb",
   "metadata": {},
   "outputs": [
    {
     "name": "stderr",
     "output_type": "stream",
     "text": [
      "C:\\Users\\carlo\\.conda\\envs\\prueba_PB\\lib\\site-packages\\pandas\\core\\arrays\\datetimes.py:2199: FutureWarning: The parsing of 'now' in pd.to_datetime without `utc=True` is deprecated. In a future version, this will match Timestamp('now') and Timestamp.now()\n",
      "  result, tz_parsed = tslib.array_to_datetime(\n"
     ]
    }
   ],
   "source": [
    "\n",
    "\n",
    "def twenty_newsgroup_to_csv():\n",
    "    newsgroups_train = fetch_20newsgroups(subset='all', remove=('headers', 'footers', 'quotes'))\n",
    "\n",
    "    df = pd.DataFrame([newsgroups_train.data, newsgroups_train.target.tolist()]).T\n",
    "    df.columns = ['text', 'target']\n",
    "\n",
    "    targets = pd.DataFrame( newsgroups_train.target_names)\n",
    "    targets.columns=['title']\n",
    "\n",
    "    out = pd.merge(df, targets, left_on='target', right_index=True)\n",
    "    out['date'] = pd.to_datetime('now')\n",
    "    out.to_csv('20_newsgroup.csv')\n",
    "\n",
    "twenty_newsgroup_to_csv()"
   ]
  },
  {
   "cell_type": "code",
   "execution_count": 3,
   "id": "e4b7f631",
   "metadata": {},
   "outputs": [
    {
     "data": {
      "text/html": [
       "<div>\n",
       "<style scoped>\n",
       "    .dataframe tbody tr th:only-of-type {\n",
       "        vertical-align: middle;\n",
       "    }\n",
       "\n",
       "    .dataframe tbody tr th {\n",
       "        vertical-align: top;\n",
       "    }\n",
       "\n",
       "    .dataframe thead th {\n",
       "        text-align: right;\n",
       "    }\n",
       "</style>\n",
       "<table border=\"1\" class=\"dataframe\">\n",
       "  <thead>\n",
       "    <tr style=\"text-align: right;\">\n",
       "      <th></th>\n",
       "      <th>text</th>\n",
       "      <th>target</th>\n",
       "      <th>title</th>\n",
       "      <th>date</th>\n",
       "    </tr>\n",
       "  </thead>\n",
       "  <tbody>\n",
       "    <tr>\n",
       "      <th>9</th>\n",
       "      <td>\\nIf a Christian means someone who believes in...</td>\n",
       "      <td>19</td>\n",
       "      <td>talk.religion.misc</td>\n",
       "      <td>2022-04-08 16:48:22.798245</td>\n",
       "    </tr>\n",
       "    <tr>\n",
       "      <th>10</th>\n",
       "      <td>the blood of the lamb.\\n\\nThis will be a hard ...</td>\n",
       "      <td>19</td>\n",
       "      <td>talk.religion.misc</td>\n",
       "      <td>2022-04-08 16:48:22.798245</td>\n",
       "    </tr>\n",
       "    <tr>\n",
       "      <th>12</th>\n",
       "      <td>930418\\n\\nDo what thou wilt shall be the whole...</td>\n",
       "      <td>19</td>\n",
       "      <td>talk.religion.misc</td>\n",
       "      <td>2022-04-08 16:48:22.798245</td>\n",
       "    </tr>\n",
       "    <tr>\n",
       "      <th>40</th>\n",
       "      <td>\\n\\nNo.  Zeno's paradox is resolved by showing...</td>\n",
       "      <td>19</td>\n",
       "      <td>talk.religion.misc</td>\n",
       "      <td>2022-04-08 16:48:22.798245</td>\n",
       "    </tr>\n",
       "    <tr>\n",
       "      <th>58</th>\n",
       "      <td>\\nDefinitely, J.R. \"Bob\" Dobbs, numero uno, to...</td>\n",
       "      <td>19</td>\n",
       "      <td>talk.religion.misc</td>\n",
       "      <td>2022-04-08 16:48:22.798245</td>\n",
       "    </tr>\n",
       "    <tr>\n",
       "      <th>74</th>\n",
       "      <td>\\n\\nConvenient?  It seems very appropriate tha...</td>\n",
       "      <td>19</td>\n",
       "      <td>talk.religion.misc</td>\n",
       "      <td>2022-04-08 16:48:22.798245</td>\n",
       "    </tr>\n",
       "    <tr>\n",
       "      <th>91</th>\n",
       "      <td>NaN</td>\n",
       "      <td>19</td>\n",
       "      <td>talk.religion.misc</td>\n",
       "      <td>2022-04-08 16:48:22.798245</td>\n",
       "    </tr>\n",
       "    <tr>\n",
       "      <th>104</th>\n",
       "      <td>NaN</td>\n",
       "      <td>19</td>\n",
       "      <td>talk.religion.misc</td>\n",
       "      <td>2022-04-08 16:48:22.798245</td>\n",
       "    </tr>\n",
       "    <tr>\n",
       "      <th>189</th>\n",
       "      <td>\\n\\nBrian K., I am pleased with your honesty. ...</td>\n",
       "      <td>19</td>\n",
       "      <td>talk.religion.misc</td>\n",
       "      <td>2022-04-08 16:48:22.798245</td>\n",
       "    </tr>\n",
       "    <tr>\n",
       "      <th>194</th>\n",
       "      <td>}&gt;}(a) out of context;\\n}&gt;Must have missed whe...</td>\n",
       "      <td>19</td>\n",
       "      <td>talk.religion.misc</td>\n",
       "      <td>2022-04-08 16:48:22.798245</td>\n",
       "    </tr>\n",
       "  </tbody>\n",
       "</table>\n",
       "</div>"
      ],
      "text/plain": [
       "                                                  text  target  \\\n",
       "9    \\nIf a Christian means someone who believes in...      19   \n",
       "10   the blood of the lamb.\\n\\nThis will be a hard ...      19   \n",
       "12   930418\\n\\nDo what thou wilt shall be the whole...      19   \n",
       "40   \\n\\nNo.  Zeno's paradox is resolved by showing...      19   \n",
       "58   \\nDefinitely, J.R. \"Bob\" Dobbs, numero uno, to...      19   \n",
       "74   \\n\\nConvenient?  It seems very appropriate tha...      19   \n",
       "91                                                 NaN      19   \n",
       "104                                                NaN      19   \n",
       "189  \\n\\nBrian K., I am pleased with your honesty. ...      19   \n",
       "194  }>}(a) out of context;\\n}>Must have missed whe...      19   \n",
       "\n",
       "                  title                        date  \n",
       "9    talk.religion.misc  2022-04-08 16:48:22.798245  \n",
       "10   talk.religion.misc  2022-04-08 16:48:22.798245  \n",
       "12   talk.religion.misc  2022-04-08 16:48:22.798245  \n",
       "40   talk.religion.misc  2022-04-08 16:48:22.798245  \n",
       "58   talk.religion.misc  2022-04-08 16:48:22.798245  \n",
       "74   talk.religion.misc  2022-04-08 16:48:22.798245  \n",
       "91   talk.religion.misc  2022-04-08 16:48:22.798245  \n",
       "104  talk.religion.misc  2022-04-08 16:48:22.798245  \n",
       "189  talk.religion.misc  2022-04-08 16:48:22.798245  \n",
       "194  talk.religion.misc  2022-04-08 16:48:22.798245  "
      ]
     },
     "execution_count": 3,
     "metadata": {},
     "output_type": "execute_result"
    }
   ],
   "source": [
    "data = pd.read_csv('20_newsgroup.csv', index_col = 0)\n",
    "# Select only 5 classes\n",
    "class_mask = data[\"target\"].isin([7,9,13,18,19])\n",
    "data = data[class_mask]\n",
    "data.head(10)"
   ]
  },
  {
   "cell_type": "code",
   "execution_count": 4,
   "id": "3cc5e4fd",
   "metadata": {},
   "outputs": [
    {
     "data": {
      "text/plain": [
       "(4377, 4)"
      ]
     },
     "execution_count": 4,
     "metadata": {},
     "output_type": "execute_result"
    }
   ],
   "source": [
    "data.shape"
   ]
  },
  {
   "cell_type": "code",
   "execution_count": 5,
   "id": "3ab1a880",
   "metadata": {},
   "outputs": [],
   "source": [
    "data = data[data['text'].notna()]"
   ]
  },
  {
   "cell_type": "code",
   "execution_count": 6,
   "id": "b00ab038",
   "metadata": {},
   "outputs": [
    {
     "data": {
      "text/plain": [
       "(4254, 4)"
      ]
     },
     "execution_count": 6,
     "metadata": {},
     "output_type": "execute_result"
    }
   ],
   "source": [
    "data.shape"
   ]
  },
  {
   "cell_type": "code",
   "execution_count": 7,
   "id": "f63e4a31",
   "metadata": {},
   "outputs": [
    {
     "data": {
      "text/html": [
       "<div>\n",
       "<style scoped>\n",
       "    .dataframe tbody tr th:only-of-type {\n",
       "        vertical-align: middle;\n",
       "    }\n",
       "\n",
       "    .dataframe tbody tr th {\n",
       "        vertical-align: top;\n",
       "    }\n",
       "\n",
       "    .dataframe thead th {\n",
       "        text-align: right;\n",
       "    }\n",
       "</style>\n",
       "<table border=\"1\" class=\"dataframe\">\n",
       "  <thead>\n",
       "    <tr style=\"text-align: right;\">\n",
       "      <th></th>\n",
       "      <th>text</th>\n",
       "      <th>target</th>\n",
       "      <th>title</th>\n",
       "      <th>date</th>\n",
       "    </tr>\n",
       "  </thead>\n",
       "  <tbody>\n",
       "    <tr>\n",
       "      <th>9</th>\n",
       "      <td>\\nIf a Christian means someone who believes in...</td>\n",
       "      <td>19</td>\n",
       "      <td>talk.religion.misc</td>\n",
       "      <td>2022-04-08 16:48:22.798245</td>\n",
       "    </tr>\n",
       "    <tr>\n",
       "      <th>10</th>\n",
       "      <td>the blood of the lamb.\\n\\nThis will be a hard ...</td>\n",
       "      <td>19</td>\n",
       "      <td>talk.religion.misc</td>\n",
       "      <td>2022-04-08 16:48:22.798245</td>\n",
       "    </tr>\n",
       "    <tr>\n",
       "      <th>12</th>\n",
       "      <td>930418\\n\\nDo what thou wilt shall be the whole...</td>\n",
       "      <td>19</td>\n",
       "      <td>talk.religion.misc</td>\n",
       "      <td>2022-04-08 16:48:22.798245</td>\n",
       "    </tr>\n",
       "    <tr>\n",
       "      <th>40</th>\n",
       "      <td>\\n\\nNo.  Zeno's paradox is resolved by showing...</td>\n",
       "      <td>19</td>\n",
       "      <td>talk.religion.misc</td>\n",
       "      <td>2022-04-08 16:48:22.798245</td>\n",
       "    </tr>\n",
       "    <tr>\n",
       "      <th>58</th>\n",
       "      <td>\\nDefinitely, J.R. \"Bob\" Dobbs, numero uno, to...</td>\n",
       "      <td>19</td>\n",
       "      <td>talk.religion.misc</td>\n",
       "      <td>2022-04-08 16:48:22.798245</td>\n",
       "    </tr>\n",
       "    <tr>\n",
       "      <th>74</th>\n",
       "      <td>\\n\\nConvenient?  It seems very appropriate tha...</td>\n",
       "      <td>19</td>\n",
       "      <td>talk.religion.misc</td>\n",
       "      <td>2022-04-08 16:48:22.798245</td>\n",
       "    </tr>\n",
       "    <tr>\n",
       "      <th>189</th>\n",
       "      <td>\\n\\nBrian K., I am pleased with your honesty. ...</td>\n",
       "      <td>19</td>\n",
       "      <td>talk.religion.misc</td>\n",
       "      <td>2022-04-08 16:48:22.798245</td>\n",
       "    </tr>\n",
       "    <tr>\n",
       "      <th>194</th>\n",
       "      <td>}&gt;}(a) out of context;\\n}&gt;Must have missed whe...</td>\n",
       "      <td>19</td>\n",
       "      <td>talk.religion.misc</td>\n",
       "      <td>2022-04-08 16:48:22.798245</td>\n",
       "    </tr>\n",
       "    <tr>\n",
       "      <th>200</th>\n",
       "      <td>\\nJesus did and so do I.\\n\\nPeace be with you,</td>\n",
       "      <td>19</td>\n",
       "      <td>talk.religion.misc</td>\n",
       "      <td>2022-04-08 16:48:22.798245</td>\n",
       "    </tr>\n",
       "    <tr>\n",
       "      <th>275</th>\n",
       "      <td>\\nSuperficially a good answer, but it isn't th...</td>\n",
       "      <td>19</td>\n",
       "      <td>talk.religion.misc</td>\n",
       "      <td>2022-04-08 16:48:22.798245</td>\n",
       "    </tr>\n",
       "  </tbody>\n",
       "</table>\n",
       "</div>"
      ],
      "text/plain": [
       "                                                  text  target  \\\n",
       "9    \\nIf a Christian means someone who believes in...      19   \n",
       "10   the blood of the lamb.\\n\\nThis will be a hard ...      19   \n",
       "12   930418\\n\\nDo what thou wilt shall be the whole...      19   \n",
       "40   \\n\\nNo.  Zeno's paradox is resolved by showing...      19   \n",
       "58   \\nDefinitely, J.R. \"Bob\" Dobbs, numero uno, to...      19   \n",
       "74   \\n\\nConvenient?  It seems very appropriate tha...      19   \n",
       "189  \\n\\nBrian K., I am pleased with your honesty. ...      19   \n",
       "194  }>}(a) out of context;\\n}>Must have missed whe...      19   \n",
       "200     \\nJesus did and so do I.\\n\\nPeace be with you,      19   \n",
       "275  \\nSuperficially a good answer, but it isn't th...      19   \n",
       "\n",
       "                  title                        date  \n",
       "9    talk.religion.misc  2022-04-08 16:48:22.798245  \n",
       "10   talk.religion.misc  2022-04-08 16:48:22.798245  \n",
       "12   talk.religion.misc  2022-04-08 16:48:22.798245  \n",
       "40   talk.religion.misc  2022-04-08 16:48:22.798245  \n",
       "58   talk.religion.misc  2022-04-08 16:48:22.798245  \n",
       "74   talk.religion.misc  2022-04-08 16:48:22.798245  \n",
       "189  talk.religion.misc  2022-04-08 16:48:22.798245  \n",
       "194  talk.religion.misc  2022-04-08 16:48:22.798245  \n",
       "200  talk.religion.misc  2022-04-08 16:48:22.798245  \n",
       "275  talk.religion.misc  2022-04-08 16:48:22.798245  "
      ]
     },
     "execution_count": 7,
     "metadata": {},
     "output_type": "execute_result"
    }
   ],
   "source": [
    "data.head(10)"
   ]
  },
  {
   "cell_type": "code",
   "execution_count": 8,
   "id": "7115e7b6",
   "metadata": {},
   "outputs": [
    {
     "data": {
      "text/html": [
       "<div>\n",
       "<style scoped>\n",
       "    .dataframe tbody tr th:only-of-type {\n",
       "        vertical-align: middle;\n",
       "    }\n",
       "\n",
       "    .dataframe tbody tr th {\n",
       "        vertical-align: top;\n",
       "    }\n",
       "\n",
       "    .dataframe thead tr th {\n",
       "        text-align: left;\n",
       "    }\n",
       "\n",
       "    .dataframe thead tr:last-of-type th {\n",
       "        text-align: right;\n",
       "    }\n",
       "</style>\n",
       "<table border=\"1\" class=\"dataframe\">\n",
       "  <thead>\n",
       "    <tr>\n",
       "      <th></th>\n",
       "      <th colspan=\"4\" halign=\"left\">text</th>\n",
       "      <th colspan=\"4\" halign=\"left\">title</th>\n",
       "      <th colspan=\"4\" halign=\"left\">date</th>\n",
       "    </tr>\n",
       "    <tr>\n",
       "      <th></th>\n",
       "      <th>count</th>\n",
       "      <th>unique</th>\n",
       "      <th>top</th>\n",
       "      <th>freq</th>\n",
       "      <th>count</th>\n",
       "      <th>unique</th>\n",
       "      <th>top</th>\n",
       "      <th>freq</th>\n",
       "      <th>count</th>\n",
       "      <th>unique</th>\n",
       "      <th>top</th>\n",
       "      <th>freq</th>\n",
       "    </tr>\n",
       "    <tr>\n",
       "      <th>target</th>\n",
       "      <th></th>\n",
       "      <th></th>\n",
       "      <th></th>\n",
       "      <th></th>\n",
       "      <th></th>\n",
       "      <th></th>\n",
       "      <th></th>\n",
       "      <th></th>\n",
       "      <th></th>\n",
       "      <th></th>\n",
       "      <th></th>\n",
       "      <th></th>\n",
       "    </tr>\n",
       "  </thead>\n",
       "  <tbody>\n",
       "    <tr>\n",
       "      <th>7</th>\n",
       "      <td>947</td>\n",
       "      <td>941</td>\n",
       "      <td>\\n</td>\n",
       "      <td>5</td>\n",
       "      <td>947</td>\n",
       "      <td>1</td>\n",
       "      <td>rec.autos</td>\n",
       "      <td>947</td>\n",
       "      <td>947</td>\n",
       "      <td>1</td>\n",
       "      <td>2022-04-08 16:48:22.798245</td>\n",
       "      <td>947</td>\n",
       "    </tr>\n",
       "    <tr>\n",
       "      <th>9</th>\n",
       "      <td>966</td>\n",
       "      <td>962</td>\n",
       "      <td>\\n</td>\n",
       "      <td>5</td>\n",
       "      <td>966</td>\n",
       "      <td>1</td>\n",
       "      <td>rec.sport.baseball</td>\n",
       "      <td>966</td>\n",
       "      <td>966</td>\n",
       "      <td>1</td>\n",
       "      <td>2022-04-08 16:48:22.798245</td>\n",
       "      <td>966</td>\n",
       "    </tr>\n",
       "    <tr>\n",
       "      <th>13</th>\n",
       "      <td>967</td>\n",
       "      <td>962</td>\n",
       "      <td>Recently I've come upon a body of literature w...</td>\n",
       "      <td>2</td>\n",
       "      <td>967</td>\n",
       "      <td>1</td>\n",
       "      <td>sci.med</td>\n",
       "      <td>967</td>\n",
       "      <td>967</td>\n",
       "      <td>1</td>\n",
       "      <td>2022-04-08 16:48:22.798245</td>\n",
       "      <td>967</td>\n",
       "    </tr>\n",
       "    <tr>\n",
       "      <th>18</th>\n",
       "      <td>765</td>\n",
       "      <td>760</td>\n",
       "      <td>\\n</td>\n",
       "      <td>5</td>\n",
       "      <td>765</td>\n",
       "      <td>1</td>\n",
       "      <td>talk.politics.misc</td>\n",
       "      <td>765</td>\n",
       "      <td>765</td>\n",
       "      <td>1</td>\n",
       "      <td>2022-04-08 16:48:22.798245</td>\n",
       "      <td>765</td>\n",
       "    </tr>\n",
       "    <tr>\n",
       "      <th>19</th>\n",
       "      <td>609</td>\n",
       "      <td>607</td>\n",
       "      <td>There are actually a few important things we c...</td>\n",
       "      <td>2</td>\n",
       "      <td>609</td>\n",
       "      <td>1</td>\n",
       "      <td>talk.religion.misc</td>\n",
       "      <td>609</td>\n",
       "      <td>609</td>\n",
       "      <td>1</td>\n",
       "      <td>2022-04-08 16:48:22.798245</td>\n",
       "      <td>609</td>\n",
       "    </tr>\n",
       "  </tbody>\n",
       "</table>\n",
       "</div>"
      ],
      "text/plain": [
       "        text                                                                 \\\n",
       "       count unique                                                top freq   \n",
       "target                                                                        \n",
       "7        947    941                                                 \\n    5   \n",
       "9        966    962                                                 \\n    5   \n",
       "13       967    962  Recently I've come upon a body of literature w...    2   \n",
       "18       765    760                                                 \\n    5   \n",
       "19       609    607  There are actually a few important things we c...    2   \n",
       "\n",
       "       title                                  date         \\\n",
       "       count unique                 top freq count unique   \n",
       "target                                                      \n",
       "7        947      1           rec.autos  947   947      1   \n",
       "9        966      1  rec.sport.baseball  966   966      1   \n",
       "13       967      1             sci.med  967   967      1   \n",
       "18       765      1  talk.politics.misc  765   765      1   \n",
       "19       609      1  talk.religion.misc  609   609      1   \n",
       "\n",
       "                                         \n",
       "                               top freq  \n",
       "target                                   \n",
       "7       2022-04-08 16:48:22.798245  947  \n",
       "9       2022-04-08 16:48:22.798245  966  \n",
       "13      2022-04-08 16:48:22.798245  967  \n",
       "18      2022-04-08 16:48:22.798245  765  \n",
       "19      2022-04-08 16:48:22.798245  609  "
      ]
     },
     "execution_count": 8,
     "metadata": {},
     "output_type": "execute_result"
    }
   ],
   "source": [
    "data.groupby('target').describe()"
   ]
  },
  {
   "cell_type": "markdown",
   "id": "a1f8e4eb",
   "metadata": {},
   "source": [
    "# Exploratory Data Analysis"
   ]
  },
  {
   "cell_type": "code",
   "execution_count": 9,
   "id": "b00b72b8",
   "metadata": {},
   "outputs": [
    {
     "data": {
      "text/html": [
       "<style type=\"text/css\">\n",
       "#T_2ceab_row0_col0 {\n",
       "  background-color: #0080bf;\n",
       "  color: #f1f1f1;\n",
       "}\n",
       "#T_2ceab_row0_col2, #T_2ceab_row1_col2, #T_2ceab_row4_col0 {\n",
       "  background-color: #00ff80;\n",
       "  color: #000000;\n",
       "}\n",
       "#T_2ceab_row1_col0 {\n",
       "  background-color: #002aea;\n",
       "  color: #f1f1f1;\n",
       "}\n",
       "#T_2ceab_row2_col0, #T_2ceab_row4_col2 {\n",
       "  background-color: #0000ff;\n",
       "  color: #f1f1f1;\n",
       "}\n",
       "#T_2ceab_row2_col2 {\n",
       "  background-color: #00f186;\n",
       "  color: #000000;\n",
       "}\n",
       "#T_2ceab_row3_col0 {\n",
       "  background-color: #00ea8a;\n",
       "  color: #000000;\n",
       "}\n",
       "#T_2ceab_row3_col2 {\n",
       "  background-color: #006fc8;\n",
       "  color: #f1f1f1;\n",
       "}\n",
       "</style>\n",
       "<table id=\"T_2ceab\">\n",
       "  <thead>\n",
       "    <tr>\n",
       "      <th class=\"blank level0\" >&nbsp;</th>\n",
       "      <th id=\"T_2ceab_level0_col0\" class=\"col_heading level0 col0\" >target</th>\n",
       "      <th id=\"T_2ceab_level0_col1\" class=\"col_heading level0 col1\" >title</th>\n",
       "      <th id=\"T_2ceab_level0_col2\" class=\"col_heading level0 col2\" >text</th>\n",
       "    </tr>\n",
       "  </thead>\n",
       "  <tbody>\n",
       "    <tr>\n",
       "      <th id=\"T_2ceab_level0_row0\" class=\"row_heading level0 row0\" >2</th>\n",
       "      <td id=\"T_2ceab_row0_col0\" class=\"data row0 col0\" >13</td>\n",
       "      <td id=\"T_2ceab_row0_col1\" class=\"data row0 col1\" >sci.med</td>\n",
       "      <td id=\"T_2ceab_row0_col2\" class=\"data row0 col2\" >967</td>\n",
       "    </tr>\n",
       "    <tr>\n",
       "      <th id=\"T_2ceab_level0_row1\" class=\"row_heading level0 row1\" >1</th>\n",
       "      <td id=\"T_2ceab_row1_col0\" class=\"data row1 col0\" >9</td>\n",
       "      <td id=\"T_2ceab_row1_col1\" class=\"data row1 col1\" >rec.sport.baseball</td>\n",
       "      <td id=\"T_2ceab_row1_col2\" class=\"data row1 col2\" >966</td>\n",
       "    </tr>\n",
       "    <tr>\n",
       "      <th id=\"T_2ceab_level0_row2\" class=\"row_heading level0 row2\" >0</th>\n",
       "      <td id=\"T_2ceab_row2_col0\" class=\"data row2 col0\" >7</td>\n",
       "      <td id=\"T_2ceab_row2_col1\" class=\"data row2 col1\" >rec.autos</td>\n",
       "      <td id=\"T_2ceab_row2_col2\" class=\"data row2 col2\" >947</td>\n",
       "    </tr>\n",
       "    <tr>\n",
       "      <th id=\"T_2ceab_level0_row3\" class=\"row_heading level0 row3\" >3</th>\n",
       "      <td id=\"T_2ceab_row3_col0\" class=\"data row3 col0\" >18</td>\n",
       "      <td id=\"T_2ceab_row3_col1\" class=\"data row3 col1\" >talk.politics.misc</td>\n",
       "      <td id=\"T_2ceab_row3_col2\" class=\"data row3 col2\" >765</td>\n",
       "    </tr>\n",
       "    <tr>\n",
       "      <th id=\"T_2ceab_level0_row4\" class=\"row_heading level0 row4\" >4</th>\n",
       "      <td id=\"T_2ceab_row4_col0\" class=\"data row4 col0\" >19</td>\n",
       "      <td id=\"T_2ceab_row4_col1\" class=\"data row4 col1\" >talk.religion.misc</td>\n",
       "      <td id=\"T_2ceab_row4_col2\" class=\"data row4 col2\" >609</td>\n",
       "    </tr>\n",
       "  </tbody>\n",
       "</table>\n"
      ],
      "text/plain": [
       "<pandas.io.formats.style.Styler at 0x2468483e490>"
      ]
     },
     "execution_count": 9,
     "metadata": {},
     "output_type": "execute_result"
    }
   ],
   "source": [
    "# count how many tweets of each class there are\n",
    "class_df = data.groupby(['target','title']).count()['text'].reset_index().sort_values(by='text',ascending=False)\n",
    "class_df.style.background_gradient(cmap='winter')"
   ]
  },
  {
   "cell_type": "markdown",
   "id": "5abd3234",
   "metadata": {},
   "source": [
    "We have 967 texts talking about medicine, 966 about baseball, 947 about autos, 765 about politics and 609 about religion."
   ]
  },
  {
   "cell_type": "code",
   "execution_count": 10,
   "id": "c93a21eb",
   "metadata": {},
   "outputs": [
    {
     "data": {
      "image/png": "[encoded data removed]",
      "text/plain": [
       "<Figure size 432x288 with 1 Axes>"
      ]
     },
     "metadata": {},
     "output_type": "display_data"
    }
   ],
   "source": [
    "#let's create a pie chart to visualize the distribution of the classes\n",
    "percent_class=class_df.text\n",
    "labels= class_df.title\n",
    "\n",
    "colors = ['green','red','yellow','pink','orange']\n",
    "\n",
    "my_pie,_,_ = plt.pie(percent_class,radius = 1.2,labels=labels,colors=colors,autopct=\"%.1f%%\")\n",
    "\n",
    "plt.setp(my_pie, width=0.6, edgecolor='white') \n",
    "plt.savefig('pie.png')\n",
    "plt.show()"
   ]
  },
  {
   "cell_type": "markdown",
   "id": "0edfdcb1",
   "metadata": {},
   "source": [
    "Now, we will add a column to know the length of each tweet"
   ]
  },
  {
   "cell_type": "code",
   "execution_count": 11,
   "id": "b64e2b83",
   "metadata": {},
   "outputs": [
    {
     "data": {
      "text/html": [
       "<div>\n",
       "<style scoped>\n",
       "    .dataframe tbody tr th:only-of-type {\n",
       "        vertical-align: middle;\n",
       "    }\n",
       "\n",
       "    .dataframe tbody tr th {\n",
       "        vertical-align: top;\n",
       "    }\n",
       "\n",
       "    .dataframe thead th {\n",
       "        text-align: right;\n",
       "    }\n",
       "</style>\n",
       "<table border=\"1\" class=\"dataframe\">\n",
       "  <thead>\n",
       "    <tr style=\"text-align: right;\">\n",
       "      <th></th>\n",
       "      <th>text</th>\n",
       "      <th>target</th>\n",
       "      <th>title</th>\n",
       "      <th>date</th>\n",
       "      <th>message_len</th>\n",
       "    </tr>\n",
       "  </thead>\n",
       "  <tbody>\n",
       "    <tr>\n",
       "      <th>9</th>\n",
       "      <td>\\nIf a Christian means someone who believes in...</td>\n",
       "      <td>19</td>\n",
       "      <td>talk.religion.misc</td>\n",
       "      <td>2022-04-08 16:48:22.798245</td>\n",
       "      <td>417</td>\n",
       "    </tr>\n",
       "    <tr>\n",
       "      <th>10</th>\n",
       "      <td>the blood of the lamb.\\n\\nThis will be a hard ...</td>\n",
       "      <td>19</td>\n",
       "      <td>talk.religion.misc</td>\n",
       "      <td>2022-04-08 16:48:22.798245</td>\n",
       "      <td>225</td>\n",
       "    </tr>\n",
       "    <tr>\n",
       "      <th>12</th>\n",
       "      <td>930418\\n\\nDo what thou wilt shall be the whole...</td>\n",
       "      <td>19</td>\n",
       "      <td>talk.religion.misc</td>\n",
       "      <td>2022-04-08 16:48:22.798245</td>\n",
       "      <td>6974</td>\n",
       "    </tr>\n",
       "    <tr>\n",
       "      <th>40</th>\n",
       "      <td>\\n\\nNo.  Zeno's paradox is resolved by showing...</td>\n",
       "      <td>19</td>\n",
       "      <td>talk.religion.misc</td>\n",
       "      <td>2022-04-08 16:48:22.798245</td>\n",
       "      <td>683</td>\n",
       "    </tr>\n",
       "    <tr>\n",
       "      <th>58</th>\n",
       "      <td>\\nDefinitely, J.R. \"Bob\" Dobbs, numero uno, to...</td>\n",
       "      <td>19</td>\n",
       "      <td>talk.religion.misc</td>\n",
       "      <td>2022-04-08 16:48:22.798245</td>\n",
       "      <td>325</td>\n",
       "    </tr>\n",
       "  </tbody>\n",
       "</table>\n",
       "</div>"
      ],
      "text/plain": [
       "                                                 text  target  \\\n",
       "9   \\nIf a Christian means someone who believes in...      19   \n",
       "10  the blood of the lamb.\\n\\nThis will be a hard ...      19   \n",
       "12  930418\\n\\nDo what thou wilt shall be the whole...      19   \n",
       "40  \\n\\nNo.  Zeno's paradox is resolved by showing...      19   \n",
       "58  \\nDefinitely, J.R. \"Bob\" Dobbs, numero uno, to...      19   \n",
       "\n",
       "                 title                        date  message_len  \n",
       "9   talk.religion.misc  2022-04-08 16:48:22.798245          417  \n",
       "10  talk.religion.misc  2022-04-08 16:48:22.798245          225  \n",
       "12  talk.religion.misc  2022-04-08 16:48:22.798245         6974  \n",
       "40  talk.religion.misc  2022-04-08 16:48:22.798245          683  \n",
       "58  talk.religion.misc  2022-04-08 16:48:22.798245          325  "
      ]
     },
     "execution_count": 11,
     "metadata": {},
     "output_type": "execute_result"
    }
   ],
   "source": [
    "data['message_len'] = data.text.apply(len)\n",
    "data.head()"
   ]
  },
  {
   "cell_type": "markdown",
   "id": "191fb5dc",
   "metadata": {},
   "source": [
    "Now, we are going to compare the length of the tweets depending on the class they belong to"
   ]
  },
  {
   "cell_type": "code",
   "execution_count": 12,
   "id": "dee9dc76",
   "metadata": {},
   "outputs": [
    {
     "data": {
      "image/png": "[encoded data removed]",
      "text/plain": [
       "<Figure size 864x576 with 1 Axes>"
      ]
     },
     "metadata": {
      "needs_background": "light"
     },
     "output_type": "display_data"
    }
   ],
   "source": [
    "plt.figure(figsize=(12, 8))\n",
    "\n",
    "data[data['title']=='sci.med'].message_len.plot(bins=50, kind='hist', color='blue', label='Medicine', alpha=0.4)\n",
    "data[data['title']=='rec.sport.baseball'].message_len.plot(bins=50,kind='hist', color='red', label='Baseball', alpha=0.4)\n",
    "data[data['title']=='rec.autos'].message_len.plot(bins=50,kind='hist', color='green', label='Autos', alpha=0.4)\n",
    "data[data['title']=='talk.politics.misc'].message_len.plot(bins=50,kind='hist', color='yellow', label='Politics', alpha=0.4)\n",
    "data[data['title']=='talk.religion.misc'].message_len.plot(bins=50,kind='hist', color='pink', label='Religion', alpha=0.4)\n",
    "plt.legend()\n",
    "plt.xlabel(\"Message Length\")\n",
    "plt.savefig('length.png')\n",
    "plt.show()"
   ]
  },
  {
   "cell_type": "markdown",
   "id": "8fb5aaa3",
   "metadata": {},
   "source": [
    "\n",
    "\n",
    "As we can observe, all the texts have similar length without depending on the class they belong to.\n",
    "\n",
    "Now, let's create a corpus with our texts.\n"
   ]
  },
  {
   "cell_type": "code",
   "execution_count": 13,
   "id": "af78e91b",
   "metadata": {},
   "outputs": [],
   "source": [
    "def create_corpus(target):\n",
    "    corpus=[]\n",
    "    \n",
    "    for x in data[data['target']==target ]['text'].str.split():\n",
    "        for i in x:\n",
    "            corpus.append(i)\n",
    "    return corpus"
   ]
  },
  {
   "cell_type": "code",
   "execution_count": 14,
   "id": "3725a02e-ae13-4741-948e-6db25d71d5c9",
   "metadata": {},
   "outputs": [],
   "source": [
    "stop=set(stopwords.words('english'))"
   ]
  },
  {
   "cell_type": "markdown",
   "id": "a7ef37f9",
   "metadata": {},
   "source": [
    "\n",
    "\n",
    "Now, let's see which are the words that appear more frequently in each class\n"
   ]
  },
  {
   "cell_type": "code",
   "execution_count": 15,
   "id": "f8f21a2a",
   "metadata": {},
   "outputs": [
    {
     "data": {
      "image/png": "[encoded data removed]",
      "text/plain": [
       "<Figure size 432x288 with 1 Axes>"
      ]
     },
     "metadata": {
      "needs_background": "light"
     },
     "output_type": "display_data"
    }
   ],
   "source": [
    "# Medicine class\n",
    "\n",
    "corpus = create_corpus(13)\n",
    "counter=Counter(corpus)\n",
    "most=counter.most_common()\n",
    "x=[]\n",
    "y=[]\n",
    "for word,count in most[:60]:\n",
    "    if (word not in stop) :\n",
    "        x.append(word)\n",
    "        y.append(count)\n",
    "ax = sns.barplot(x=y,y=x)\n",
    "ax.set(xlabel=\"Frequency\", ylabel = \"Most common words medicine class\")\n",
    "plt.savefig('words_medicine.png')\n"
   ]
  },
  {
   "cell_type": "code",
   "execution_count": 16,
   "id": "dfaea863",
   "metadata": {},
   "outputs": [
    {
     "data": {
      "image/png": "[encoded data removed]",
      "text/plain": [
       "<Figure size 432x288 with 1 Axes>"
      ]
     },
     "metadata": {
      "needs_background": "light"
     },
     "output_type": "display_data"
    }
   ],
   "source": [
    "# Baseball class\n",
    "\n",
    "corpus = create_corpus(9)\n",
    "counter=Counter(corpus)\n",
    "most=counter.most_common()\n",
    "x=[]\n",
    "y=[]\n",
    "for word,count in most[:60]:\n",
    "    if (word not in stop) :\n",
    "        x.append(word)\n",
    "        y.append(count)\n",
    "ax = sns.barplot(x=y,y=x)\n",
    "ax.set(xlabel=\"Frequency\", ylabel = \"Most common words baseball class\")\n",
    "plt.savefig('words_baseball.png')"
   ]
  },
  {
   "cell_type": "code",
   "execution_count": 17,
   "id": "1ce8c113",
   "metadata": {},
   "outputs": [
    {
     "data": {
      "image/png": "[encoded data removed]",
      "text/plain": [
       "<Figure size 432x288 with 1 Axes>"
      ]
     },
     "metadata": {
      "needs_background": "light"
     },
     "output_type": "display_data"
    }
   ],
   "source": [
    "# Autos class\n",
    "\n",
    "corpus = create_corpus(7)\n",
    "counter=Counter(corpus)\n",
    "most=counter.most_common()\n",
    "x=[]\n",
    "y=[]\n",
    "for word,count in most[:60]:\n",
    "    if (word not in stop) :\n",
    "        x.append(word)\n",
    "        y.append(count)\n",
    "ax = sns.barplot(x=y,y=x)\n",
    "ax.set(xlabel=\"Frequency\", ylabel = \"Most common words autos class\")\n",
    "plt.savefig('words_autos.png')"
   ]
  },
  {
   "cell_type": "code",
   "execution_count": 18,
   "id": "a40c842a",
   "metadata": {},
   "outputs": [
    {
     "data": {
      "image/png": "[encoded data removed]",
      "text/plain": [
       "<Figure size 432x288 with 1 Axes>"
      ]
     },
     "metadata": {
      "needs_background": "light"
     },
     "output_type": "display_data"
    }
   ],
   "source": [
    "# Politics class\n",
    "\n",
    "corpus = create_corpus(18)\n",
    "counter=Counter(corpus)\n",
    "most=counter.most_common()\n",
    "x=[]\n",
    "y=[]\n",
    "for word,count in most[:60]:\n",
    "    if (word not in stop) :\n",
    "        x.append(word)\n",
    "        y.append(count)\n",
    "ax = sns.barplot(x=y,y=x)\n",
    "ax.set(xlabel=\"Frequency\", ylabel = \"Most common words politics class\")\n",
    "plt.savefig('words_politics.png')"
   ]
  },
  {
   "cell_type": "code",
   "execution_count": 19,
   "id": "5ea41a03",
   "metadata": {},
   "outputs": [
    {
     "data": {
      "image/png": "[encoded data removed]",
      "text/plain": [
       "<Figure size 432x288 with 1 Axes>"
      ]
     },
     "metadata": {
      "needs_background": "light"
     },
     "output_type": "display_data"
    }
   ],
   "source": [
    "# Religion class\n",
    "\n",
    "corpus = create_corpus(19)\n",
    "counter=Counter(corpus)\n",
    "most=counter.most_common()\n",
    "x=[]\n",
    "y=[]\n",
    "for word,count in most[:60]:\n",
    "    if (word not in stop) :\n",
    "        x.append(word)\n",
    "        y.append(count)\n",
    "ax = sns.barplot(x=y,y=x)\n",
    "ax.set(xlabel=\"Frequency\", ylabel = \"Most common words religion class\")\n",
    "plt.savefig('words_religion.png')"
   ]
  }
 ],
 "metadata": {
  "kernelspec": {
   "display_name": "Python 3 (ipykernel)",
   "language": "python",
   "name": "python3"
  },
  "language_info": {
   "codemirror_mode": {
    "name": "ipython",
    "version": 3
   },
   "file_extension": ".py",
   "mimetype": "text/x-python",
   "name": "python",
   "nbconvert_exporter": "python",
   "pygments_lexer": "ipython3",
   "version": "3.9.12"
  }
 },
 "nbformat": 4,
 "nbformat_minor": 5
}
