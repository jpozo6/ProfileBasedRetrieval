{
 "cells": [
  {
   "cell_type": "code",
   "execution_count": 38,
   "id": "907af995-b3ce-4e16-a834-8d28fe9fd3c2",
   "metadata": {},
   "outputs": [],
   "source": [
    "import pandas as pd\n",
    "import numpy as np\n",
    "#for text pre-processing\n",
    "import re, string\n",
    "import nltk\n",
    "from nltk.tokenize import word_tokenize\n",
    "from nltk.corpus import stopwords\n",
    "from nltk.tokenize import word_tokenize\n",
    "from nltk.stem import SnowballStemmer\n",
    "from nltk.corpus import wordnet\n",
    "from nltk.stem import WordNetLemmatizer\n",
    "#nltk.download('punkt')\n",
    "#nltk.download('averaged_perceptron_tagger')\n",
    "#nltk.download('wordnet')\n",
    "#for model-building\n",
    "from sklearn.model_selection import train_test_split\n",
    "from sklearn.linear_model import LogisticRegression\n",
    "from sklearn.naive_bayes import MultinomialNB\n",
    "from sklearn.metrics import classification_report, f1_score, accuracy_score, confusion_matrix\n",
    "from sklearn.metrics import roc_curve, auc, roc_auc_score\n",
    "# bag of words\n",
    "from sklearn.feature_extraction.text import TfidfVectorizer\n",
    "from sklearn.feature_extraction.text import CountVectorizer\n",
    "#for word embedding\n",
    "import gensim\n",
    "from gensim.models.doc2vec import Doc2Vec, TaggedDocument "
   ]
  },
  {
   "cell_type": "code",
   "execution_count": 3,
   "id": "f9cdee80-28fd-4de7-9923-3952c00e1f25",
   "metadata": {},
   "outputs": [],
   "source": [
    "from sklearn.datasets import fetch_20newsgroups\n",
    "import pandas as pd\n",
    "\n",
    "def twenty_newsgroup_to_csv():\n",
    "    newsgroups_train = fetch_20newsgroups(subset='all', remove=('headers', 'footers', 'quotes'))\n",
    "\n",
    "    df = pd.DataFrame([newsgroups_train.data, newsgroups_train.target.tolist()]).T\n",
    "    df.columns = ['text', 'target']\n",
    "\n",
    "    targets = pd.DataFrame( newsgroups_train.target_names)\n",
    "    targets.columns=['title']\n",
    "\n",
    "    out = pd.merge(df, targets, left_on='target', right_index=True)\n",
    "    out['date'] = pd.to_datetime('now')\n",
    "    out.to_csv('20_newsgroup.csv')\n",
    "    \n",
    "twenty_newsgroup_to_csv()"
   ]
  },
  {
   "cell_type": "code",
   "execution_count": 4,
   "id": "49c7f371-130e-4835-98e4-f2188fadfee6",
   "metadata": {},
   "outputs": [
    {
     "data": {
      "text/html": [
       "<div>\n",
       "<style scoped>\n",
       "    .dataframe tbody tr th:only-of-type {\n",
       "        vertical-align: middle;\n",
       "    }\n",
       "\n",
       "    .dataframe tbody tr th {\n",
       "        vertical-align: top;\n",
       "    }\n",
       "\n",
       "    .dataframe thead th {\n",
       "        text-align: right;\n",
       "    }\n",
       "</style>\n",
       "<table border=\"1\" class=\"dataframe\">\n",
       "  <thead>\n",
       "    <tr style=\"text-align: right;\">\n",
       "      <th></th>\n",
       "      <th>text</th>\n",
       "      <th>target</th>\n",
       "      <th>title</th>\n",
       "      <th>date</th>\n",
       "    </tr>\n",
       "  </thead>\n",
       "  <tbody>\n",
       "    <tr>\n",
       "      <th>9</th>\n",
       "      <td>\\nIf a Christian means someone who believes in...</td>\n",
       "      <td>19</td>\n",
       "      <td>talk.religion.misc</td>\n",
       "      <td>2022-04-04 11:36:57.825348</td>\n",
       "    </tr>\n",
       "    <tr>\n",
       "      <th>10</th>\n",
       "      <td>the blood of the lamb.\\n\\nThis will be a hard ...</td>\n",
       "      <td>19</td>\n",
       "      <td>talk.religion.misc</td>\n",
       "      <td>2022-04-04 11:36:57.825348</td>\n",
       "    </tr>\n",
       "    <tr>\n",
       "      <th>12</th>\n",
       "      <td>930418\\n\\nDo what thou wilt shall be the whole...</td>\n",
       "      <td>19</td>\n",
       "      <td>talk.religion.misc</td>\n",
       "      <td>2022-04-04 11:36:57.825348</td>\n",
       "    </tr>\n",
       "    <tr>\n",
       "      <th>40</th>\n",
       "      <td>\\n\\nNo.  Zeno's paradox is resolved by showing...</td>\n",
       "      <td>19</td>\n",
       "      <td>talk.religion.misc</td>\n",
       "      <td>2022-04-04 11:36:57.825348</td>\n",
       "    </tr>\n",
       "    <tr>\n",
       "      <th>58</th>\n",
       "      <td>\\nDefinitely, J.R. \"Bob\" Dobbs, numero uno, to...</td>\n",
       "      <td>19</td>\n",
       "      <td>talk.religion.misc</td>\n",
       "      <td>2022-04-04 11:36:57.825348</td>\n",
       "    </tr>\n",
       "  </tbody>\n",
       "</table>\n",
       "</div>"
      ],
      "text/plain": [
       "                                                 text  target  \\\n",
       "9   \\nIf a Christian means someone who believes in...      19   \n",
       "10  the blood of the lamb.\\n\\nThis will be a hard ...      19   \n",
       "12  930418\\n\\nDo what thou wilt shall be the whole...      19   \n",
       "40  \\n\\nNo.  Zeno's paradox is resolved by showing...      19   \n",
       "58  \\nDefinitely, J.R. \"Bob\" Dobbs, numero uno, to...      19   \n",
       "\n",
       "                 title                        date  \n",
       "9   talk.religion.misc  2022-04-04 11:36:57.825348  \n",
       "10  talk.religion.misc  2022-04-04 11:36:57.825348  \n",
       "12  talk.religion.misc  2022-04-04 11:36:57.825348  \n",
       "40  talk.religion.misc  2022-04-04 11:36:57.825348  \n",
       "58  talk.religion.misc  2022-04-04 11:36:57.825348  "
      ]
     },
     "execution_count": 4,
     "metadata": {},
     "output_type": "execute_result"
    }
   ],
   "source": [
    "data = pd.read_csv('20_newsgroup.csv', index_col = 0)\n",
    "# Select only 5 classes\n",
    "class_mask = data[\"target\"].isin([7,9,13,18,19])\n",
    "data = data[class_mask]\n",
    "data.head()"
   ]
  },
  {
   "cell_type": "code",
   "execution_count": 5,
   "id": "911094be-f472-4664-b2ba-6eec9f0abc1e",
   "metadata": {},
   "outputs": [],
   "source": [
    "#SPLITTING THE TRAINING DATASET INTO TRAIN AND TEST\n",
    "df_train, df_test = train_test_split(data,test_size=0.2,shuffle=True)"
   ]
  },
  {
   "cell_type": "code",
   "execution_count": 6,
   "id": "aa57297f-2bde-4162-a99d-49b210cc5dc4",
   "metadata": {},
   "outputs": [
    {
     "name": "stdout",
     "output_type": "stream",
     "text": [
      "Requirement already satisfied: seaborn in c:\\users\\javij\\anaconda3\\lib\\site-packages (0.11.2)\n",
      "Requirement already satisfied: pandas>=0.23 in c:\\users\\javij\\anaconda3\\lib\\site-packages (from seaborn) (1.3.4)\n",
      "Requirement already satisfied: matplotlib>=2.2 in c:\\users\\javij\\anaconda3\\lib\\site-packages (from seaborn) (3.5.0)\n",
      "Requirement already satisfied: scipy>=1.0 in c:\\users\\javij\\anaconda3\\lib\\site-packages (from seaborn) (1.7.1)\n",
      "Requirement already satisfied: numpy>=1.15 in c:\\users\\javij\\anaconda3\\lib\\site-packages (from seaborn) (1.20.3)\n",
      "Requirement already satisfied: kiwisolver>=1.0.1 in c:\\users\\javij\\anaconda3\\lib\\site-packages (from matplotlib>=2.2->seaborn) (1.3.1)\n",
      "Requirement already satisfied: fonttools>=4.22.0 in c:\\users\\javij\\anaconda3\\lib\\site-packages (from matplotlib>=2.2->seaborn) (4.25.0)\n",
      "Requirement already satisfied: packaging>=20.0 in c:\\users\\javij\\anaconda3\\lib\\site-packages (from matplotlib>=2.2->seaborn) (21.3)\n",
      "Requirement already satisfied: cycler>=0.10 in c:\\users\\javij\\anaconda3\\lib\\site-packages (from matplotlib>=2.2->seaborn) (0.11.0)\n",
      "Requirement already satisfied: pillow>=6.2.0 in c:\\users\\javij\\anaconda3\\lib\\site-packages (from matplotlib>=2.2->seaborn) (8.4.0)\n",
      "Requirement already satisfied: python-dateutil>=2.7 in c:\\users\\javij\\anaconda3\\lib\\site-packages (from matplotlib>=2.2->seaborn) (2.8.2)\n",
      "Requirement already satisfied: pyparsing>=2.2.1 in c:\\users\\javij\\anaconda3\\lib\\site-packages (from matplotlib>=2.2->seaborn) (3.0.4)\n",
      "Requirement already satisfied: pytz>=2017.3 in c:\\users\\javij\\anaconda3\\lib\\site-packages (from pandas>=0.23->seaborn) (2021.3)\n",
      "Requirement already satisfied: six>=1.5 in c:\\users\\javij\\anaconda3\\lib\\site-packages (from python-dateutil>=2.7->matplotlib>=2.2->seaborn) (1.16.0)\n"
     ]
    }
   ],
   "source": [
    "! pip install seaborn"
   ]
  },
  {
   "cell_type": "code",
   "execution_count": 7,
   "id": "919c2c65-a552-4f00-af79-c346c20650e1",
   "metadata": {},
   "outputs": [],
   "source": [
    "import seaborn as sns\n",
    "import matplotlib.pyplot as plt"
   ]
  },
  {
   "cell_type": "code",
   "execution_count": 8,
   "id": "6ee01663-97eb-45bb-ad01-16e60ebc6f3b",
   "metadata": {},
   "outputs": [
    {
     "name": "stdout",
     "output_type": "stream",
     "text": [
      "13    808\n",
      "7     799\n",
      "9     771\n",
      "18    619\n",
      "19    504\n",
      "Name: target, dtype: int64\n"
     ]
    },
    {
     "name": "stderr",
     "output_type": "stream",
     "text": [
      "C:\\Users\\javij\\anaconda3\\lib\\site-packages\\seaborn\\_decorators.py:36: FutureWarning: Pass the following variables as keyword args: x, y. From version 0.12, the only valid positional argument will be `data`, and passing other arguments without an explicit keyword will result in an error or misinterpretation.\n",
      "  warnings.warn(\n"
     ]
    },
    {
     "data": {
      "text/plain": [
       "<AxesSubplot:ylabel='target'>"
      ]
     },
     "execution_count": 8,
     "metadata": {},
     "output_type": "execute_result"
    },
    {
     "data": {
      "image/png": "[encoded data removed]",
      "text/plain": [
       "<Figure size 432x288 with 1 Axes>"
      ]
     },
     "metadata": {
      "needs_background": "light"
     },
     "output_type": "display_data"
    }
   ],
   "source": [
    "x=df_train['target'].value_counts()\n",
    "print(x)\n",
    "sns.barplot(x.index,x)"
   ]
  },
  {
   "cell_type": "code",
   "execution_count": 9,
   "id": "8d871b9b-6af5-422c-aeb3-32402d8136a9",
   "metadata": {},
   "outputs": [
    {
     "data": {
      "text/plain": [
       "text      96\n",
       "target     0\n",
       "title      0\n",
       "date       0\n",
       "dtype: int64"
      ]
     },
     "execution_count": 9,
     "metadata": {},
     "output_type": "execute_result"
    }
   ],
   "source": [
    "df_train.isna().sum()"
   ]
  },
  {
   "cell_type": "code",
   "execution_count": 10,
   "id": "ef8f724b-0a2f-4617-9759-d19f4c0407c4",
   "metadata": {},
   "outputs": [
    {
     "name": "stdout",
     "output_type": "stream",
     "text": [
      "nan\n",
      "nan\n"
     ]
    }
   ],
   "source": [
    "# WORD-COUNT\n",
    "df_train['word_count'] = df_train['text'].apply(lambda x: len(str(x).split()))\n",
    "print(df_train[df_train['target']==1]['word_count'].mean()) #Disaster tweets\n",
    "print(df_train[df_train['target']==0]['word_count'].mean()) #Non-Disaster tweets"
   ]
  },
  {
   "cell_type": "code",
   "execution_count": 11,
   "id": "ecce4817-2942-4e72-bb72-111350b6791e",
   "metadata": {},
   "outputs": [],
   "source": [
    "df_train = df_train.dropna()"
   ]
  },
  {
   "cell_type": "code",
   "execution_count": 12,
   "id": "8b0c4d5c-aa47-47ce-891c-552eda64cc0c",
   "metadata": {},
   "outputs": [
    {
     "data": {
      "image/png": "[encoded data removed]",
      "text/plain": [
       "<Figure size 720x288 with 2 Axes>"
      ]
     },
     "metadata": {
      "needs_background": "light"
     },
     "output_type": "display_data"
    }
   ],
   "source": [
    "# PLOTTING WORD-COUNT\n",
    "fig,(ax1,ax2)=plt.subplots(1,2,figsize=(10,4))\n",
    "train_words=df_train[df_train['target']==7]['word_count']\n",
    "ax1.hist(train_words,color='red')\n",
    "ax1.set_title('Cars')\n",
    "train_words=df_train[df_train['target']==9]['word_count']\n",
    "ax2.hist(train_words,color='green')\n",
    "ax2.set_title('Baseball')\n",
    "fig.suptitle('Words per post')\n",
    "plt.show()"
   ]
  },
  {
   "cell_type": "code",
   "execution_count": 13,
   "id": "20b15769-6aa7-4d85-a5c4-691741c9f820",
   "metadata": {},
   "outputs": [
    {
     "name": "stdout",
     "output_type": "stream",
     "text": [
      "655.9084967320262\n",
      "741.845126835781\n"
     ]
    }
   ],
   "source": [
    "# CHARACTER-COUNT\n",
    "df_train['char_count'] = df_train['text'].apply(lambda x: len(str(x)))\n",
    "print(df_train[df_train['target']==7]['char_count'].mean()) # Cars\n",
    "print(df_train[df_train['target']==9]['char_count'].mean()) # Baseball"
   ]
  },
  {
   "cell_type": "code",
   "execution_count": 14,
   "id": "e9f8b7b8-6d08-4f05-9d64-ae7969f9bd65",
   "metadata": {},
   "outputs": [],
   "source": [
    "#convert to lowercase, strip and remove punctuations\n",
    "def preprocess(text):\n",
    "    text = text.lower() \n",
    "    text=text.strip()  \n",
    "    text=re.compile('<.*?>').sub('', text) \n",
    "    text = re.compile('[%s]' % re.escape(string.punctuation)).sub(' ', text)  \n",
    "    text = re.sub('\\s+', ' ', text)  \n",
    "    text = re.sub(r'\\[[0-9]*\\]',' ',text) \n",
    "    text=re.sub(r'[^\\w\\s]', '', str(text).lower().strip())\n",
    "    text = re.sub(r'\\d',' ',text) \n",
    "    text = re.sub(r'\\s+',' ',text) \n",
    "    return text\n",
    "\n",
    " \n",
    "# STOPWORD REMOVAL\n",
    "def stopword(string):\n",
    "    a= [i for i in string.split() if i not in stopwords.words('english')]\n",
    "    return ' '.join(a)\n",
    "#LEMMATIZATION\n",
    "# Initialize the lemmatizer\n",
    "wl = WordNetLemmatizer()\n",
    " \n",
    "# This is a helper function to map NTLK position tags\n",
    "def get_wordnet_pos(tag):\n",
    "    if tag.startswith('J'):\n",
    "        return wordnet.ADJ\n",
    "    elif tag.startswith('V'):\n",
    "        return wordnet.VERB\n",
    "    elif tag.startswith('N'):\n",
    "        return wordnet.NOUN\n",
    "    elif tag.startswith('R'):\n",
    "        return wordnet.ADV\n",
    "    else:\n",
    "        return wordnet.NOUN\n",
    "# Tokenize the sentence\n",
    "def lemmatizer(string):\n",
    "    word_pos_tags = nltk.pos_tag(word_tokenize(string)) # Get position tags\n",
    "    a=[wl.lemmatize(tag[0], get_wordnet_pos(tag[1])) for idx, tag in enumerate(word_pos_tags)] # Map the position tag and lemmatize the word/token\n",
    "    return \" \".join(a)"
   ]
  },
  {
   "cell_type": "code",
   "execution_count": 15,
   "id": "b63e9a0c-29ca-40f0-ab3e-28873f0fee9c",
   "metadata": {},
   "outputs": [
    {
     "data": {
      "text/html": [
       "<div>\n",
       "<style scoped>\n",
       "    .dataframe tbody tr th:only-of-type {\n",
       "        vertical-align: middle;\n",
       "    }\n",
       "\n",
       "    .dataframe tbody tr th {\n",
       "        vertical-align: top;\n",
       "    }\n",
       "\n",
       "    .dataframe thead th {\n",
       "        text-align: right;\n",
       "    }\n",
       "</style>\n",
       "<table border=\"1\" class=\"dataframe\">\n",
       "  <thead>\n",
       "    <tr style=\"text-align: right;\">\n",
       "      <th></th>\n",
       "      <th>text</th>\n",
       "      <th>target</th>\n",
       "      <th>title</th>\n",
       "      <th>date</th>\n",
       "      <th>word_count</th>\n",
       "      <th>char_count</th>\n",
       "      <th>clean_text</th>\n",
       "    </tr>\n",
       "  </thead>\n",
       "  <tbody>\n",
       "    <tr>\n",
       "      <th>1145</th>\n",
       "      <td>To: smithmc@mentor.cc.purdue.edu (Lost Boy)\\n\\...</td>\n",
       "      <td>13</td>\n",
       "      <td>sci.med</td>\n",
       "      <td>2022-04-04 11:36:57.825348</td>\n",
       "      <td>85</td>\n",
       "      <td>464</td>\n",
       "      <td>smithmc mentor cc purdue edu lose boy lb know ...</td>\n",
       "    </tr>\n",
       "    <tr>\n",
       "      <th>17842</th>\n",
       "      <td>Once, on Jeopardy, the category was \"Jewish Sp...</td>\n",
       "      <td>9</td>\n",
       "      <td>rec.sport.baseball</td>\n",
       "      <td>2022-04-04 11:36:57.825348</td>\n",
       "      <td>47</td>\n",
       "      <td>276</td>\n",
       "      <td>jeopardy category jewish sport hero believe an...</td>\n",
       "    </tr>\n",
       "    <tr>\n",
       "      <th>2522</th>\n",
       "      <td>\\nPerhaps it's time to start rec.sport.basebal...</td>\n",
       "      <td>9</td>\n",
       "      <td>rec.sport.baseball</td>\n",
       "      <td>2022-04-04 11:36:57.825348</td>\n",
       "      <td>26</td>\n",
       "      <td>156</td>\n",
       "      <td>perhaps time start rec sport baseball graffiti...</td>\n",
       "    </tr>\n",
       "    <tr>\n",
       "      <th>16069</th>\n",
       "      <td>Pitchers are required to pitch (or feint or at...</td>\n",
       "      <td>9</td>\n",
       "      <td>rec.sport.baseball</td>\n",
       "      <td>2022-04-04 11:36:57.825348</td>\n",
       "      <td>66</td>\n",
       "      <td>410</td>\n",
       "      <td>pitcher require pitch feint attempt pick withi...</td>\n",
       "    </tr>\n",
       "    <tr>\n",
       "      <th>16952</th>\n",
       "      <td>THE WHITE HOUSE\\n\\n                    Office ...</td>\n",
       "      <td>18</td>\n",
       "      <td>talk.politics.misc</td>\n",
       "      <td>2022-04-04 11:36:57.825348</td>\n",
       "      <td>6795</td>\n",
       "      <td>44083</td>\n",
       "      <td>white house office press secretary immediate r...</td>\n",
       "    </tr>\n",
       "  </tbody>\n",
       "</table>\n",
       "</div>"
      ],
      "text/plain": [
       "                                                    text  target  \\\n",
       "1145   To: smithmc@mentor.cc.purdue.edu (Lost Boy)\\n\\...      13   \n",
       "17842  Once, on Jeopardy, the category was \"Jewish Sp...       9   \n",
       "2522   \\nPerhaps it's time to start rec.sport.basebal...       9   \n",
       "16069  Pitchers are required to pitch (or feint or at...       9   \n",
       "16952  THE WHITE HOUSE\\n\\n                    Office ...      18   \n",
       "\n",
       "                    title                        date  word_count  char_count  \\\n",
       "1145              sci.med  2022-04-04 11:36:57.825348          85         464   \n",
       "17842  rec.sport.baseball  2022-04-04 11:36:57.825348          47         276   \n",
       "2522   rec.sport.baseball  2022-04-04 11:36:57.825348          26         156   \n",
       "16069  rec.sport.baseball  2022-04-04 11:36:57.825348          66         410   \n",
       "16952  talk.politics.misc  2022-04-04 11:36:57.825348        6795       44083   \n",
       "\n",
       "                                              clean_text  \n",
       "1145   smithmc mentor cc purdue edu lose boy lb know ...  \n",
       "17842  jeopardy category jewish sport hero believe an...  \n",
       "2522   perhaps time start rec sport baseball graffiti...  \n",
       "16069  pitcher require pitch feint attempt pick withi...  \n",
       "16952  white house office press secretary immediate r...  "
      ]
     },
     "execution_count": 15,
     "metadata": {},
     "output_type": "execute_result"
    }
   ],
   "source": [
    "def finalpreprocess(string):\n",
    "    return lemmatizer(stopword(preprocess(string)))\n",
    "df_train['clean_text'] = df_train['text'].apply(lambda x: finalpreprocess(x))\n",
    "df_train.head()"
   ]
  },
  {
   "cell_type": "code",
   "execution_count": 16,
   "id": "7439679a-6299-44ca-a0f8-511e83b7aba4",
   "metadata": {},
   "outputs": [],
   "source": [
    "#SPLITTING THE TRAINING DATASET INTO TRAIN AND TEST\n",
    "X_train, X_test, y_train, y_test = train_test_split(df_train[\"clean_text\"],df_train[\"target\"],test_size=0.2,shuffle=True)\n",
    "#Word2Vec\n",
    "# Word2Vec runs on tokenized sentences\n",
    "X_train_tok= [nltk.word_tokenize(i) for i in X_train]  \n",
    "X_test_tok= [nltk.word_tokenize(i) for i in X_test]"
   ]
  },
  {
   "cell_type": "code",
   "execution_count": 42,
   "id": "f3c7e20f",
   "metadata": {},
   "outputs": [],
   "source": [
    "#Tf-Idf vectorizer\n",
    "tfidf_vectorizer = TfidfVectorizer(use_idf=True)\n",
    "X_train_vectors_tfidf = tfidf_vectorizer.fit_transform(X_train) \n",
    "X_test_vectors_tfidf = tfidf_vectorizer.transform(X_test)"
   ]
  },
  {
   "cell_type": "code",
   "execution_count": 48,
   "id": "6253135d-6143-4fb9-9ec7-10cbf3429192",
   "metadata": {},
   "outputs": [],
   "source": [
    "train_docs = [TaggedDocument(doc.split(' '), [i]) \n",
    "             for i, doc in enumerate(df_train.clean_text)]\n",
    "\n",
    "#df_train['clean_text_tok']=[nltk.word_tokenize(i) for i in df_train['clean_text']]\n",
    "#model = Doc2Vec(df_train['clean_text_tok'],min_count=1) \n",
    "#model.train(df_train['clean_text_tok'],total_examples=model.corpus_count,epochs=model.epochs) \n",
    "#vocabulary = model.wv.key_to_index\n",
    "#print(vocabulary)\n",
    "#X_train_vectors_w2v = model.infer_vector(X_train)\n",
    "\n",
    "\n",
    "#build the model\n",
    "model = Doc2Vec(vector_size=64, window=2, min_count=1, workers=8, epochs = 40)\n",
    "#build vocab\n",
    "model.build_vocab(train_docs)\n",
    "#train model\n",
    "model.train(train_docs, total_examples=model.corpus_count, epochs=model.epochs)\n",
    "\n",
    "#w2v = dict(zip(model.wv.index_to_key, model.wv.syn0)) \n",
    "#modelw = MeanEmbeddingVectorizer(w2v)\n",
    "# converting text to numerical data using Word2Vec\n",
    "#X_train_vectors_w2v = modelw.transform(X_train_tok)\n",
    "#X_val_vectors_w2v = modelw.transform(X_test_tok)"
   ]
  },
  {
   "cell_type": "code",
   "execution_count": 55,
   "id": "82f9da89",
   "metadata": {},
   "outputs": [
    {
     "data": {
      "text/plain": [
       "[array([-0.25874043,  1.1185209 ,  0.3120277 , -0.35389134, -1.5458192 ,\n",
       "        -1.68722   , -0.68962353, -2.906109  , -0.5213135 ,  0.06566475,\n",
       "        -0.8651967 ,  1.5320686 , -0.31730762, -0.59954286, -0.6015005 ,\n",
       "        -0.80938417, -0.8053903 ,  0.3246122 , -0.9974956 , -0.13016574,\n",
       "         1.0021578 ,  0.43067658, -1.8008988 , -3.5852244 ,  1.235158  ,\n",
       "         1.4656229 ,  1.1663276 ,  1.3954955 ,  1.3334296 ,  0.51781756,\n",
       "        -0.84291404,  1.3346603 ,  0.5383233 , -0.48546964, -0.84437084,\n",
       "        -0.94789004, -1.2345388 , -0.15339524,  0.8073576 , -1.1992388 ,\n",
       "         1.1331251 ,  0.06544114,  0.18559176, -0.7354784 ,  1.0213753 ,\n",
       "         2.5004113 , -2.260173  ,  0.6453216 ,  3.6350408 ,  2.0464845 ,\n",
       "         0.5209505 , -1.2768697 , -1.5271027 , -0.41000056, -1.3828931 ,\n",
       "        -2.4341857 , -0.07375979,  0.68664694,  0.97514474, -0.23778099,\n",
       "        -0.8964627 , -0.43850324, -2.6148975 , -2.1694968 ], dtype=float32)]"
      ]
     },
     "execution_count": 55,
     "metadata": {},
     "output_type": "execute_result"
    }
   ],
   "source": [
    "# Obtain vectors via doc2vec\n",
    "\n",
    "#obtain vectors\n",
    "X_train_w2v = [model.infer_vector((df_train['clean_text']))]\n",
    "X_train_w2v\n",
    "\n"
   ]
  },
  {
   "cell_type": "code",
   "execution_count": 18,
   "id": "9bb4fb4f-72a5-499b-ab8f-882753ae2249",
   "metadata": {},
   "outputs": [
    {
     "name": "stdout",
     "output_type": "stream",
     "text": [
      "              precision    recall  f1-score   support\n",
      "\n",
      "           7       0.84      0.91      0.87       149\n",
      "           9       0.93      0.91      0.92       151\n",
      "          13       0.85      0.94      0.89       145\n",
      "          18       0.84      0.78      0.81       138\n",
      "          19       0.85      0.73      0.79        98\n",
      "\n",
      "    accuracy                           0.86       681\n",
      "   macro avg       0.86      0.85      0.86       681\n",
      "weighted avg       0.86      0.86      0.86       681\n",
      "\n",
      "Confusion Matrix: [[135   5   5   4   0]\n",
      " [  4 138   5   3   1]\n",
      " [  3   2 136   2   2]\n",
      " [ 10   2   9 107  10]\n",
      " [  8   2   5  11  72]]\n",
      "Test Accuracy of Logistic Regression(tf-idf) is 0.8634361233480177 \n",
      "\n",
      "Test Balanced Accuracy of Logistic Regression(tf-idf) is 0.8535869568197894 \n",
      "\n",
      "Test F1-score weighted of Logistic Regression(tf-idf) is 0.8619411361225265 \n",
      "\n"
     ]
    }
   ],
   "source": [
    "#FITTING THE CLASSIFICATION MODEL using Logistic Regression(tf-idf)\n",
    "lr_tfidf=LogisticRegression(solver = 'liblinear', C=10, penalty = 'l2')\n",
    "lr_tfidf.fit(X_train_vectors_tfidf, y_train)  \n",
    "#Predict y value for test dataset\n",
    "y_predict = lr_tfidf.predict(X_test_vectors_tfidf)\n",
    "y_prob = lr_tfidf.predict_proba(X_test_vectors_tfidf)[:,1]\n",
    "print(classification_report(y_test,y_predict))\n",
    "print('Confusion Matrix:',confusion_matrix(y_test, y_predict))\n",
    "\n",
    "from sklearn.metrics import accuracy_score, confusion_matrix, classification_report, f1_score, balanced_accuracy_score\n",
    "\n",
    "svm_acc = accuracy_score(y_test, y_predict)\n",
    "svm_f1 = f1_score(y_test, y_predict, average ='weighted')\n",
    "svm_bacc = balanced_accuracy_score(y_test, y_predict)\n",
    "\n",
    "print(f\"Test Accuracy of Logistic Regression(tf-idf) is {svm_acc} \\n\")\n",
    "print(f\"Test Balanced Accuracy of Logistic Regression(tf-idf) is {svm_bacc} \\n\")\n",
    "print(f\"Test F1-score weighted of Logistic Regression(tf-idf) is {svm_f1} \\n\")"
   ]
  },
  {
   "cell_type": "code",
   "execution_count": 19,
   "id": "bb36c67f-a330-490a-8d8b-152c0ec31d64",
   "metadata": {},
   "outputs": [
    {
     "name": "stdout",
     "output_type": "stream",
     "text": [
      "              precision    recall  f1-score   support\n",
      "\n",
      "           7       0.93      0.94      0.94       149\n",
      "           9       0.91      0.93      0.92       151\n",
      "          13       0.71      0.96      0.82       145\n",
      "          18       0.85      0.78      0.81       138\n",
      "          19       0.96      0.54      0.69        98\n",
      "\n",
      "    accuracy                           0.85       681\n",
      "   macro avg       0.87      0.83      0.83       681\n",
      "weighted avg       0.87      0.85      0.85       681\n",
      "\n",
      "Confusion Matrix: [[140   1   6   2   0]\n",
      " [  0 140  11   0   0]\n",
      " [  3   2 139   0   1]\n",
      " [  5   3  22 107   1]\n",
      " [  2   8  18  17  53]]\n",
      "Test Accuracy of Naive Bayes(tf-idf) is 0.8502202643171806 \n",
      "\n",
      "Test Balanced Accuracy of Naive Bayes(tf-idf) is 0.8283097936686801 \n",
      "\n",
      "Test F1-score weighted of Naive Bayes(tf-idf) is 0.8459984262704484 \n",
      "\n"
     ]
    }
   ],
   "source": [
    "#FITTING THE CLASSIFICATION MODEL using Naive Bayes(tf-idf)\n",
    "nb_tfidf = MultinomialNB()\n",
    "nb_tfidf.fit(X_train_vectors_tfidf, y_train)  \n",
    "#Predict y value for test dataset\n",
    "y_predict = nb_tfidf.predict(X_test_vectors_tfidf)\n",
    "y_prob = nb_tfidf.predict_proba(X_test_vectors_tfidf)[:,1]\n",
    "print(classification_report(y_test,y_predict))\n",
    "print('Confusion Matrix:',confusion_matrix(y_test, y_predict))\n",
    "\n",
    "svm_acc = accuracy_score(y_test, y_predict)\n",
    "svm_f1 = f1_score(y_test, y_predict, average ='weighted')\n",
    "svm_bacc = balanced_accuracy_score(y_test, y_predict)\n",
    "\n",
    "print(f\"Test Accuracy of Naive Bayes(tf-idf) is {svm_acc} \\n\")\n",
    "print(f\"Test Balanced Accuracy of Naive Bayes(tf-idf) is {svm_bacc} \\n\")\n",
    "print(f\"Test F1-score weighted of Naive Bayes(tf-idf) is {svm_f1} \\n\")"
   ]
  }
 ],
 "metadata": {
  "kernelspec": {
   "display_name": "Python 3 (ipykernel)",
   "language": "python",
   "name": "python3"
  },
  "language_info": {
   "codemirror_mode": {
    "name": "ipython",
    "version": 3
   },
   "file_extension": ".py",
   "mimetype": "text/x-python",
   "name": "python",
   "nbconvert_exporter": "python",
   "pygments_lexer": "ipython3",
   "version": "3.8.8"
  }
 },
 "nbformat": 4,
 "nbformat_minor": 5
}
