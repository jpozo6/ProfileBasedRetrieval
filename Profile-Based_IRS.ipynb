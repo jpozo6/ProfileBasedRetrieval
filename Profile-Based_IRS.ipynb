{
 "cells": [
  {
   "cell_type": "markdown",
   "id": "ef06834e",
   "metadata": {},
   "source": [
    "# Profile Based Information Retrieval System\n",
    "### Carlos Alcoba, Javier Jiménez, Javier Pozo"
   ]
  },
  {
   "cell_type": "markdown",
   "id": "f21450f4",
   "metadata": {},
   "source": [
    "## Install and import libraries"
   ]
  },
  {
   "cell_type": "code",
   "execution_count": 2,
   "id": "1cf6f92b",
   "metadata": {},
   "outputs": [
    {
     "name": "stdout",
     "output_type": "stream",
     "text": [
      "Collecting absl-py==1.0.0\n",
      "  Using cached absl_py-1.0.0-py3-none-any.whl (126 kB)\n",
      "Collecting astunparse==1.6.3\n",
      "  Using cached astunparse-1.6.3-py2.py3-none-any.whl (12 kB)\n",
      "Requirement already satisfied: brotlipy==0.7.0 in c:\\users\\carlo\\.conda\\envs\\prueba_pb\\lib\\site-packages (from -r requirements.txt (line 3)) (0.7.0)\n",
      "Collecting cachetools==5.0.0\n",
      "  Using cached cachetools-5.0.0-py3-none-any.whl (9.1 kB)\n",
      "Requirement already satisfied: certifi==2021.10.8 in c:\\users\\carlo\\.conda\\envs\\prueba_pb\\lib\\site-packages (from -r requirements.txt (line 5)) (2021.10.8)\n",
      "Collecting click==8.1.2\n",
      "  Using cached click-8.1.2-py3-none-any.whl (96 kB)\n",
      "Collecting cycler==0.11.0\n",
      "  Using cached cycler-0.11.0-py3-none-any.whl (6.4 kB)\n",
      "Collecting Cython==0.29.23\n",
      "  Using cached Cython-0.29.23-cp39-cp39-win_amd64.whl (1.7 MB)\n",
      "Requirement already satisfied: entrypoints==0.3 in c:\\users\\carlo\\.conda\\envs\\prueba_pb\\lib\\site-packages (from -r requirements.txt (line 9)) (0.3)\n",
      "Collecting flatbuffers==2.0\n",
      "  Using cached flatbuffers-2.0-py2.py3-none-any.whl (26 kB)\n",
      "Collecting fonttools==4.32.0\n",
      "  Using cached fonttools-4.32.0-py3-none-any.whl (900 kB)\n",
      "Collecting gast==0.5.3\n",
      "  Using cached gast-0.5.3-py3-none-any.whl (19 kB)\n",
      "Collecting gensim==4.1.2\n",
      "  Using cached gensim-4.1.2-cp39-cp39-win_amd64.whl (24.0 MB)\n",
      "Collecting google-auth==2.6.3\n",
      "  Using cached google_auth-2.6.3-py2.py3-none-any.whl (156 kB)\n",
      "Collecting google-auth-oauthlib==0.4.6\n",
      "  Using cached google_auth_oauthlib-0.4.6-py2.py3-none-any.whl (18 kB)\n",
      "Collecting google-pasta==0.2.0\n",
      "  Using cached google_pasta-0.2.0-py3-none-any.whl (57 kB)\n",
      "Collecting grpcio==1.44.0\n",
      "  Using cached grpcio-1.44.0-cp39-cp39-win_amd64.whl (3.4 MB)\n",
      "Collecting h5py==3.6.0\n",
      "  Using cached h5py-3.6.0-cp39-cp39-win_amd64.whl (2.8 MB)\n",
      "Collecting joblib==1.1.0\n",
      "  Using cached joblib-1.1.0-py2.py3-none-any.whl (306 kB)\n",
      "Collecting keras==2.8.0\n",
      "  Using cached keras-2.8.0-py2.py3-none-any.whl (1.4 MB)\n",
      "Collecting Keras-Preprocessing==1.1.2\n",
      "  Using cached Keras_Preprocessing-1.1.2-py2.py3-none-any.whl (42 kB)\n",
      "Collecting kiwisolver==1.4.2\n",
      "  Using cached kiwisolver-1.4.2-cp39-cp39-win_amd64.whl (55 kB)\n",
      "Collecting libclang==13.0.0\n",
      "  Using cached libclang-13.0.0-py2.py3-none-win_amd64.whl (13.9 MB)\n",
      "Collecting Markdown==3.3.6\n",
      "  Using cached Markdown-3.3.6-py3-none-any.whl (97 kB)\n",
      "Collecting matplotlib==3.5.1\n",
      "  Using cached matplotlib-3.5.1-cp39-cp39-win_amd64.whl (7.2 MB)\n",
      "Collecting nltk==3.7\n",
      "  Using cached nltk-3.7-py3-none-any.whl (1.5 MB)\n",
      "Collecting numpy==1.22.3\n",
      "  Using cached numpy-1.22.3-cp39-cp39-win_amd64.whl (14.7 MB)\n",
      "Collecting oauthlib==3.2.0\n",
      "  Using cached oauthlib-3.2.0-py3-none-any.whl (151 kB)\n",
      "Collecting opt-einsum==3.3.0\n",
      "  Using cached opt_einsum-3.3.0-py3-none-any.whl (65 kB)\n",
      "Collecting pandas==1.4.2\n",
      "  Using cached pandas-1.4.2-cp39-cp39-win_amd64.whl (10.5 MB)\n",
      "Collecting Pillow==9.1.0\n",
      "  Using cached Pillow-9.1.0-cp39-cp39-win_amd64.whl (3.3 MB)\n",
      "Collecting protobuf==3.20.0\n",
      "  Using cached protobuf-3.20.0-cp39-cp39-win_amd64.whl (904 kB)\n",
      "Collecting pyasn1==0.4.8\n",
      "  Using cached pyasn1-0.4.8-py2.py3-none-any.whl (77 kB)\n",
      "Collecting pyasn1-modules==0.2.8\n",
      "  Using cached pyasn1_modules-0.2.8-py2.py3-none-any.whl (155 kB)\n",
      "Requirement already satisfied: pytz==2021.3 in c:\\users\\carlo\\.conda\\envs\\prueba_pb\\lib\\site-packages (from -r requirements.txt (line 35)) (2021.3)\n",
      "Requirement already satisfied: pywin32==302 in c:\\users\\carlo\\.conda\\envs\\prueba_pb\\lib\\site-packages (from -r requirements.txt (line 36)) (302)\n",
      "Collecting regex==2022.3.15\n",
      "  Using cached regex-2022.3.15-cp39-cp39-win_amd64.whl (274 kB)\n",
      "Collecting requests-oauthlib==1.3.1\n",
      "  Using cached requests_oauthlib-1.3.1-py2.py3-none-any.whl (23 kB)\n",
      "Collecting rsa==4.8\n",
      "  Using cached rsa-4.8-py3-none-any.whl (39 kB)\n",
      "Collecting scikit-learn==1.0.2\n",
      "  Using cached scikit_learn-1.0.2-cp39-cp39-win_amd64.whl (7.2 MB)\n",
      "Collecting scipy==1.8.0\n",
      "  Using cached scipy-1.8.0-cp39-cp39-win_amd64.whl (36.9 MB)\n",
      "Collecting seaborn==0.11.2\n",
      "  Using cached seaborn-0.11.2-py3-none-any.whl (292 kB)\n",
      "Collecting smart-open==5.2.1\n",
      "  Using cached smart_open-5.2.1-py3-none-any.whl (58 kB)\n",
      "Collecting tensorboard==2.8.0\n",
      "  Using cached tensorboard-2.8.0-py3-none-any.whl (5.8 MB)\n",
      "Collecting tensorboard-data-server==0.6.1\n",
      "  Using cached tensorboard_data_server-0.6.1-py3-none-any.whl (2.4 kB)\n",
      "Collecting tensorboard-plugin-wit==1.8.1\n",
      "  Using cached tensorboard_plugin_wit-1.8.1-py3-none-any.whl (781 kB)\n",
      "Collecting tensorflow==2.8.0\n",
      "  Using cached tensorflow-2.8.0-cp39-cp39-win_amd64.whl (438.0 MB)\n",
      "Collecting tensorflow-io-gcs-filesystem==0.24.0\n",
      "  Using cached tensorflow_io_gcs_filesystem-0.24.0-cp39-cp39-win_amd64.whl (1.5 MB)\n",
      "Collecting termcolor==1.1.0\n",
      "  Using cached termcolor-1.1.0-py3-none-any.whl\n",
      "Collecting tf-estimator-nightly==2.8.0.dev2021122109\n",
      "  Using cached tf_estimator_nightly-2.8.0.dev2021122109-py2.py3-none-any.whl (462 kB)\n",
      "Collecting threadpoolctl==3.1.0\n",
      "  Using cached threadpoolctl-3.1.0-py3-none-any.whl (14 kB)\n",
      "Collecting tqdm==4.64.0\n",
      "  Using cached tqdm-4.64.0-py2.py3-none-any.whl (78 kB)\n",
      "Requirement already satisfied: webencodings==0.5.1 in c:\\users\\carlo\\.conda\\envs\\prueba_pb\\lib\\site-packages (from -r requirements.txt (line 53)) (0.5.1)\n",
      "Collecting Werkzeug==2.1.1\n",
      "  Using cached Werkzeug-2.1.1-py3-none-any.whl (224 kB)\n",
      "Requirement already satisfied: wincertstore==0.2 in c:\\users\\carlo\\.conda\\envs\\prueba_pb\\lib\\site-packages (from -r requirements.txt (line 55)) (0.2)\n",
      "Collecting wrapt==1.14.0\n",
      "  Using cached wrapt-1.14.0-cp39-cp39-win_amd64.whl (36 kB)\n",
      "Requirement already satisfied: six in c:\\users\\carlo\\.conda\\envs\\prueba_pb\\lib\\site-packages (from absl-py==1.0.0->-r requirements.txt (line 1)) (1.16.0)\n",
      "Requirement already satisfied: wheel<1.0,>=0.23.0 in c:\\users\\carlo\\.conda\\envs\\prueba_pb\\lib\\site-packages (from astunparse==1.6.3->-r requirements.txt (line 2)) (0.37.1)\n",
      "Requirement already satisfied: cffi>=1.0.0 in c:\\users\\carlo\\.conda\\envs\\prueba_pb\\lib\\site-packages (from brotlipy==0.7.0->-r requirements.txt (line 3)) (1.15.0)\n",
      "Requirement already satisfied: colorama in c:\\users\\carlo\\.conda\\envs\\prueba_pb\\lib\\site-packages (from click==8.1.2->-r requirements.txt (line 6)) (0.4.4)\n",
      "Requirement already satisfied: importlib-metadata>=4.4 in c:\\users\\carlo\\.conda\\envs\\prueba_pb\\lib\\site-packages (from Markdown==3.3.6->-r requirements.txt (line 24)) (4.11.3)\n",
      "Requirement already satisfied: packaging>=20.0 in c:\\users\\carlo\\.conda\\envs\\prueba_pb\\lib\\site-packages (from matplotlib==3.5.1->-r requirements.txt (line 25)) (21.3)\n",
      "Requirement already satisfied: python-dateutil>=2.7 in c:\\users\\carlo\\.conda\\envs\\prueba_pb\\lib\\site-packages (from matplotlib==3.5.1->-r requirements.txt (line 25)) (2.8.2)\n",
      "Requirement already satisfied: pyparsing>=2.2.1 in c:\\users\\carlo\\.conda\\envs\\prueba_pb\\lib\\site-packages (from matplotlib==3.5.1->-r requirements.txt (line 25)) (3.0.4)\n",
      "Requirement already satisfied: requests>=2.0.0 in c:\\users\\carlo\\.conda\\envs\\prueba_pb\\lib\\site-packages (from requests-oauthlib==1.3.1->-r requirements.txt (line 38)) (2.27.1)\n",
      "Requirement already satisfied: setuptools>=41.0.0 in c:\\users\\carlo\\.conda\\envs\\prueba_pb\\lib\\site-packages (from tensorboard==2.8.0->-r requirements.txt (line 44)) (58.0.4)\n",
      "Requirement already satisfied: typing-extensions>=3.6.6 in c:\\users\\carlo\\.conda\\envs\\prueba_pb\\lib\\site-packages (from tensorflow==2.8.0->-r requirements.txt (line 47)) (4.1.1)\n",
      "Requirement already satisfied: pycparser in c:\\users\\carlo\\.conda\\envs\\prueba_pb\\lib\\site-packages (from cffi>=1.0.0->brotlipy==0.7.0->-r requirements.txt (line 3)) (2.21)\n",
      "Requirement already satisfied: zipp>=0.5 in c:\\users\\carlo\\.conda\\envs\\prueba_pb\\lib\\site-packages (from importlib-metadata>=4.4->Markdown==3.3.6->-r requirements.txt (line 24)) (3.7.0)\n",
      "Requirement already satisfied: charset-normalizer~=2.0.0 in c:\\users\\carlo\\.conda\\envs\\prueba_pb\\lib\\site-packages (from requests>=2.0.0->requests-oauthlib==1.3.1->-r requirements.txt (line 38)) (2.0.4)\n",
      "Requirement already satisfied: urllib3<1.27,>=1.21.1 in c:\\users\\carlo\\.conda\\envs\\prueba_pb\\lib\\site-packages (from requests>=2.0.0->requests-oauthlib==1.3.1->-r requirements.txt (line 38)) (1.26.8)\n",
      "Requirement already satisfied: idna<4,>=2.5 in c:\\users\\carlo\\.conda\\envs\\prueba_pb\\lib\\site-packages (from requests>=2.0.0->requests-oauthlib==1.3.1->-r requirements.txt (line 38)) (3.3)\n",
      "Installing collected packages: pyasn1, rsa, pyasn1-modules, oauthlib, cachetools, requests-oauthlib, google-auth, Werkzeug, tensorboard-plugin-wit, tensorboard-data-server, protobuf, Pillow, numpy, Markdown, kiwisolver, grpcio, google-auth-oauthlib, fonttools, cycler, absl-py, wrapt, tqdm, threadpoolctl, tf-estimator-nightly, termcolor, tensorflow-io-gcs-filesystem, tensorboard, smart-open, scipy, regex, pandas, opt-einsum, matplotlib, libclang, Keras-Preprocessing, keras, joblib, h5py, google-pasta, gast, flatbuffers, Cython, click, astunparse, tensorflow, seaborn, scikit-learn, nltk, gensim\n",
      "Successfully installed Cython-0.29.23 Keras-Preprocessing-1.1.2 Markdown-3.3.6 Pillow-9.1.0 Werkzeug-2.1.1 absl-py-1.0.0 astunparse-1.6.3 cachetools-5.0.0 click-8.1.2 cycler-0.11.0 flatbuffers-2.0 fonttools-4.32.0 gast-0.5.3 gensim-4.1.2 google-auth-2.6.3 google-auth-oauthlib-0.4.6 google-pasta-0.2.0 grpcio-1.44.0 h5py-3.6.0 joblib-1.1.0 keras-2.8.0 kiwisolver-1.4.2 libclang-13.0.0 matplotlib-3.5.1 nltk-3.7 numpy-1.22.3 oauthlib-3.2.0 opt-einsum-3.3.0 pandas-1.4.2 protobuf-3.20.0 pyasn1-0.4.8 pyasn1-modules-0.2.8 regex-2022.3.15 requests-oauthlib-1.3.1 rsa-4.8 scikit-learn-1.0.2 scipy-1.8.0 seaborn-0.11.2 smart-open-5.2.1 tensorboard-2.8.0 tensorboard-data-server-0.6.1 tensorboard-plugin-wit-1.8.1 tensorflow-2.8.0 tensorflow-io-gcs-filesystem-0.24.0 termcolor-1.1.0 tf-estimator-nightly-2.8.0.dev2021122109 threadpoolctl-3.1.0 tqdm-4.64.0 wrapt-1.14.0\n"
     ]
    }
   ],
   "source": [
    "! pip install -r requirements.txt"
   ]
  },
  {
   "cell_type": "code",
   "execution_count": 3,
   "id": "907af995-b3ce-4e16-a834-8d28fe9fd3c2",
   "metadata": {},
   "outputs": [],
   "source": [
    "#for dataframes and plots\n",
    "import pandas as pd\n",
    "import numpy as np\n",
    "import seaborn as sns\n",
    "import matplotlib.pyplot as plt\n",
    "\n",
    "#for text pre-processing\n",
    "import re, string\n",
    "import nltk\n",
    "from nltk.tokenize import word_tokenize\n",
    "from nltk.corpus import stopwords\n",
    "from nltk.tokenize import word_tokenize\n",
    "from nltk.stem import SnowballStemmer\n",
    "from nltk.corpus import wordnet\n",
    "from nltk.stem import WordNetLemmatizer\n",
    "\n",
    "#for model-building\n",
    "from sklearn.model_selection import train_test_split\n",
    "from sklearn.linear_model import LogisticRegression\n",
    "from sklearn.naive_bayes import MultinomialNB\n",
    "from sklearn.metrics import classification_report, f1_score, accuracy_score, confusion_matrix\n",
    "from sklearn.metrics import roc_curve, auc, roc_auc_score\n",
    "\n",
    "#for text vectorization\n",
    "from sklearn.feature_extraction.text import TfidfVectorizer\n",
    "from sklearn.feature_extraction.text import CountVectorizer\n",
    "from gensim.models.word2vec import Word2Vec\n",
    "from gensim.models.doc2vec import Doc2Vec, TaggedDocument\n",
    "\n",
    "#other libraries\n",
    "import random"
   ]
  },
  {
   "cell_type": "markdown",
   "id": "330ad60e",
   "metadata": {},
   "source": [
    "## Import the dataset"
   ]
  },
  {
   "cell_type": "code",
   "execution_count": 4,
   "id": "f9cdee80-28fd-4de7-9923-3952c00e1f25",
   "metadata": {},
   "outputs": [
    {
     "name": "stderr",
     "output_type": "stream",
     "text": [
      "C:\\Users\\carlo\\.conda\\envs\\prueba_PB\\lib\\site-packages\\pandas\\core\\arrays\\datetimes.py:2199: FutureWarning: The parsing of 'now' in pd.to_datetime without `utc=True` is deprecated. In a future version, this will match Timestamp('now') and Timestamp.now()\n",
      "  result, tz_parsed = tslib.array_to_datetime(\n"
     ]
    }
   ],
   "source": [
    "from sklearn.datasets import fetch_20newsgroups\n",
    "\n",
    "def twenty_newsgroup_to_csv():\n",
    "    newsgroups_train = fetch_20newsgroups(subset='all', remove=('headers', 'footers', 'quotes'))\n",
    "\n",
    "    df = pd.DataFrame([newsgroups_train.data, newsgroups_train.target.tolist()]).T\n",
    "    df.columns = ['text', 'target']\n",
    "\n",
    "    targets = pd.DataFrame( newsgroups_train.target_names)\n",
    "    targets.columns=['title']\n",
    "\n",
    "    out = pd.merge(df, targets, left_on='target', right_index=True)\n",
    "    out['date'] = pd.to_datetime('now')\n",
    "    out.to_csv('20_newsgroup.csv')\n",
    "    \n",
    "twenty_newsgroup_to_csv()"
   ]
  },
  {
   "cell_type": "code",
   "execution_count": 5,
   "id": "49c7f371-130e-4835-98e4-f2188fadfee6",
   "metadata": {},
   "outputs": [
    {
     "data": {
      "text/html": [
       "<div>\n",
       "<style scoped>\n",
       "    .dataframe tbody tr th:only-of-type {\n",
       "        vertical-align: middle;\n",
       "    }\n",
       "\n",
       "    .dataframe tbody tr th {\n",
       "        vertical-align: top;\n",
       "    }\n",
       "\n",
       "    .dataframe thead th {\n",
       "        text-align: right;\n",
       "    }\n",
       "</style>\n",
       "<table border=\"1\" class=\"dataframe\">\n",
       "  <thead>\n",
       "    <tr style=\"text-align: right;\">\n",
       "      <th></th>\n",
       "      <th>text</th>\n",
       "      <th>target</th>\n",
       "      <th>title</th>\n",
       "      <th>date</th>\n",
       "    </tr>\n",
       "  </thead>\n",
       "  <tbody>\n",
       "    <tr>\n",
       "      <th>9</th>\n",
       "      <td>\\nIf a Christian means someone who believes in...</td>\n",
       "      <td>19</td>\n",
       "      <td>talk.religion.misc</td>\n",
       "      <td>2022-04-08 16:29:40.218850</td>\n",
       "    </tr>\n",
       "    <tr>\n",
       "      <th>10</th>\n",
       "      <td>the blood of the lamb.\\n\\nThis will be a hard ...</td>\n",
       "      <td>19</td>\n",
       "      <td>talk.religion.misc</td>\n",
       "      <td>2022-04-08 16:29:40.218850</td>\n",
       "    </tr>\n",
       "    <tr>\n",
       "      <th>12</th>\n",
       "      <td>930418\\n\\nDo what thou wilt shall be the whole...</td>\n",
       "      <td>19</td>\n",
       "      <td>talk.religion.misc</td>\n",
       "      <td>2022-04-08 16:29:40.218850</td>\n",
       "    </tr>\n",
       "    <tr>\n",
       "      <th>40</th>\n",
       "      <td>\\n\\nNo.  Zeno's paradox is resolved by showing...</td>\n",
       "      <td>19</td>\n",
       "      <td>talk.religion.misc</td>\n",
       "      <td>2022-04-08 16:29:40.218850</td>\n",
       "    </tr>\n",
       "    <tr>\n",
       "      <th>58</th>\n",
       "      <td>\\nDefinitely, J.R. \"Bob\" Dobbs, numero uno, to...</td>\n",
       "      <td>19</td>\n",
       "      <td>talk.religion.misc</td>\n",
       "      <td>2022-04-08 16:29:40.218850</td>\n",
       "    </tr>\n",
       "  </tbody>\n",
       "</table>\n",
       "</div>"
      ],
      "text/plain": [
       "                                                 text  target  \\\n",
       "9   \\nIf a Christian means someone who believes in...      19   \n",
       "10  the blood of the lamb.\\n\\nThis will be a hard ...      19   \n",
       "12  930418\\n\\nDo what thou wilt shall be the whole...      19   \n",
       "40  \\n\\nNo.  Zeno's paradox is resolved by showing...      19   \n",
       "58  \\nDefinitely, J.R. \"Bob\" Dobbs, numero uno, to...      19   \n",
       "\n",
       "                 title                        date  \n",
       "9   talk.religion.misc  2022-04-08 16:29:40.218850  \n",
       "10  talk.religion.misc  2022-04-08 16:29:40.218850  \n",
       "12  talk.religion.misc  2022-04-08 16:29:40.218850  \n",
       "40  talk.religion.misc  2022-04-08 16:29:40.218850  \n",
       "58  talk.religion.misc  2022-04-08 16:29:40.218850  "
      ]
     },
     "execution_count": 5,
     "metadata": {},
     "output_type": "execute_result"
    }
   ],
   "source": [
    "# Create a dataframe\n",
    "data = pd.read_csv('20_newsgroup.csv', index_col = 0)\n",
    "\n",
    "# Select only 5 classes\n",
    "class_mask = data[\"target\"].isin([7,9,13,18,19])\n",
    "data = data[class_mask]\n",
    "data.head()"
   ]
  },
  {
   "cell_type": "code",
   "execution_count": 6,
   "id": "911094be-f472-4664-b2ba-6eec9f0abc1e",
   "metadata": {},
   "outputs": [],
   "source": [
    "#Split the dataset into training and testing ones\n",
    "df_train, df_test = train_test_split(data,test_size=0.1,shuffle=True, random_state=1)"
   ]
  },
  {
   "cell_type": "markdown",
   "id": "57e0e95e",
   "metadata": {},
   "source": [
    "## Exploratory data analysis"
   ]
  },
  {
   "cell_type": "code",
   "execution_count": 7,
   "id": "6ee01663-97eb-45bb-ad01-16e60ebc6f3b",
   "metadata": {},
   "outputs": [
    {
     "name": "stdout",
     "output_type": "stream",
     "text": [
      "rec.sport.baseball    905\n",
      "sci.med               892\n",
      "rec.autos             886\n",
      "talk.politics.misc    686\n",
      "talk.religion.misc    570\n",
      "Name: title, dtype: int64\n"
     ]
    },
    {
     "name": "stderr",
     "output_type": "stream",
     "text": [
      "C:\\Users\\carlo\\.conda\\envs\\prueba_PB\\lib\\site-packages\\seaborn\\_decorators.py:36: FutureWarning: Pass the following variables as keyword args: x, y. From version 0.12, the only valid positional argument will be `data`, and passing other arguments without an explicit keyword will result in an error or misinterpretation.\n",
      "  warnings.warn(\n"
     ]
    },
    {
     "data": {
      "text/plain": [
       "[Text(0.5, 1.0, 'Number of douments in each class')]"
      ]
     },
     "execution_count": 7,
     "metadata": {},
     "output_type": "execute_result"
    },
    {
     "data": {
      "image/png": "[encoded data removed]",
      "text/plain": [
       "<Figure size 432x288 with 1 Axes>"
      ]
     },
     "metadata": {
      "needs_background": "light"
     },
     "output_type": "display_data"
    }
   ],
   "source": [
    "#Count the number of douments in each class\n",
    "x=df_train['title'].value_counts()\n",
    "print(x)\n",
    "sns.barplot(x.index,x).set(title=\"Number of douments in each class\")"
   ]
  },
  {
   "cell_type": "code",
   "execution_count": 8,
   "id": "8d871b9b-6af5-422c-aeb3-32402d8136a9",
   "metadata": {},
   "outputs": [
    {
     "data": {
      "text/plain": [
       "text      15\n",
       "target     0\n",
       "title      0\n",
       "date       0\n",
       "dtype: int64"
      ]
     },
     "execution_count": 8,
     "metadata": {},
     "output_type": "execute_result"
    }
   ],
   "source": [
    "# Find NaN values\n",
    "df_test.isna().sum()"
   ]
  },
  {
   "cell_type": "code",
   "execution_count": 9,
   "id": "ecce4817-2942-4e72-bb72-111350b6791e",
   "metadata": {},
   "outputs": [
    {
     "data": {
      "text/plain": [
       "text      0\n",
       "target    0\n",
       "title     0\n",
       "date      0\n",
       "dtype: int64"
      ]
     },
     "execution_count": 9,
     "metadata": {},
     "output_type": "execute_result"
    }
   ],
   "source": [
    "# Drop NaN values\n",
    "df_train = df_train.dropna()\n",
    "df_test = df_test.dropna()\n",
    "# Check for it\n",
    "df_test.isna().sum()"
   ]
  },
  {
   "cell_type": "code",
   "execution_count": 10,
   "id": "ef8f724b-0a2f-4617-9759-d19f4c0407c4",
   "metadata": {},
   "outputs": [
    {
     "name": "stdout",
     "output_type": "stream",
     "text": [
      "129.75512528473803\n",
      "116.2840909090909\n"
     ]
    }
   ],
   "source": [
    "# Some word count examples\n",
    "df_train['word_count'] = df_train['text'].apply(lambda x: len(str(x).split()))\n",
    "df_test['word_count'] = df_test['text'].apply(lambda x: len(str(x).split()))\n",
    "print(df_train[df_train['target']==9]['word_count'].mean()) # Baseball posts\n",
    "print(df_test[df_test['target']==9]['word_count'].mean()) # Baseball posts"
   ]
  },
  {
   "cell_type": "code",
   "execution_count": 11,
   "id": "8b0c4d5c-aa47-47ce-891c-552eda64cc0c",
   "metadata": {},
   "outputs": [
    {
     "data": {
      "image/png": "[encoded data removed]",
      "text/plain": [
       "<Figure size 720x288 with 2 Axes>"
      ]
     },
     "metadata": {
      "needs_background": "light"
     },
     "output_type": "display_data"
    }
   ],
   "source": [
    "# Some Word-Count plots examples\n",
    "fig,(ax1,ax2)=plt.subplots(1,2,figsize=(10,4))\n",
    "train_words=df_train[df_train['target']==7]['word_count']\n",
    "ax1.hist(train_words,color='red')\n",
    "ax1.set_title('Cars')\n",
    "train_words=df_train[df_train['target']==9]['word_count']\n",
    "ax2.hist(train_words,color='green')\n",
    "ax2.set_title('Baseball')\n",
    "fig.suptitle('Mean of words per post in train set')\n",
    "plt.show()"
   ]
  },
  {
   "cell_type": "code",
   "execution_count": 12,
   "id": "20b15769-6aa7-4d85-a5c4-691741c9f820",
   "metadata": {},
   "outputs": [
    {
     "name": "stdout",
     "output_type": "stream",
     "text": [
      "753.5956719817767\n",
      "664.1818181818181\n"
     ]
    }
   ],
   "source": [
    "# Some character count examplesS\n",
    "df_train['char_count'] = df_train['text'].apply(lambda x: len(str(x)))\n",
    "df_test['char_count'] = df_test['text'].apply(lambda x: len(str(x)))\n",
    "print(df_train[df_train['target']==9]['char_count'].mean()) # Baseball posts\n",
    "print(df_test[df_test['target']==9]['char_count'].mean()) # Baseball posts\n"
   ]
  },
  {
   "cell_type": "markdown",
   "id": "858555ac",
   "metadata": {},
   "source": [
    "## Text processing"
   ]
  },
  {
   "cell_type": "code",
   "execution_count": 13,
   "id": "e9f8b7b8-6d08-4f05-9d64-ae7969f9bd65",
   "metadata": {},
   "outputs": [],
   "source": [
    "# Convert to lowercase, strip and remove punctuations\n",
    "def preprocess(text):\n",
    "    text = text.lower() \n",
    "    text=text.strip()  \n",
    "    text=re.compile('<.*?>').sub('', text) \n",
    "    text = re.compile('[%s]' % re.escape(string.punctuation)).sub(' ', text)  \n",
    "    text = re.sub('\\s+', ' ', text)  \n",
    "    text = re.sub(r'\\[[0-9]*\\]',' ',text) \n",
    "    text=re.sub(r'[^\\w\\s]', '', str(text).lower().strip())\n",
    "    text = re.sub(r'\\d',' ',text) \n",
    "    text = re.sub(r'\\s+',' ',text) \n",
    "    return text\n",
    "\n",
    " \n",
    "# Remove Stopwords\n",
    "def stopword(string):\n",
    "    a= [i for i in string.split() if i not in stopwords.words('english')]\n",
    "    return ' '.join(a)\n",
    "\n",
    "# Lemmatize:\n",
    "# Initialize the lemmatizer\n",
    "wl = WordNetLemmatizer()\n",
    " \n",
    "# This is a helper function to map NTLK position tags\n",
    "def get_wordnet_pos(tag):\n",
    "    if tag.startswith('J'):\n",
    "        return wordnet.ADJ\n",
    "    elif tag.startswith('V'):\n",
    "        return wordnet.VERB\n",
    "    elif tag.startswith('N'):\n",
    "        return wordnet.NOUN\n",
    "    elif tag.startswith('R'):\n",
    "        return wordnet.ADV\n",
    "    else:\n",
    "        return wordnet.NOUN\n",
    "        \n",
    "# Tokenize the sentence\n",
    "def lemmatizer(string):\n",
    "    word_pos_tags = nltk.pos_tag(word_tokenize(string)) # Get position tags\n",
    "    a=[wl.lemmatize(tag[0], get_wordnet_pos(tag[1])) for idx, tag in enumerate(word_pos_tags)] # Map the position tag and lemmatize the word/token\n",
    "    return \" \".join(a)"
   ]
  },
  {
   "cell_type": "code",
   "execution_count": 14,
   "id": "b63e9a0c-29ca-40f0-ab3e-28873f0fee9c",
   "metadata": {},
   "outputs": [],
   "source": [
    "def finalpreprocess(string):\n",
    "    return lemmatizer(stopword(preprocess(string)))\n",
    "\n",
    "# Obtain clean text columns\n",
    "df_train['clean_text'] = df_train['text'].apply(lambda x: finalpreprocess(x))\n",
    "df_train.head()\n",
    "df_test['clean_text'] = df_test['text'].apply(lambda x: finalpreprocess(x))\n"
   ]
  },
  {
   "cell_type": "code",
   "execution_count": 15,
   "id": "7439679a-6299-44ca-a0f8-511e83b7aba4",
   "metadata": {},
   "outputs": [],
   "source": [
    "# Obtain final train and test vectors \n",
    "X_train, y_train = df_train[\"clean_text\"], df_train[\"title\"]\n",
    "X_test, y_test = df_test[\"clean_text\"], df_test[\"title\"]\n",
    "\n",
    "\n",
    "# Tokenize sentences to future applications\n",
    "X_train_tok= [nltk.word_tokenize(i) for i in X_train]  \n",
    "X_test_tok= [nltk.word_tokenize(i) for i in X_test]"
   ]
  },
  {
   "cell_type": "markdown",
   "id": "d2affae8",
   "metadata": {},
   "source": [
    "## Text vectorizers"
   ]
  },
  {
   "cell_type": "code",
   "execution_count": 16,
   "id": "f3c7e20f",
   "metadata": {},
   "outputs": [],
   "source": [
    "#TF-IDF vectorizer\n",
    "tfidf_vectorizer = TfidfVectorizer(use_idf=True)\n",
    "#Obtain vectors via TF-IDF\n",
    "X_train_vectors_tfidf = tfidf_vectorizer.fit_transform(X_train) \n",
    "X_test_vectors_tfidf = tfidf_vectorizer.transform(X_test)"
   ]
  },
  {
   "cell_type": "code",
   "execution_count": 17,
   "id": "6253135d-6143-4fb9-9ec7-10cbf3429192",
   "metadata": {},
   "outputs": [],
   "source": [
    "# Doc2Vec vectorizer\n",
    "train_docs = [TaggedDocument(doc.split(' '), [i]) \n",
    "             for i, doc in enumerate(df_train.clean_text)]\n",
    "\n",
    "\n",
    "#build the model\n",
    "model = Doc2Vec(vector_size=64, window=2, min_count=1, workers=8, epochs = 40)\n",
    "#build vocab\n",
    "model.build_vocab(train_docs)\n",
    "#train model\n",
    "model.train(train_docs, total_examples=model.corpus_count, epochs=model.epochs)"
   ]
  },
  {
   "cell_type": "code",
   "execution_count": 18,
   "id": "a374a136",
   "metadata": {},
   "outputs": [],
   "source": [
    "def vec_for_learning(model, tagged_docs):\n",
    "    sents = tagged_docs\n",
    "    targets, regressors = zip(*[(doc.tags[0], model.infer_vector(doc.words)) for doc in sents])\n",
    "    return targets, regressors"
   ]
  },
  {
   "cell_type": "code",
   "execution_count": 19,
   "id": "d1d9887d",
   "metadata": {},
   "outputs": [],
   "source": [
    "# Obtain vectors via doc2vec\n",
    "y_train_w2v, x_train_w2v = vec_for_learning(model, train_docs)\n"
   ]
  },
  {
   "cell_type": "markdown",
   "id": "adead9e0",
   "metadata": {},
   "source": [
    "## Train best model found from models.ipynb"
   ]
  },
  {
   "cell_type": "code",
   "execution_count": 20,
   "id": "9bb4fb4f-72a5-499b-ab8f-882753ae2249",
   "metadata": {},
   "outputs": [],
   "source": [
    "X_train_vectors_tfidf = X_train_vectors_tfidf.toarray()\n",
    "X_test_vectors_tfidf = X_test_vectors_tfidf.toarray()"
   ]
  },
  {
   "cell_type": "code",
   "execution_count": 21,
   "id": "37bb3f84-ab70-4bc6-8df3-617c3a08f4a6",
   "metadata": {},
   "outputs": [],
   "source": [
    "from keras import Sequential\n",
    "from keras.layers import Dense, Dropout\n",
    "import tensorflow as tf\n",
    "from sklearn.preprocessing import LabelEncoder"
   ]
  },
  {
   "cell_type": "code",
   "execution_count": 22,
   "id": "401c0f34-d6a2-4289-9dc3-3b6fa32d1bac",
   "metadata": {},
   "outputs": [],
   "source": [
    "# one hot encode\n",
    "encoder = LabelEncoder()\n",
    "encoder.fit(y_train)\n",
    "y_train = tf.keras.utils.to_categorical(encoder.transform(y_train))\n",
    "y_test = tf.keras.utils.to_categorical(encoder.transform(y_test))"
   ]
  },
  {
   "cell_type": "code",
   "execution_count": 23,
   "id": "10d3e085-dbb6-467b-821a-08a9922cfa7f",
   "metadata": {},
   "outputs": [
    {
     "data": {
      "text/plain": [
       "array(['rec.autos', 'rec.sport.baseball', 'sci.med', 'talk.politics.misc',\n",
       "       'talk.religion.misc'], dtype=object)"
      ]
     },
     "execution_count": 23,
     "metadata": {},
     "output_type": "execute_result"
    }
   ],
   "source": [
    "encoder.classes_"
   ]
  },
  {
   "cell_type": "code",
   "execution_count": 24,
   "id": "27b111df-8bac-448c-85d7-be1f541230fe",
   "metadata": {},
   "outputs": [
    {
     "name": "stdout",
     "output_type": "stream",
     "text": [
      "[name: \"/device:CPU:0\"\n",
      "device_type: \"CPU\"\n",
      "memory_limit: 268435456\n",
      "locality {\n",
      "}\n",
      "incarnation: 4967661575053690800\n",
      "xla_global_id: -1\n",
      ", name: \"/device:GPU:0\"\n",
      "device_type: \"GPU\"\n",
      "memory_limit: 6273040384\n",
      "locality {\n",
      "  bus_id: 1\n",
      "  links {\n",
      "  }\n",
      "}\n",
      "incarnation: 15841497882767252982\n",
      "physical_device_desc: \"device: 0, name: NVIDIA GeForce RTX 2070 SUPER, pci bus id: 0000:01:00.0, compute capability: 7.5\"\n",
      "xla_global_id: 416903419\n",
      "]\n"
     ]
    }
   ],
   "source": [
    "from tensorflow.python.client import device_lib \n",
    "print(device_lib.list_local_devices())"
   ]
  },
  {
   "cell_type": "code",
   "execution_count": 25,
   "id": "6bbc2d68-9802-4309-a50b-f0ff64c0de8c",
   "metadata": {},
   "outputs": [
    {
     "name": "stdout",
     "output_type": "stream",
     "text": [
      "              precision    recall  f1-score   support\n",
      "\n",
      "           0       0.95      0.94      0.94       100\n",
      "           1       0.88      0.93      0.91        88\n",
      "           2       0.97      0.96      0.96        95\n",
      "           3       0.89      0.90      0.89        86\n",
      "           4       0.84      0.78      0.81        54\n",
      "\n",
      "    accuracy                           0.91       423\n",
      "   macro avg       0.90      0.90      0.90       423\n",
      "weighted avg       0.91      0.91      0.91       423\n",
      "\n",
      "Confusion Matrix:\n",
      " [[94  2  1  2  1]\n",
      " [ 2 82  0  2  2]\n",
      " [ 0  1 91  1  2]\n",
      " [ 1  5  0 77  3]\n",
      " [ 2  3  2  5 42]]\n",
      "Test Accuracy of Neural Network(tf-idf) is 0.9125295508274232 \n",
      "\n",
      "Test F1-score weighted of Neural Network(tf-idf) is 0.9121960941620407 \n",
      "\n"
     ]
    }
   ],
   "source": [
    "model = Sequential()\n",
    "model.add(Dense(100, activation='elu'))\n",
    "model.add(Dropout(0.6))\n",
    "model.add(Dense(5, activation='softmax'))\n",
    "model.compile(optimizer='adam',\n",
    "              loss='categorical_crossentropy',\n",
    "              metrics=['accuracy'])\n",
    "batch_size = 512\n",
    "history = model.fit(X_train_vectors_tfidf, y_train,\n",
    "                    epochs=20, batch_size=batch_size, validation_data=(X_test_vectors_tfidf, y_test), verbose=0)\n",
    "#Predict y value for test dataset\n",
    "y_predict = model.predict(X_test_vectors_tfidf)\n",
    "print(classification_report(y_test.argmax(axis=1), y_predict.argmax(axis=1)))\n",
    "print('Confusion Matrix:\\n',confusion_matrix(y_test.argmax(axis=1), y_predict.argmax(axis=1)))\n",
    "\n",
    "acc = accuracy_score(y_test.argmax(axis=1), y_predict.argmax(axis=1))\n",
    "f1 = f1_score(y_test.argmax(axis=1), y_predict.argmax(axis=1), average ='weighted')\n",
    "\n",
    "print(f\"Test Accuracy of Neural Network(tf-idf) is {acc} \\n\")\n",
    "\n",
    "print(f\"Test F1-score weighted of Neural Network(tf-idf) is {f1} \\n\")"
   ]
  },
  {
   "cell_type": "code",
   "execution_count": 26,
   "id": "04c603e2-d76c-4482-bf38-b842688f372c",
   "metadata": {},
   "outputs": [
    {
     "data": {
      "image/png": "[encoded data removed]",
      "text/plain": [
       "<Figure size 720x720 with 2 Axes>"
      ]
     },
     "metadata": {
      "needs_background": "light"
     },
     "output_type": "display_data"
    }
   ],
   "source": [
    "matrix = confusion_matrix(y_test.argmax(axis=1), y_predict.argmax(axis=1))\n",
    "\n",
    "plt.figure(figsize=(10,10))\n",
    "sns.heatmap(matrix,annot=True, square = True, fmt='g', xticklabels=encoder.classes_, yticklabels=encoder.classes_)\n",
    "plt.savefig(\"confusion_matrix.jpg\")\n",
    "plt.show()"
   ]
  },
  {
   "cell_type": "markdown",
   "id": "0d31e747",
   "metadata": {},
   "source": [
    "## Define toy set of users"
   ]
  },
  {
   "cell_type": "code",
   "execution_count": 27,
   "id": "ce69e757-6bbf-4d76-8774-1d59dd08dfbb",
   "metadata": {},
   "outputs": [],
   "source": [
    "# Associate targets with interests\n",
    "interests = [\"autos\", \"baseball\", \"medicine\", \"politics\", \"religion\"]\n",
    "\n",
    "def generate_users(n_user, interests= [\"autos\", \"baseball\", \"medicine\", \"politics\", \"religion\"]):\n",
    "    users = {}\n",
    "    for user in range(n_user):\n",
    "        n_interest = random.randint(1, 3)\n",
    "        user_interest = []\n",
    "        i = random.sample(range(0,4), n_interest)\n",
    "        user_interest.append([interests[e] for e in i])\n",
    "            \n",
    "        users[user] = user_interest\n",
    "    return users"
   ]
  },
  {
   "cell_type": "code",
   "execution_count": 28,
   "id": "f9621dfa-5de6-4b82-814d-8635b14ad155",
   "metadata": {},
   "outputs": [],
   "source": [
    "# Generate users\n",
    "users = generate_users(10, interests=encoder.classes_)"
   ]
  },
  {
   "cell_type": "code",
   "execution_count": 29,
   "id": "310f0cd2-8754-43a8-8d38-4666944bc61d",
   "metadata": {},
   "outputs": [],
   "source": [
    "# Predict the type of the query text using the best classifier\n",
    "pred = model.predict(np.array( [X_test_vectors_tfidf[50],] ))\n",
    "\n",
    "# function that automatically assigns texts for users\n",
    "def assigne_text(users, pred):\n",
    "    if pred == 0:\n",
    "        text = 'autos'\n",
    "    elif pred == 1:\n",
    "        text = 'baseball'\n",
    "    elif pred == 2:\n",
    "        text = 'medicine'\n",
    "    elif pred == 3:\n",
    "        text = 'politics'\n",
    "    else:\n",
    "        text = 'religion'\n",
    "    assigned = []\n",
    "    for user, interest in users.items():\n",
    "        if text[:3] in interest[0][0]:\n",
    "            assigned.append(user)\n",
    "            \n",
    "    return assigned, text.upper()"
   ]
  },
  {
   "cell_type": "code",
   "execution_count": 30,
   "id": "cd8c9711-aa50-4a22-ab16-22bfa3d61792",
   "metadata": {},
   "outputs": [
    {
     "name": "stdout",
     "output_type": "stream",
     "text": [
      "This text is assigned to user 0. It is a MEDICINE text.\n",
      "This text is assigned to user 8. It is a MEDICINE text.\n"
     ]
    }
   ],
   "source": [
    "assigned, text_topic = assigne_text(users, int(np.argmax(pred)))\n",
    "for user in assigned:\n",
    "    print(\"This text is assigned to user {}. It is a {} text.\".format(user, text_topic))"
   ]
  },
  {
   "cell_type": "code",
   "execution_count": 31,
   "id": "2c083b0f-fe3b-4e5b-99ae-7c793dd928c7",
   "metadata": {},
   "outputs": [
    {
     "name": "stdout",
     "output_type": "stream",
     "text": [
      "Welcome to text classifcation and assignation tool!\n",
      "-------------------------------------\n",
      "-------------------------------------\n"
     ]
    },
    {
     "name": "stdin",
     "output_type": "stream",
     "text": [
      "       Please enter the text to classify and deliver to a user or enter 2 to leave:  Well, looking at the videos it seems that this fire started in various places at the same time, which would indicate that this was a planned action. I'm sure FBI and BATF didn't *deliberately* start a possible fire, having a sniper kill Korresh would have been a far easier  method. Looking at the careful operation, and use of tear gas that as I know don't start fires, it is less likely that this  was the case.  Sorry, but my bets are on fanatical people keen to start Armageddon -- theirs.  Cheers, Kent\n"
     ]
    },
    {
     "name": "stdout",
     "output_type": "stream",
     "text": [
      "\n",
      "\n",
      "-------------------------------------\n",
      "No user has interest in topic RELIGION\n",
      "-------------------------------------\n",
      "\n",
      "\n",
      "Welcome to text classifcation and assignation tool!\n",
      "-------------------------------------\n",
      "-------------------------------------\n"
     ]
    },
    {
     "name": "stdin",
     "output_type": "stream",
     "text": [
      "       Please enter the text to classify and deliver to a user or enter 2 to leave:  This is very curious being that they are both built by Mercury in the very same factory.  Steve\n"
     ]
    },
    {
     "name": "stdout",
     "output_type": "stream",
     "text": [
      "\n",
      "\n",
      "-------------------------------------\n",
      "This text is assigned to user 5. It is a AUTOS text.\n",
      "-------------------------------------\n",
      "\n",
      "\n",
      "Welcome to text classifcation and assignation tool!\n",
      "-------------------------------------\n",
      "-------------------------------------\n"
     ]
    },
    {
     "name": "stdin",
     "output_type": "stream",
     "text": [
      "       Please enter the text to classify and deliver to a user or enter 2 to leave:  It's not a cliche, and (unlike your comments below) it's not a tautology. It needn't have been true.  If every pitcher in baseball were essentially the same in quality (i.e. if the variance of pitching ability were much smaller than the variance of batting ability), then scoring runs would be much more important than preventing them, simply because the *ability* to actively prevent runs would be much weaker.   If that's your point, you should have said so.  What you in fact said was \"Pitching and defense win championships\", and later \"Pitching is the essence of baseball\".  Neither of which says what you are now claiming was \"your  point\", and neither of which is true.   And you accuse Sherri of mouthing cliches!?   It's not clear to me at all that this is true.  In high-scoring games, the team with the better offense wins a high percentage of the time.  In low- scoring games, the split is essentially 50/50 regardless of team ability.   I thought you said \"pitching and defense win championships\" and \"pitching is the essence of baseball\".\n"
     ]
    },
    {
     "name": "stdout",
     "output_type": "stream",
     "text": [
      "\n",
      "\n",
      "-------------------------------------\n",
      "This text is assigned to user 2. It is a BASEBALL text.\n",
      "This text is assigned to user 3. It is a BASEBALL text.\n",
      "This text is assigned to user 4. It is a BASEBALL text.\n",
      "This text is assigned to user 9. It is a BASEBALL text.\n",
      "-------------------------------------\n",
      "\n",
      "\n",
      "Welcome to text classifcation and assignation tool!\n",
      "-------------------------------------\n",
      "-------------------------------------\n"
     ]
    },
    {
     "name": "stdin",
     "output_type": "stream",
     "text": [
      "       Please enter the text to classify and deliver to a user or enter 2 to leave:  I'm really surprised Clinton hasn't already tried to do this.  He seems to want to tackle other irrelevant issues first, so why not this one as well.   Wrong.  We need its capability.  Sure it has its problems, very few airplanes haven't, but getting rid of something we need is not the answer.  What do you want to do, start over a rebuild a new airplane from scatch?  It'll have its problems as well and there will be calls again, for it to be scrapped.  THe other option is to try to extend the life of the C-5s and C-141s that are getting extremely old.   It'll cost jobs, but I'm for it.  We especially don't need a B-2. THe SSN-21, I know litttle about.\n"
     ]
    },
    {
     "name": "stdout",
     "output_type": "stream",
     "text": [
      "\n",
      "\n",
      "-------------------------------------\n",
      "This text is assigned to user 1. It is a POLITICS text.\n",
      "This text is assigned to user 6. It is a POLITICS text.\n",
      "This text is assigned to user 7. It is a POLITICS text.\n",
      "-------------------------------------\n",
      "\n",
      "\n",
      "Welcome to text classifcation and assignation tool!\n",
      "-------------------------------------\n",
      "-------------------------------------\n"
     ]
    },
    {
     "name": "stdin",
     "output_type": "stream",
     "text": [
      "       Please enter the text to classify and deliver to a user or enter 2 to leave:  That will make it easy for a car thief. Saves him/her the trouble of popping your ignition!\n"
     ]
    },
    {
     "name": "stdout",
     "output_type": "stream",
     "text": [
      "\n",
      "\n",
      "-------------------------------------\n",
      "This text is assigned to user 5. It is a AUTOS text.\n",
      "-------------------------------------\n",
      "\n",
      "\n",
      "Welcome to text classifcation and assignation tool!\n",
      "-------------------------------------\n",
      "-------------------------------------\n"
     ]
    },
    {
     "name": "stdin",
     "output_type": "stream",
     "text": [
      "       Please enter the text to classify and deliver to a user or enter 2 to leave:      Do you swim nude in a public swimming pool?  :)  I doubt sperm can penetrate swimsuit material, assuming they aren't immediately dispersed by water currents.\n"
     ]
    },
    {
     "name": "stdout",
     "output_type": "stream",
     "text": [
      "\n",
      "\n",
      "-------------------------------------\n",
      "This text is assigned to user 0. It is a MEDICINE text.\n",
      "This text is assigned to user 8. It is a MEDICINE text.\n",
      "-------------------------------------\n",
      "\n",
      "\n",
      "Welcome to text classifcation and assignation tool!\n",
      "-------------------------------------\n",
      "-------------------------------------\n"
     ]
    },
    {
     "name": "stdin",
     "output_type": "stream",
     "text": [
      "       Please enter the text to classify and deliver to a user or enter 2 to leave:  One should be aware that foreign doctors admitted for training are ineligible to apply for resident alien status.  In order to get the green card they have to return to their country and apply at the embassy there.  Of course, many somehow get around this problem.  Often it is by agreeing to practice in a town with a need and then the congressman from that district tacks a rider onto a bill saying \"Dr. X will be allowed to have permanent residency in the US.\"  A lot of bills in congress have such riders attached to them.  Marrying a US citizen is the most common, although now they are even cracking down on that and trying to tell US citizens they must follow their spouse back to the Phillipines, or whereever.    --  ---------------------------------------------------------------------------- Gordon Banks  N3JXP      | \"Skepticism is the chastity of the intellect, and geb@cadre.dsl.pitt.edu   |  it is shameful to surrender it too soon.\" \n"
     ]
    },
    {
     "name": "stdout",
     "output_type": "stream",
     "text": [
      "\n",
      "\n",
      "-------------------------------------\n",
      "This text is assigned to user 0. It is a MEDICINE text.\n",
      "This text is assigned to user 8. It is a MEDICINE text.\n",
      "-------------------------------------\n",
      "\n",
      "\n",
      "Welcome to text classifcation and assignation tool!\n",
      "-------------------------------------\n",
      "-------------------------------------\n"
     ]
    },
    {
     "name": "stdin",
     "output_type": "stream",
     "text": [
      "       Please enter the text to classify and deliver to a user or enter 2 to leave:  2\n"
     ]
    },
    {
     "name": "stdout",
     "output_type": "stream",
     "text": [
      "\n",
      "Thanks for using!!\n",
      "-------------------------------------\n",
      "-------------------------------------\n"
     ]
    }
   ],
   "source": [
    "classify = True\n",
    "while classify:\n",
    "    print('Welcome to text classifcation and assignation tool!')\n",
    "    print('-------------------------------------')\n",
    "    print('-------------------------------------')\n",
    "    text_to_predict = input('       Please enter the text to classify and deliver to a user or enter 2 to leave: ')\n",
    "    if text_to_predict == '2':\n",
    "        classify = False\n",
    "        print()\n",
    "        print('Thanks for using!!')\n",
    "        print('-------------------------------------')\n",
    "        print('-------------------------------------')\n",
    "    else:\n",
    "        clean_predict = finalpreprocess(text_to_predict)\n",
    "        to_predict = tfidf_vectorizer.transform([clean_predict]).toarray()\n",
    "        pred = model.predict(np.array(to_predict))\n",
    "        assigned, text_topic = assigne_text(users, int(np.argmax(pred)))\n",
    "        print()\n",
    "        print()\n",
    "        print('-------------------------------------')\n",
    "        if assigned:\n",
    "            for user in assigned:\n",
    "                print(\"This text is assigned to user {}. It is a {} text.\".format(user, text_topic))\n",
    "        else:\n",
    "            print('No user has interest in topic {}'.format(text_topic))\n",
    "        print('-------------------------------------')\n",
    "        print()\n",
    "        print()"
   ]
  }
 ],
 "metadata": {
  "kernelspec": {
   "display_name": "Python 3 (ipykernel)",
   "language": "python",
   "name": "python3"
  },
  "language_info": {
   "codemirror_mode": {
    "name": "ipython",
    "version": 3
   },
   "file_extension": ".py",
   "mimetype": "text/x-python",
   "name": "python",
   "nbconvert_exporter": "python",
   "pygments_lexer": "ipython3",
   "version": "3.9.12"
  }
 },
 "nbformat": 4,
 "nbformat_minor": 5
}