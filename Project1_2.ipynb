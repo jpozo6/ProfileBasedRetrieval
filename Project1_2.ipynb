{
 "cells": [
  {
   "cell_type": "code",
   "execution_count": 2,
   "id": "907af995-b3ce-4e16-a834-8d28fe9fd3c2",
   "metadata": {},
   "outputs": [],
   "source": [
    "import pandas as pd\n",
    "import numpy as np\n",
    "#for text pre-processing\n",
    "import re, string\n",
    "import nltk\n",
    "from nltk.tokenize import word_tokenize\n",
    "from nltk.corpus import stopwords\n",
    "from nltk.tokenize import word_tokenize\n",
    "from nltk.stem import SnowballStemmer\n",
    "from nltk.corpus import wordnet\n",
    "from nltk.stem import WordNetLemmatizer\n",
    "#nltk.download('punkt')\n",
    "#nltk.download('averaged_perceptron_tagger')\n",
    "#nltk.download('wordnet')\n",
    "#for model-building\n",
    "from sklearn.model_selection import train_test_split\n",
    "from sklearn.linear_model import LogisticRegression\n",
    "from sklearn.naive_bayes import MultinomialNB\n",
    "from sklearn.metrics import classification_report, f1_score, accuracy_score, confusion_matrix\n",
    "from sklearn.metrics import roc_curve, auc, roc_auc_score\n",
    "# bag of words\n",
    "from sklearn.feature_extraction.text import TfidfVectorizer\n",
    "from sklearn.feature_extraction.text import CountVectorizer\n",
    "#for word embedding\n",
    "import gensim\n",
    "from gensim.models import Word2Vec"
   ]
  },
  {
   "cell_type": "code",
   "execution_count": 3,
   "id": "f9cdee80-28fd-4de7-9923-3952c00e1f25",
   "metadata": {},
   "outputs": [],
   "source": [
    "from sklearn.datasets import fetch_20newsgroups\n",
    "import pandas as pd\n",
    "\n",
    "def twenty_newsgroup_to_csv():\n",
    "    newsgroups_train = fetch_20newsgroups(subset='all', remove=('headers', 'footers', 'quotes'))\n",
    "\n",
    "    df = pd.DataFrame([newsgroups_train.data, newsgroups_train.target.tolist()]).T\n",
    "    df.columns = ['text', 'target']\n",
    "\n",
    "    targets = pd.DataFrame( newsgroups_train.target_names)\n",
    "    targets.columns=['title']\n",
    "\n",
    "    out = pd.merge(df, targets, left_on='target', right_index=True)\n",
    "    out['date'] = pd.to_datetime('now')\n",
    "    out.to_csv('20_newsgroup.csv')\n",
    "    \n",
    "twenty_newsgroup_to_csv()"
   ]
  },
  {
   "cell_type": "code",
   "execution_count": 13,
   "id": "49c7f371-130e-4835-98e4-f2188fadfee6",
   "metadata": {},
   "outputs": [
    {
     "data": {
      "text/html": [
       "<div>\n",
       "<style scoped>\n",
       "    .dataframe tbody tr th:only-of-type {\n",
       "        vertical-align: middle;\n",
       "    }\n",
       "\n",
       "    .dataframe tbody tr th {\n",
       "        vertical-align: top;\n",
       "    }\n",
       "\n",
       "    .dataframe thead th {\n",
       "        text-align: right;\n",
       "    }\n",
       "</style>\n",
       "<table border=\"1\" class=\"dataframe\">\n",
       "  <thead>\n",
       "    <tr style=\"text-align: right;\">\n",
       "      <th></th>\n",
       "      <th>text</th>\n",
       "      <th>target</th>\n",
       "      <th>title</th>\n",
       "      <th>date</th>\n",
       "    </tr>\n",
       "  </thead>\n",
       "  <tbody>\n",
       "    <tr>\n",
       "      <th>9</th>\n",
       "      <td>\\nIf a Christian means someone who believes in...</td>\n",
       "      <td>19</td>\n",
       "      <td>talk.religion.misc</td>\n",
       "      <td>2022-04-04 10:53:57.085231</td>\n",
       "    </tr>\n",
       "    <tr>\n",
       "      <th>10</th>\n",
       "      <td>the blood of the lamb.\\n\\nThis will be a hard ...</td>\n",
       "      <td>19</td>\n",
       "      <td>talk.religion.misc</td>\n",
       "      <td>2022-04-04 10:53:57.085231</td>\n",
       "    </tr>\n",
       "    <tr>\n",
       "      <th>12</th>\n",
       "      <td>930418\\n\\nDo what thou wilt shall be the whole...</td>\n",
       "      <td>19</td>\n",
       "      <td>talk.religion.misc</td>\n",
       "      <td>2022-04-04 10:53:57.085231</td>\n",
       "    </tr>\n",
       "    <tr>\n",
       "      <th>40</th>\n",
       "      <td>\\n\\nNo.  Zeno's paradox is resolved by showing...</td>\n",
       "      <td>19</td>\n",
       "      <td>talk.religion.misc</td>\n",
       "      <td>2022-04-04 10:53:57.085231</td>\n",
       "    </tr>\n",
       "    <tr>\n",
       "      <th>58</th>\n",
       "      <td>\\nDefinitely, J.R. \"Bob\" Dobbs, numero uno, to...</td>\n",
       "      <td>19</td>\n",
       "      <td>talk.religion.misc</td>\n",
       "      <td>2022-04-04 10:53:57.085231</td>\n",
       "    </tr>\n",
       "  </tbody>\n",
       "</table>\n",
       "</div>"
      ],
      "text/plain": [
       "                                                 text  target  \\\n",
       "9   \\nIf a Christian means someone who believes in...      19   \n",
       "10  the blood of the lamb.\\n\\nThis will be a hard ...      19   \n",
       "12  930418\\n\\nDo what thou wilt shall be the whole...      19   \n",
       "40  \\n\\nNo.  Zeno's paradox is resolved by showing...      19   \n",
       "58  \\nDefinitely, J.R. \"Bob\" Dobbs, numero uno, to...      19   \n",
       "\n",
       "                 title                        date  \n",
       "9   talk.religion.misc  2022-04-04 10:53:57.085231  \n",
       "10  talk.religion.misc  2022-04-04 10:53:57.085231  \n",
       "12  talk.religion.misc  2022-04-04 10:53:57.085231  \n",
       "40  talk.religion.misc  2022-04-04 10:53:57.085231  \n",
       "58  talk.religion.misc  2022-04-04 10:53:57.085231  "
      ]
     },
     "execution_count": 13,
     "metadata": {},
     "output_type": "execute_result"
    }
   ],
   "source": [
    "data = pd.read_csv('20_newsgroup.csv', index_col = 0)\n",
    "# Select only 5 classes\n",
    "class_mask = data[\"target\"].isin([7,9,13,18,19])\n",
    "data = data[class_mask]\n",
    "data.head()"
   ]
  },
  {
   "cell_type": "code",
   "execution_count": 14,
   "id": "911094be-f472-4664-b2ba-6eec9f0abc1e",
   "metadata": {},
   "outputs": [],
   "source": [
    "#SPLITTING THE TRAINING DATASET INTO TRAIN AND TEST\n",
    "df_train, df_test = train_test_split(data,test_size=0.2,shuffle=True)"
   ]
  },
  {
   "cell_type": "code",
   "execution_count": 11,
   "id": "aa57297f-2bde-4162-a99d-49b210cc5dc4",
   "metadata": {},
   "outputs": [
    {
     "name": "stdout",
     "output_type": "stream",
     "text": [
      "Collecting seaborn\n",
      "  Using cached seaborn-0.11.2-py3-none-any.whl (292 kB)\n",
      "Requirement already satisfied: pandas>=0.23 in c:\\users\\carlo\\.conda\\envs\\pbr_22\\lib\\site-packages (from seaborn) (1.4.2)\n",
      "Requirement already satisfied: scipy>=1.0 in c:\\users\\carlo\\.conda\\envs\\pbr_22\\lib\\site-packages (from seaborn) (1.8.0)\n",
      "Requirement already satisfied: matplotlib>=2.2 in c:\\users\\carlo\\.conda\\envs\\pbr_22\\lib\\site-packages (from seaborn) (3.5.1)\n",
      "Requirement already satisfied: numpy>=1.15 in c:\\users\\carlo\\.conda\\envs\\pbr_22\\lib\\site-packages (from seaborn) (1.22.3)\n",
      "Requirement already satisfied: fonttools>=4.22.0 in c:\\users\\carlo\\.conda\\envs\\pbr_22\\lib\\site-packages (from matplotlib>=2.2->seaborn) (4.31.2)\n",
      "Requirement already satisfied: kiwisolver>=1.0.1 in c:\\users\\carlo\\.conda\\envs\\pbr_22\\lib\\site-packages (from matplotlib>=2.2->seaborn) (1.4.2)\n",
      "Requirement already satisfied: python-dateutil>=2.7 in c:\\users\\carlo\\.conda\\envs\\pbr_22\\lib\\site-packages (from matplotlib>=2.2->seaborn) (2.8.2)\n",
      "Requirement already satisfied: pillow>=6.2.0 in c:\\users\\carlo\\.conda\\envs\\pbr_22\\lib\\site-packages (from matplotlib>=2.2->seaborn) (9.1.0)\n",
      "Requirement already satisfied: packaging>=20.0 in c:\\users\\carlo\\.conda\\envs\\pbr_22\\lib\\site-packages (from matplotlib>=2.2->seaborn) (21.3)\n",
      "Requirement already satisfied: pyparsing>=2.2.1 in c:\\users\\carlo\\.conda\\envs\\pbr_22\\lib\\site-packages (from matplotlib>=2.2->seaborn) (3.0.4)\n",
      "Requirement already satisfied: cycler>=0.10 in c:\\users\\carlo\\.conda\\envs\\pbr_22\\lib\\site-packages (from matplotlib>=2.2->seaborn) (0.11.0)\n",
      "Requirement already satisfied: pytz>=2020.1 in c:\\users\\carlo\\.conda\\envs\\pbr_22\\lib\\site-packages (from pandas>=0.23->seaborn) (2021.3)\n",
      "Requirement already satisfied: six>=1.5 in c:\\users\\carlo\\.conda\\envs\\pbr_22\\lib\\site-packages (from python-dateutil>=2.7->matplotlib>=2.2->seaborn) (1.16.0)\n",
      "Installing collected packages: seaborn\n",
      "Successfully installed seaborn-0.11.2\n"
     ]
    }
   ],
   "source": [
    "! pip install seaborn"
   ]
  },
  {
   "cell_type": "code",
   "execution_count": 15,
   "id": "919c2c65-a552-4f00-af79-c346c20650e1",
   "metadata": {},
   "outputs": [],
   "source": [
    "import seaborn as sns\n",
    "import matplotlib.pyplot as plt"
   ]
  },
  {
   "cell_type": "code",
   "execution_count": 21,
   "id": "6ee01663-97eb-45bb-ad01-16e60ebc6f3b",
   "metadata": {},
   "outputs": [
    {
     "name": "stdout",
     "output_type": "stream",
     "text": [
      "13    794\n",
      "9     793\n",
      "7     790\n",
      "18    607\n",
      "19    517\n",
      "Name: target, dtype: int64\n"
     ]
    },
    {
     "name": "stderr",
     "output_type": "stream",
     "text": [
      "C:\\Users\\javij\\anaconda3\\lib\\site-packages\\seaborn\\_decorators.py:36: FutureWarning: Pass the following variables as keyword args: x, y. From version 0.12, the only valid positional argument will be `data`, and passing other arguments without an explicit keyword will result in an error or misinterpretation.\n",
      "  warnings.warn(\n"
     ]
    },
    {
     "data": {
      "text/plain": [
       "<AxesSubplot:ylabel='target'>"
      ]
     },
     "execution_count": 21,
     "metadata": {},
     "output_type": "execute_result"
    },
    {
     "data": {
      "image/png": "[encoded data removed]",
      "text/plain": [
       "<Figure size 432x288 with 1 Axes>"
      ]
     },
     "metadata": {
      "needs_background": "light"
     },
     "output_type": "display_data"
    }
   ],
   "source": [
    "x=df_train['target'].value_counts()\n",
    "print(x)\n",
    "sns.barplot(x.index,x)"
   ]
  },
  {
   "cell_type": "code",
   "execution_count": 18,
   "id": "8d871b9b-6af5-422c-aeb3-32402d8136a9",
   "metadata": {},
   "outputs": [
    {
     "data": {
      "text/plain": [
       "text      104\n",
       "target      0\n",
       "title       0\n",
       "date        0\n",
       "dtype: int64"
      ]
     },
     "execution_count": 18,
     "metadata": {},
     "output_type": "execute_result"
    }
   ],
   "source": [
    "df_train.isna().sum()"
   ]
  },
  {
   "cell_type": "code",
   "execution_count": 19,
   "id": "ef8f724b-0a2f-4617-9759-d19f4c0407c4",
   "metadata": {},
   "outputs": [
    {
     "name": "stdout",
     "output_type": "stream",
     "text": [
      "nan\n",
      "nan\n"
     ]
    }
   ],
   "source": [
    "# WORD-COUNT\n",
    "df_train['word_count'] = df_train['text'].apply(lambda x: len(str(x).split()))\n",
    "print(df_train[df_train['target']==1]['word_count'].mean()) #Disaster tweets\n",
    "print(df_train[df_train['target']==0]['word_count'].mean()) #Non-Disaster tweets"
   ]
  },
  {
   "cell_type": "code",
   "execution_count": 22,
   "id": "ecce4817-2942-4e72-bb72-111350b6791e",
   "metadata": {},
   "outputs": [],
   "source": [
    "df_train = df_train.dropna()"
   ]
  },
  {
   "cell_type": "code",
   "execution_count": 25,
   "id": "8b0c4d5c-aa47-47ce-891c-552eda64cc0c",
   "metadata": {},
   "outputs": [
    {
     "data": {
      "image/png": "[encoded data removed]",
      "text/plain": [
       "<Figure size 720x288 with 2 Axes>"
      ]
     },
     "metadata": {
      "needs_background": "light"
     },
     "output_type": "display_data"
    }
   ],
   "source": [
    "# PLOTTING WORD-COUNT\n",
    "fig,(ax1,ax2)=plt.subplots(1,2,figsize=(10,4))\n",
    "train_words=df_train[df_train['target']==7]['word_count']\n",
    "ax1.hist(train_words,color='red')\n",
    "ax1.set_title('Cars')\n",
    "train_words=df_train[df_train['target']==9]['word_count']\n",
    "ax2.hist(train_words,color='green')\n",
    "ax2.set_title('Baseball')\n",
    "fig.suptitle('Words per post')\n",
    "plt.show()"
   ]
  },
  {
   "cell_type": "code",
   "execution_count": 28,
   "id": "20b15769-6aa7-4d85-a5c4-691741c9f820",
   "metadata": {},
   "outputs": [
    {
     "name": "stdout",
     "output_type": "stream",
     "text": [
      "705.3196286472148\n",
      "747.1108213820078\n"
     ]
    }
   ],
   "source": [
    "# CHARACTER-COUNT\n",
    "df_train['char_count'] = df_train['text'].apply(lambda x: len(str(x)))\n",
    "print(df_train[df_train['target']==7]['char_count'].mean()) # Cars\n",
    "print(df_train[df_train['target']==9]['char_count'].mean()) # Baseball"
   ]
  },
  {
   "cell_type": "code",
   "execution_count": 29,
   "id": "e9f8b7b8-6d08-4f05-9d64-ae7969f9bd65",
   "metadata": {},
   "outputs": [],
   "source": [
    "#convert to lowercase, strip and remove punctuations\n",
    "def preprocess(text):\n",
    "    text = text.lower() \n",
    "    text=text.strip()  \n",
    "    text=re.compile('<.*?>').sub('', text) \n",
    "    text = re.compile('[%s]' % re.escape(string.punctuation)).sub(' ', text)  \n",
    "    text = re.sub('\\s+', ' ', text)  \n",
    "    text = re.sub(r'\\[[0-9]*\\]',' ',text) \n",
    "    text=re.sub(r'[^\\w\\s]', '', str(text).lower().strip())\n",
    "    text = re.sub(r'\\d',' ',text) \n",
    "    text = re.sub(r'\\s+',' ',text) \n",
    "    return text\n",
    "\n",
    " \n",
    "# STOPWORD REMOVAL\n",
    "def stopword(string):\n",
    "    a= [i for i in string.split() if i not in stopwords.words('english')]\n",
    "    return ' '.join(a)\n",
    "#LEMMATIZATION\n",
    "# Initialize the lemmatizer\n",
    "wl = WordNetLemmatizer()\n",
    " \n",
    "# This is a helper function to map NTLK position tags\n",
    "def get_wordnet_pos(tag):\n",
    "    if tag.startswith('J'):\n",
    "        return wordnet.ADJ\n",
    "    elif tag.startswith('V'):\n",
    "        return wordnet.VERB\n",
    "    elif tag.startswith('N'):\n",
    "        return wordnet.NOUN\n",
    "    elif tag.startswith('R'):\n",
    "        return wordnet.ADV\n",
    "    else:\n",
    "        return wordnet.NOUN\n",
    "# Tokenize the sentence\n",
    "def lemmatizer(string):\n",
    "    word_pos_tags = nltk.pos_tag(word_tokenize(string)) # Get position tags\n",
    "    a=[wl.lemmatize(tag[0], get_wordnet_pos(tag[1])) for idx, tag in enumerate(word_pos_tags)] # Map the position tag and lemmatize the word/token\n",
    "    return \" \".join(a)"
   ]
  },
  {
   "cell_type": "code",
   "execution_count": 30,
   "id": "b63e9a0c-29ca-40f0-ab3e-28873f0fee9c",
   "metadata": {},
   "outputs": [
    {
     "data": {
      "text/html": [
       "<div>\n",
       "<style scoped>\n",
       "    .dataframe tbody tr th:only-of-type {\n",
       "        vertical-align: middle;\n",
       "    }\n",
       "\n",
       "    .dataframe tbody tr th {\n",
       "        vertical-align: top;\n",
       "    }\n",
       "\n",
       "    .dataframe thead th {\n",
       "        text-align: right;\n",
       "    }\n",
       "</style>\n",
       "<table border=\"1\" class=\"dataframe\">\n",
       "  <thead>\n",
       "    <tr style=\"text-align: right;\">\n",
       "      <th></th>\n",
       "      <th>text</th>\n",
       "      <th>target</th>\n",
       "      <th>title</th>\n",
       "      <th>date</th>\n",
       "      <th>word_count</th>\n",
       "      <th>char_count</th>\n",
       "      <th>clean_text</th>\n",
       "    </tr>\n",
       "  </thead>\n",
       "  <tbody>\n",
       "    <tr>\n",
       "      <th>13423</th>\n",
       "      <td>-&gt;     &gt;Now let me get this straight. After a ...</td>\n",
       "      <td>18</td>\n",
       "      <td>talk.politics.misc</td>\n",
       "      <td>2022-04-04 10:53:57.085231</td>\n",
       "      <td>301</td>\n",
       "      <td>1764</td>\n",
       "      <td>let get straight nice long rant people need ta...</td>\n",
       "    </tr>\n",
       "    <tr>\n",
       "      <th>13722</th>\n",
       "      <td>I am looking for statistics on the prevalence ...</td>\n",
       "      <td>13</td>\n",
       "      <td>sci.med</td>\n",
       "      <td>2022-04-04 10:53:57.085231</td>\n",
       "      <td>115</td>\n",
       "      <td>767</td>\n",
       "      <td>look statistic prevalence disorder treatable b...</td>\n",
       "    </tr>\n",
       "    <tr>\n",
       "      <th>2953</th>\n",
       "      <td>\\n\\nUnfortunately, Hep B infection can eventua...</td>\n",
       "      <td>13</td>\n",
       "      <td>sci.med</td>\n",
       "      <td>2022-04-04 10:53:57.085231</td>\n",
       "      <td>203</td>\n",
       "      <td>1326</td>\n",
       "      <td>unfortunately hep b infection eventuate chroni...</td>\n",
       "    </tr>\n",
       "    <tr>\n",
       "      <th>5960</th>\n",
       "      <td>: &gt;But if entertainment (company) sell compute...</td>\n",
       "      <td>19</td>\n",
       "      <td>talk.religion.misc</td>\n",
       "      <td>2022-04-04 10:53:57.085231</td>\n",
       "      <td>213</td>\n",
       "      <td>1235</td>\n",
       "      <td>entertainment company sell computer program sa...</td>\n",
       "    </tr>\n",
       "    <tr>\n",
       "      <th>17385</th>\n",
       "      <td>\\n\\n\\n\\nI have been having problems with a sli...</td>\n",
       "      <td>7</td>\n",
       "      <td>rec.autos</td>\n",
       "      <td>2022-04-04 10:53:57.085231</td>\n",
       "      <td>65</td>\n",
       "      <td>362</td>\n",
       "      <td>problem slightly different clutch problem prel...</td>\n",
       "    </tr>\n",
       "  </tbody>\n",
       "</table>\n",
       "</div>"
      ],
      "text/plain": [
       "                                                    text  target  \\\n",
       "13423  ->     >Now let me get this straight. After a ...      18   \n",
       "13722  I am looking for statistics on the prevalence ...      13   \n",
       "2953   \\n\\nUnfortunately, Hep B infection can eventua...      13   \n",
       "5960   : >But if entertainment (company) sell compute...      19   \n",
       "17385  \\n\\n\\n\\nI have been having problems with a sli...       7   \n",
       "\n",
       "                    title                        date  word_count  char_count  \\\n",
       "13423  talk.politics.misc  2022-04-04 10:53:57.085231         301        1764   \n",
       "13722             sci.med  2022-04-04 10:53:57.085231         115         767   \n",
       "2953              sci.med  2022-04-04 10:53:57.085231         203        1326   \n",
       "5960   talk.religion.misc  2022-04-04 10:53:57.085231         213        1235   \n",
       "17385           rec.autos  2022-04-04 10:53:57.085231          65         362   \n",
       "\n",
       "                                              clean_text  \n",
       "13423  let get straight nice long rant people need ta...  \n",
       "13722  look statistic prevalence disorder treatable b...  \n",
       "2953   unfortunately hep b infection eventuate chroni...  \n",
       "5960   entertainment company sell computer program sa...  \n",
       "17385  problem slightly different clutch problem prel...  "
      ]
     },
     "execution_count": 30,
     "metadata": {},
     "output_type": "execute_result"
    }
   ],
   "source": [
    "def finalpreprocess(string):\n",
    "    return lemmatizer(stopword(preprocess(string)))\n",
    "df_train['clean_text'] = df_train['text'].apply(lambda x: finalpreprocess(x))\n",
    "df_train.head()"
   ]
  },
  {
   "cell_type": "code",
   "execution_count": 31,
   "id": "7439679a-6299-44ca-a0f8-511e83b7aba4",
   "metadata": {},
   "outputs": [],
   "source": [
    "#SPLITTING THE TRAINING DATASET INTO TRAIN AND TEST\n",
    "X_train, X_test, y_train, y_test = train_test_split(df_train[\"clean_text\"],df_train[\"target\"],test_size=0.2,shuffle=True)\n",
    "#Word2Vec\n",
    "# Word2Vec runs on tokenized sentences\n",
    "X_train_tok= [nltk.word_tokenize(i) for i in X_train]  \n",
    "X_test_tok= [nltk.word_tokenize(i) for i in X_test]"
   ]
  },
  {
   "cell_type": "code",
   "execution_count": 32,
   "id": "6253135d-6143-4fb9-9ec7-10cbf3429192",
   "metadata": {},
   "outputs": [
    {
     "ename": "AttributeError",
     "evalue": "'KeyedVectors' object has no attribute 'syn0'",
     "output_type": "error",
     "traceback": [
      "\u001b[1;31m---------------------------------------------------------------------------\u001b[0m",
      "\u001b[1;31mAttributeError\u001b[0m                            Traceback (most recent call last)",
      "\u001b[1;32m~\\AppData\\Local\\Temp/ipykernel_31656/3781909055.py\u001b[0m in \u001b[0;36m<module>\u001b[1;34m\u001b[0m\n\u001b[0;32m     21\u001b[0m \u001b[0mdf_train\u001b[0m\u001b[1;33m[\u001b[0m\u001b[1;34m'clean_text_tok'\u001b[0m\u001b[1;33m]\u001b[0m\u001b[1;33m=\u001b[0m\u001b[1;33m[\u001b[0m\u001b[0mnltk\u001b[0m\u001b[1;33m.\u001b[0m\u001b[0mword_tokenize\u001b[0m\u001b[1;33m(\u001b[0m\u001b[0mi\u001b[0m\u001b[1;33m)\u001b[0m \u001b[1;32mfor\u001b[0m \u001b[0mi\u001b[0m \u001b[1;32min\u001b[0m \u001b[0mdf_train\u001b[0m\u001b[1;33m[\u001b[0m\u001b[1;34m'clean_text'\u001b[0m\u001b[1;33m]\u001b[0m\u001b[1;33m]\u001b[0m\u001b[1;33m\u001b[0m\u001b[1;33m\u001b[0m\u001b[0m\n\u001b[0;32m     22\u001b[0m \u001b[0mmodel\u001b[0m \u001b[1;33m=\u001b[0m \u001b[0mWord2Vec\u001b[0m\u001b[1;33m(\u001b[0m\u001b[0mdf_train\u001b[0m\u001b[1;33m[\u001b[0m\u001b[1;34m'clean_text_tok'\u001b[0m\u001b[1;33m]\u001b[0m\u001b[1;33m,\u001b[0m\u001b[0mmin_count\u001b[0m\u001b[1;33m=\u001b[0m\u001b[1;36m1\u001b[0m\u001b[1;33m)\u001b[0m\u001b[1;33m\u001b[0m\u001b[1;33m\u001b[0m\u001b[0m\n\u001b[1;32m---> 23\u001b[1;33m \u001b[0mw2v\u001b[0m \u001b[1;33m=\u001b[0m \u001b[0mdict\u001b[0m\u001b[1;33m(\u001b[0m\u001b[0mzip\u001b[0m\u001b[1;33m(\u001b[0m\u001b[0mmodel\u001b[0m\u001b[1;33m.\u001b[0m\u001b[0mwv\u001b[0m\u001b[1;33m.\u001b[0m\u001b[0mindex_to_key\u001b[0m\u001b[1;33m,\u001b[0m \u001b[0mmodel\u001b[0m\u001b[1;33m.\u001b[0m\u001b[0mwv\u001b[0m\u001b[1;33m.\u001b[0m\u001b[0msyn0\u001b[0m\u001b[1;33m)\u001b[0m\u001b[1;33m)\u001b[0m\u001b[1;33m\u001b[0m\u001b[1;33m\u001b[0m\u001b[0m\n\u001b[0m\u001b[0;32m     24\u001b[0m \u001b[0mmodelw\u001b[0m \u001b[1;33m=\u001b[0m \u001b[0mMeanEmbeddingVectorizer\u001b[0m\u001b[1;33m(\u001b[0m\u001b[0mw2v\u001b[0m\u001b[1;33m)\u001b[0m\u001b[1;33m\u001b[0m\u001b[1;33m\u001b[0m\u001b[0m\n\u001b[0;32m     25\u001b[0m \u001b[1;31m# converting text to numerical data using Word2Vec\u001b[0m\u001b[1;33m\u001b[0m\u001b[1;33m\u001b[0m\u001b[1;33m\u001b[0m\u001b[0m\n",
      "\u001b[1;31mAttributeError\u001b[0m: 'KeyedVectors' object has no attribute 'syn0'"
     ]
    }
   ],
   "source": [
    "#Tf-Idf\n",
    "tfidf_vectorizer = TfidfVectorizer(use_idf=True)\n",
    "X_train_vectors_tfidf = tfidf_vectorizer.fit_transform(X_train) \n",
    "X_test_vectors_tfidf = tfidf_vectorizer.transform(X_test)\n",
    "#building Word2Vec model\n",
    "class MeanEmbeddingVectorizer(object):\n",
    "    def __init__(self, word2vec):\n",
    "        self.word2vec = word2vec\n",
    "        # if a text is empty we should return a vector of zeros\n",
    "        # with the same dimensionality as all the other vectors\n",
    "        self.dim = len(next(iter(word2vec.values())))\n",
    "def fit(self, X, y):\n",
    "        return self\n",
    "def transform(self, X):\n",
    "        return np.array([\n",
    "            np.mean([self.word2vec[w] for w in words if w in self.word2vec]\n",
    "                    or [np.zeros(self.dim)], axis=0)\n",
    "            for words in X\n",
    "        ])\n",
    "\n",
    "df_train['clean_text_tok']=[nltk.word_tokenize(i) for i in df_train['clean_text']]\n",
    "model = Word2Vec(df_train['clean_text_tok'],min_count=1)    \n",
    "w2v = dict(zip(model.wv.index_to_key, model.wv.syn0)) \n",
    "modelw = MeanEmbeddingVectorizer(w2v)\n",
    "# converting text to numerical data using Word2Vec\n",
    "X_train_vectors_w2v = modelw.transform(X_train_tok)\n",
    "X_val_vectors_w2v = modelw.transform(X_test_tok)"
   ]
  },
  {
   "cell_type": "code",
   "execution_count": 33,
   "id": "9bb4fb4f-72a5-499b-ab8f-882753ae2249",
   "metadata": {},
   "outputs": [
    {
     "name": "stdout",
     "output_type": "stream",
     "text": [
      "              precision    recall  f1-score   support\n",
      "\n",
      "           7       0.86      0.94      0.90       158\n",
      "           9       0.93      0.96      0.94       145\n",
      "          13       0.93      0.95      0.94       164\n",
      "          18       0.85      0.79      0.82       118\n",
      "          19       0.90      0.76      0.82        95\n",
      "\n",
      "    accuracy                           0.89       680\n",
      "   macro avg       0.89      0.88      0.88       680\n",
      "weighted avg       0.89      0.89      0.89       680\n",
      "\n",
      "Confusion Matrix: [[149   2   3   2   2]\n",
      " [  6 139   0   0   0]\n",
      " [  6   1 155   2   0]\n",
      " [  7   5   7  93   6]\n",
      " [  6   3   2  12  72]]\n",
      "Test Accuracy of Logistic Regression(tf-idf) is 0.8941176470588236 \n",
      "\n",
      "Test Balanced Accuracy of Logistic Regression(tf-idf) is 0.8785621891241346 \n",
      "\n",
      "Test F1-score weighted of Logistic Regression(tf-idf) is 0.8925252416312028 \n",
      "\n"
     ]
    }
   ],
   "source": [
    "#FITTING THE CLASSIFICATION MODEL using Logistic Regression(tf-idf)\n",
    "lr_tfidf=LogisticRegression(solver = 'liblinear', C=10, penalty = 'l2')\n",
    "lr_tfidf.fit(X_train_vectors_tfidf, y_train)  \n",
    "#Predict y value for test dataset\n",
    "y_predict = lr_tfidf.predict(X_test_vectors_tfidf)\n",
    "y_prob = lr_tfidf.predict_proba(X_test_vectors_tfidf)[:,1]\n",
    "print(classification_report(y_test,y_predict))\n",
    "print('Confusion Matrix:',confusion_matrix(y_test, y_predict))\n",
    "\n",
    "from sklearn.metrics import accuracy_score, confusion_matrix, classification_report, f1_score, balanced_accuracy_score\n",
    "\n",
    "svm_acc = accuracy_score(y_test, y_predict)\n",
    "svm_f1 = f1_score(y_test, y_predict, average ='weighted')\n",
    "svm_bacc = balanced_accuracy_score(y_test, y_predict)\n",
    "\n",
    "print(f\"Test Accuracy of Logistic Regression(tf-idf) is {svm_acc} \\n\")\n",
    "print(f\"Test Balanced Accuracy of Logistic Regression(tf-idf) is {svm_bacc} \\n\")\n",
    "print(f\"Test F1-score weighted of Logistic Regression(tf-idf) is {svm_f1} \\n\")"
   ]
  },
  {
   "cell_type": "code",
   "execution_count": 34,
   "id": "bb36c67f-a330-490a-8d8b-152c0ec31d64",
   "metadata": {},
   "outputs": [
    {
     "name": "stdout",
     "output_type": "stream",
     "text": [
      "              precision    recall  f1-score   support\n",
      "\n",
      "           7       0.93      0.94      0.93       158\n",
      "           9       0.82      0.99      0.90       145\n",
      "          13       0.84      0.96      0.90       164\n",
      "          18       0.85      0.78      0.81       118\n",
      "          19       0.96      0.53      0.68        95\n",
      "\n",
      "    accuracy                           0.87       680\n",
      "   macro avg       0.88      0.84      0.84       680\n",
      "weighted avg       0.88      0.87      0.86       680\n",
      "\n",
      "Confusion Matrix: [[148   7   2   0   1]\n",
      " [  2 143   0   0   0]\n",
      " [  3   3 157   1   0]\n",
      " [  4  10  11  92   1]\n",
      " [  3  11  16  15  50]]\n",
      "Test Accuracy of Naive Bayes(tf-idf) is 0.8676470588235294 \n",
      "\n",
      "Test Balanced Accuracy of Naive Bayes(tf-idf) is 0.8372419273809573 \n",
      "\n",
      "Test F1-score weighted of Naive Bayes(tf-idf) is 0.860143026120116 \n",
      "\n"
     ]
    }
   ],
   "source": [
    "#FITTING THE CLASSIFICATION MODEL using Naive Bayes(tf-idf)\n",
    "nb_tfidf = MultinomialNB()\n",
    "nb_tfidf.fit(X_train_vectors_tfidf, y_train)  \n",
    "#Predict y value for test dataset\n",
    "y_predict = nb_tfidf.predict(X_test_vectors_tfidf)\n",
    "y_prob = nb_tfidf.predict_proba(X_test_vectors_tfidf)[:,1]\n",
    "print(classification_report(y_test,y_predict))\n",
    "print('Confusion Matrix:',confusion_matrix(y_test, y_predict))\n",
    "\n",
    "svm_acc = accuracy_score(y_test, y_predict)\n",
    "svm_f1 = f1_score(y_test, y_predict, average ='weighted')\n",
    "svm_bacc = balanced_accuracy_score(y_test, y_predict)\n",
    "\n",
    "print(f\"Test Accuracy of Naive Bayes(tf-idf) is {svm_acc} \\n\")\n",
    "print(f\"Test Balanced Accuracy of Naive Bayes(tf-idf) is {svm_bacc} \\n\")\n",
    "print(f\"Test F1-score weighted of Naive Bayes(tf-idf) is {svm_f1} \\n\")"
   ]
  }
 ],
 "metadata": {
  "kernelspec": {
   "display_name": "Python 3 (ipykernel)",
   "language": "python",
   "name": "python3"
  },
  "language_info": {
   "codemirror_mode": {
    "name": "ipython",
    "version": 3
   },
   "file_extension": ".py",
   "mimetype": "text/x-python",
   "name": "python",
   "nbconvert_exporter": "python",
   "pygments_lexer": "ipython3",
   "version": "3.8.8"
  }
 },
 "nbformat": 4,
 "nbformat_minor": 5
}
