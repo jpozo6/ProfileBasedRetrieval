{
 "cells": [
  {
   "cell_type": "code",
   "execution_count": 1,
   "metadata": {
    "collapsed": false,
    "jupyter": {
     "outputs_hidden": false
    },
    "pycharm": {
     "name": "#%%\n"
    }
   },
   "outputs": [],
   "source": [
    "import pandas as pd\n",
    "import numpy as np\n",
    "#for text pre-processing\n",
    "import re, string\n",
    "import nltk\n",
    "from nltk.tokenize import word_tokenize\n",
    "from nltk.corpus import stopwords\n",
    "from nltk.tokenize import word_tokenize\n",
    "from nltk.stem import SnowballStemmer\n",
    "from nltk.corpus import wordnet\n",
    "from nltk.stem import WordNetLemmatizer\n",
    "#nltk.download('punkt')\n",
    "#nltk.download('averaged_perceptron_tagger')\n",
    "#nltk.download('wordnet')\n",
    "#for model-building\n",
    "from sklearn.model_selection import train_test_split\n",
    "from sklearn.linear_model import LogisticRegression\n",
    "from sklearn.naive_bayes import MultinomialNB\n",
    "from sklearn.svm import SVC\n",
    "from sklearn.tree import DecisionTreeClassifier\n",
    "from sklearn.neural_network import MLPClassifier\n",
    "from sklearn.metrics import classification_report, f1_score, accuracy_score, confusion_matrix\n",
    "from sklearn.metrics import roc_curve, auc, roc_auc_score\n",
    "# bag of words\n",
    "from sklearn.feature_extraction.text import TfidfVectorizer\n",
    "from sklearn.feature_extraction.text import CountVectorizer\n",
    "#for word embedding\n",
    "#import gensim\n",
    "#from gensim.models.doc2vec import Doc2Vec, TaggedDocument"
   ]
  },
  {
   "cell_type": "code",
   "execution_count": 2,
   "metadata": {
    "collapsed": false,
    "jupyter": {
     "outputs_hidden": false
    },
    "pycharm": {
     "name": "#%%\n"
    }
   },
   "outputs": [
    {
     "name": "stderr",
     "output_type": "stream",
     "text": [
      "C:\\ProgramData\\Anaconda3\\envs\\tf\\lib\\site-packages\\pandas\\core\\arrays\\datetimes.py:2199: FutureWarning: The parsing of 'now' in pd.to_datetime without `utc=True` is deprecated. In a future version, this will match Timestamp('now') and Timestamp.now()\n",
      "  result, tz_parsed = tslib.array_to_datetime(\n"
     ]
    }
   ],
   "source": [
    "from sklearn.datasets import fetch_20newsgroups\n",
    "import pandas as pd\n",
    "\n",
    "def twenty_newsgroup_to_csv():\n",
    "    newsgroups_train = fetch_20newsgroups(subset='all', remove=('headers', 'footers', 'quotes'))\n",
    "\n",
    "    df = pd.DataFrame([newsgroups_train.data, newsgroups_train.target.tolist()]).T\n",
    "    df.columns = ['text', 'target']\n",
    "\n",
    "    targets = pd.DataFrame( newsgroups_train.target_names)\n",
    "    targets.columns=['title']\n",
    "\n",
    "    out = pd.merge(df, targets, left_on='target', right_index=True)\n",
    "    out['date'] = pd.to_datetime('now')\n",
    "    out.to_csv('20_newsgroup.csv')\n",
    "\n",
    "twenty_newsgroup_to_csv()"
   ]
  },
  {
   "cell_type": "code",
   "execution_count": 3,
   "metadata": {
    "collapsed": false,
    "jupyter": {
     "outputs_hidden": false
    },
    "pycharm": {
     "name": "#%%\n"
    }
   },
   "outputs": [
    {
     "data": {
      "text/html": [
       "<div>\n",
       "<style scoped>\n",
       "    .dataframe tbody tr th:only-of-type {\n",
       "        vertical-align: middle;\n",
       "    }\n",
       "\n",
       "    .dataframe tbody tr th {\n",
       "        vertical-align: top;\n",
       "    }\n",
       "\n",
       "    .dataframe thead th {\n",
       "        text-align: right;\n",
       "    }\n",
       "</style>\n",
       "<table border=\"1\" class=\"dataframe\">\n",
       "  <thead>\n",
       "    <tr style=\"text-align: right;\">\n",
       "      <th></th>\n",
       "      <th>text</th>\n",
       "      <th>target</th>\n",
       "      <th>title</th>\n",
       "      <th>date</th>\n",
       "    </tr>\n",
       "  </thead>\n",
       "  <tbody>\n",
       "    <tr>\n",
       "      <th>9</th>\n",
       "      <td>\\nIf a Christian means someone who believes in...</td>\n",
       "      <td>19</td>\n",
       "      <td>talk.religion.misc</td>\n",
       "      <td>2022-04-05 20:44:46.874893</td>\n",
       "    </tr>\n",
       "    <tr>\n",
       "      <th>10</th>\n",
       "      <td>the blood of the lamb.\\n\\nThis will be a hard ...</td>\n",
       "      <td>19</td>\n",
       "      <td>talk.religion.misc</td>\n",
       "      <td>2022-04-05 20:44:46.874893</td>\n",
       "    </tr>\n",
       "    <tr>\n",
       "      <th>12</th>\n",
       "      <td>930418\\n\\nDo what thou wilt shall be the whole...</td>\n",
       "      <td>19</td>\n",
       "      <td>talk.religion.misc</td>\n",
       "      <td>2022-04-05 20:44:46.874893</td>\n",
       "    </tr>\n",
       "    <tr>\n",
       "      <th>40</th>\n",
       "      <td>\\n\\nNo.  Zeno's paradox is resolved by showing...</td>\n",
       "      <td>19</td>\n",
       "      <td>talk.religion.misc</td>\n",
       "      <td>2022-04-05 20:44:46.874893</td>\n",
       "    </tr>\n",
       "    <tr>\n",
       "      <th>58</th>\n",
       "      <td>\\nDefinitely, J.R. \"Bob\" Dobbs, numero uno, to...</td>\n",
       "      <td>19</td>\n",
       "      <td>talk.religion.misc</td>\n",
       "      <td>2022-04-05 20:44:46.874893</td>\n",
       "    </tr>\n",
       "  </tbody>\n",
       "</table>\n",
       "</div>"
      ],
      "text/plain": [
       "                                                 text  target  \\\n",
       "9   \\nIf a Christian means someone who believes in...      19   \n",
       "10  the blood of the lamb.\\n\\nThis will be a hard ...      19   \n",
       "12  930418\\n\\nDo what thou wilt shall be the whole...      19   \n",
       "40  \\n\\nNo.  Zeno's paradox is resolved by showing...      19   \n",
       "58  \\nDefinitely, J.R. \"Bob\" Dobbs, numero uno, to...      19   \n",
       "\n",
       "                 title                        date  \n",
       "9   talk.religion.misc  2022-04-05 20:44:46.874893  \n",
       "10  talk.religion.misc  2022-04-05 20:44:46.874893  \n",
       "12  talk.religion.misc  2022-04-05 20:44:46.874893  \n",
       "40  talk.religion.misc  2022-04-05 20:44:46.874893  \n",
       "58  talk.religion.misc  2022-04-05 20:44:46.874893  "
      ]
     },
     "execution_count": 3,
     "metadata": {},
     "output_type": "execute_result"
    }
   ],
   "source": [
    "data = pd.read_csv('20_newsgroup.csv', index_col = 0)\n",
    "# Select only 5 classes\n",
    "class_mask = data[\"target\"].isin([7,9,13,18,19])\n",
    "data = data[class_mask]\n",
    "data.head()"
   ]
  },
  {
   "cell_type": "code",
   "execution_count": 4,
   "metadata": {
    "collapsed": false,
    "jupyter": {
     "outputs_hidden": false
    },
    "pycharm": {
     "name": "#%%\n"
    }
   },
   "outputs": [],
   "source": [
    "#SPLITTING THE TRAINING DATASET INTO TRAIN AND TEST\n",
    "df_train, df_test = train_test_split(data,test_size=0.1,shuffle=True, random_state=1)"
   ]
  },
  {
   "cell_type": "code",
   "execution_count": 5,
   "metadata": {
    "collapsed": false,
    "jupyter": {
     "outputs_hidden": false
    },
    "pycharm": {
     "name": "#%%\n"
    }
   },
   "outputs": [
    {
     "name": "stdout",
     "output_type": "stream",
     "text": [
      "Requirement already satisfied: seaborn in c:\\programdata\\anaconda3\\envs\\tf\\lib\\site-packages (0.11.2)\n",
      "Requirement already satisfied: matplotlib>=2.2 in c:\\programdata\\anaconda3\\envs\\tf\\lib\\site-packages (from seaborn) (3.5.1)\n",
      "Requirement already satisfied: scipy>=1.0 in c:\\programdata\\anaconda3\\envs\\tf\\lib\\site-packages (from seaborn) (1.7.3)\n",
      "Requirement already satisfied: pandas>=0.23 in c:\\programdata\\anaconda3\\envs\\tf\\lib\\site-packages (from seaborn) (1.4.1)\n",
      "Requirement already satisfied: numpy>=1.15 in c:\\programdata\\anaconda3\\envs\\tf\\lib\\site-packages (from seaborn) (1.22.3)\n",
      "Requirement already satisfied: fonttools>=4.22.0 in c:\\programdata\\anaconda3\\envs\\tf\\lib\\site-packages (from matplotlib>=2.2->seaborn) (4.25.0)\n",
      "Requirement already satisfied: kiwisolver>=1.0.1 in c:\\programdata\\anaconda3\\envs\\tf\\lib\\site-packages (from matplotlib>=2.2->seaborn) (1.3.2)\n",
      "Requirement already satisfied: packaging>=20.0 in c:\\programdata\\anaconda3\\envs\\tf\\lib\\site-packages (from matplotlib>=2.2->seaborn) (21.3)\n",
      "Requirement already satisfied: cycler>=0.10 in c:\\programdata\\anaconda3\\envs\\tf\\lib\\site-packages (from matplotlib>=2.2->seaborn) (0.11.0)\n",
      "Requirement already satisfied: pyparsing>=2.2.1 in c:\\programdata\\anaconda3\\envs\\tf\\lib\\site-packages (from matplotlib>=2.2->seaborn) (3.0.4)\n",
      "Requirement already satisfied: pillow>=6.2.0 in c:\\programdata\\anaconda3\\envs\\tf\\lib\\site-packages (from matplotlib>=2.2->seaborn) (9.0.1)\n",
      "Requirement already satisfied: python-dateutil>=2.7 in c:\\programdata\\anaconda3\\envs\\tf\\lib\\site-packages (from matplotlib>=2.2->seaborn) (2.8.2)\n",
      "Requirement already satisfied: pytz>=2020.1 in c:\\programdata\\anaconda3\\envs\\tf\\lib\\site-packages (from pandas>=0.23->seaborn) (2021.3)\n",
      "Requirement already satisfied: six>=1.5 in c:\\programdata\\anaconda3\\envs\\tf\\lib\\site-packages (from python-dateutil>=2.7->matplotlib>=2.2->seaborn) (1.16.0)\n"
     ]
    }
   ],
   "source": [
    "! pip install seaborn"
   ]
  },
  {
   "cell_type": "code",
   "execution_count": 6,
   "metadata": {
    "collapsed": false,
    "jupyter": {
     "outputs_hidden": false
    },
    "pycharm": {
     "name": "#%%\n"
    }
   },
   "outputs": [],
   "source": [
    "import seaborn as sns\n",
    "import matplotlib.pyplot as plt"
   ]
  },
  {
   "cell_type": "code",
   "execution_count": 7,
   "metadata": {
    "collapsed": false,
    "jupyter": {
     "outputs_hidden": false
    },
    "pycharm": {
     "name": "#%%\n"
    }
   },
   "outputs": [
    {
     "name": "stdout",
     "output_type": "stream",
     "text": [
      "9     905\n",
      "13    892\n",
      "7     886\n",
      "18    686\n",
      "19    570\n",
      "Name: target, dtype: int64\n"
     ]
    },
    {
     "name": "stderr",
     "output_type": "stream",
     "text": [
      "C:\\ProgramData\\Anaconda3\\envs\\tf\\lib\\site-packages\\seaborn\\_decorators.py:36: FutureWarning: Pass the following variables as keyword args: x, y. From version 0.12, the only valid positional argument will be `data`, and passing other arguments without an explicit keyword will result in an error or misinterpretation.\n",
      "  warnings.warn(\n"
     ]
    },
    {
     "data": {
      "text/plain": [
       "<AxesSubplot:ylabel='target'>"
      ]
     },
     "execution_count": 7,
     "metadata": {},
     "output_type": "execute_result"
    },
    {
     "data": {
      "image/png": "[encoded data removed]",
      "text/plain": [
       "<Figure size 432x288 with 1 Axes>"
      ]
     },
     "metadata": {
      "needs_background": "light"
     },
     "output_type": "display_data"
    }
   ],
   "source": [
    "x=df_train['target'].value_counts()\n",
    "print(x)\n",
    "sns.barplot(x.index,x)"
   ]
  },
  {
   "cell_type": "code",
   "execution_count": 8,
   "metadata": {
    "collapsed": false,
    "jupyter": {
     "outputs_hidden": false
    },
    "pycharm": {
     "name": "#%%\n"
    }
   },
   "outputs": [
    {
     "data": {
      "text/plain": [
       "text      108\n",
       "target      0\n",
       "title       0\n",
       "date        0\n",
       "dtype: int64"
      ]
     },
     "execution_count": 8,
     "metadata": {},
     "output_type": "execute_result"
    }
   ],
   "source": [
    "df_train.isna().sum()"
   ]
  },
  {
   "cell_type": "code",
   "execution_count": 9,
   "metadata": {
    "collapsed": false,
    "jupyter": {
     "outputs_hidden": false
    },
    "pycharm": {
     "name": "#%%\n"
    }
   },
   "outputs": [
    {
     "name": "stdout",
     "output_type": "stream",
     "text": [
      "111.67381489841986\n",
      "125.91381215469613\n"
     ]
    }
   ],
   "source": [
    "# WORD-COUNT\n",
    "df_train['word_count'] = df_train['text'].apply(lambda x: len(str(x).split()))\n",
    "print(df_train[df_train['target']==7]['word_count'].mean()) #Disaster tweets\n",
    "print(df_train[df_train['target']==9]['word_count'].mean()) #Non-Disaster tweets"
   ]
  },
  {
   "cell_type": "code",
   "execution_count": 10,
   "metadata": {
    "collapsed": false,
    "jupyter": {
     "outputs_hidden": false
    },
    "pycharm": {
     "name": "#%%\n"
    }
   },
   "outputs": [],
   "source": [
    "df_train = df_train.dropna()\n",
    "df_test = df_test.dropna()"
   ]
  },
  {
   "cell_type": "code",
   "execution_count": 11,
   "metadata": {
    "collapsed": false,
    "jupyter": {
     "outputs_hidden": false
    },
    "pycharm": {
     "name": "#%%\n"
    }
   },
   "outputs": [
    {
     "data": {
      "image/png": "[encoded data removed]",
      "text/plain": [
       "<Figure size 720x288 with 2 Axes>"
      ]
     },
     "metadata": {
      "needs_background": "light"
     },
     "output_type": "display_data"
    }
   ],
   "source": [
    "# PLOTTING WORD-COUNT\n",
    "fig,(ax1,ax2)=plt.subplots(1,2,figsize=(10,4))\n",
    "train_words=df_train[df_train['target']==7]['word_count']\n",
    "ax1.hist(train_words,color='red')\n",
    "ax1.set_title('Cars')\n",
    "train_words=df_train[df_train['target']==9]['word_count']\n",
    "ax2.hist(train_words,color='green')\n",
    "ax2.set_title('Baseball')\n",
    "fig.suptitle('Words per post')\n",
    "plt.show()"
   ]
  },
  {
   "cell_type": "code",
   "execution_count": 12,
   "metadata": {
    "collapsed": false,
    "jupyter": {
     "outputs_hidden": false
    },
    "pycharm": {
     "name": "#%%\n"
    }
   },
   "outputs": [
    {
     "name": "stdout",
     "output_type": "stream",
     "text": [
      "675.8110979929162\n",
      "753.5956719817767\n"
     ]
    }
   ],
   "source": [
    "# CHARACTER-COUNT\n",
    "df_train['char_count'] = df_train['text'].apply(lambda x: len(str(x)))\n",
    "print(df_train[df_train['target']==7]['char_count'].mean()) # Cars\n",
    "print(df_train[df_train['target']==9]['char_count'].mean()) # Baseball"
   ]
  },
  {
   "cell_type": "code",
   "execution_count": 13,
   "metadata": {
    "collapsed": false,
    "jupyter": {
     "outputs_hidden": false
    },
    "pycharm": {
     "name": "#%%\n"
    }
   },
   "outputs": [],
   "source": [
    "#convert to lowercase, strip and remove punctuations\n",
    "def preprocess(text):\n",
    "    text = text.lower()\n",
    "    text=text.strip()\n",
    "    text=re.compile('<.*?>').sub('', text)\n",
    "    text = re.compile('[%s]' % re.escape(string.punctuation)).sub(' ', text)\n",
    "    text = re.sub('\\s+', ' ', text)\n",
    "    text = re.sub(r'\\[[0-9]*\\]',' ',text)\n",
    "    text=re.sub(r'[^\\w\\s]', '', str(text).lower().strip())\n",
    "    text = re.sub(r'\\d',' ',text)\n",
    "    text = re.sub(r'\\s+',' ',text)\n",
    "    return text\n",
    "\n",
    "\n",
    "# STOPWORD REMOVAL\n",
    "def stopword(string):\n",
    "    a= [i for i in string.split() if i not in stopwords.words('english')]\n",
    "    return ' '.join(a)\n",
    "#LEMMATIZATION\n",
    "# Initialize the lemmatizer\n",
    "wl = WordNetLemmatizer()\n",
    "\n",
    "# This is a helper function to map NTLK position tags\n",
    "def get_wordnet_pos(tag):\n",
    "    if tag.startswith('J'):\n",
    "        return wordnet.ADJ\n",
    "    elif tag.startswith('V'):\n",
    "        return wordnet.VERB\n",
    "    elif tag.startswith('N'):\n",
    "        return wordnet.NOUN\n",
    "    elif tag.startswith('R'):\n",
    "        return wordnet.ADV\n",
    "    else:\n",
    "        return wordnet.NOUN\n",
    "# Tokenize the sentence\n",
    "def lemmatizer(string):\n",
    "    word_pos_tags = nltk.pos_tag(word_tokenize(string)) # Get position tags\n",
    "    a=[wl.lemmatize(tag[0], get_wordnet_pos(tag[1])) for idx, tag in enumerate(word_pos_tags)] # Map the position tag and lemmatize the word/token\n",
    "    return \" \".join(a)"
   ]
  },
  {
   "cell_type": "code",
   "execution_count": 14,
   "metadata": {
    "collapsed": false,
    "jupyter": {
     "outputs_hidden": false
    },
    "pycharm": {
     "name": "#%%\n"
    }
   },
   "outputs": [],
   "source": [
    "def finalpreprocess(string):\n",
    "    return lemmatizer(stopword(preprocess(string)))\n",
    "df_train['clean_text'] = df_train['text'].apply(lambda x: finalpreprocess(x))\n",
    "df_train.head()\n",
    "df_test['clean_text'] = df_test['text'].apply(lambda x: finalpreprocess(x))"
   ]
  },
  {
   "cell_type": "code",
   "execution_count": 15,
   "metadata": {
    "collapsed": false,
    "jupyter": {
     "outputs_hidden": false
    },
    "pycharm": {
     "name": "#%%\n"
    }
   },
   "outputs": [],
   "source": [
    "#SPLITTING THE TRAINING DATASET INTO TRAIN AND TEST\n",
    "X_train, X_val, y_train, y_val = train_test_split(df_train[\"clean_text\"],df_train[\"title\"],test_size=0.2,shuffle=True, stratify=df_train[\"title\"], random_state=2)\n",
    "X_test = df_test['clean_text']\n",
    "y_test = df_test['title']\n",
    "# Word2Vec runs on tokenized sentences\n",
    "X_train_tok= [nltk.word_tokenize(i) for i in X_train]\n",
    "X_val_tok= [nltk.word_tokenize(i) for i in X_val]\n",
    "X_test_tok= [nltk.word_tokenize(i) for i in X_test]"
   ]
  },
  {
   "cell_type": "code",
   "execution_count": 16,
   "metadata": {
    "collapsed": false,
    "jupyter": {
     "outputs_hidden": false
    },
    "pycharm": {
     "name": "#%%\n"
    }
   },
   "outputs": [],
   "source": [
    "#Tf-Idf vectorizer\n",
    "tfidf_vectorizer = TfidfVectorizer(use_idf=True)\n",
    "X_train_vectors_tfidf = tfidf_vectorizer.fit_transform(X_train)\n",
    "X_val_vectors_tfidf = tfidf_vectorizer.transform(X_val)\n",
    "X_test_vectors_tfidf = tfidf_vectorizer.transform(X_test)"
   ]
  },
  {
   "cell_type": "code",
   "execution_count": 17,
   "metadata": {
    "collapsed": false,
    "jupyter": {
     "outputs_hidden": false
    },
    "pycharm": {
     "name": "#%%\n"
    }
   },
   "outputs": [
    {
     "name": "stdout",
     "output_type": "stream",
     "text": [
      "                    precision    recall  f1-score   support\n",
      "\n",
      "         rec.autos       0.91      0.94      0.93       100\n",
      "rec.sport.baseball       0.93      0.94      0.94        88\n",
      "           sci.med       0.89      0.97      0.93        95\n",
      "talk.politics.misc       0.88      0.87      0.88        86\n",
      "talk.religion.misc       0.86      0.69      0.76        54\n",
      "\n",
      "          accuracy                           0.90       423\n",
      "         macro avg       0.90      0.88      0.89       423\n",
      "      weighted avg       0.90      0.90      0.90       423\n",
      "\n",
      "Confusion Matrix:\n",
      " [[94  1  2  2  1]\n",
      " [ 2 83  1  1  1]\n",
      " [ 2  1 92  0  0]\n",
      " [ 1  3  3 75  4]\n",
      " [ 4  1  5  7 37]]\n",
      "Test Accuracy of Logistic Regression(tf-idf) is 0.900709219858156 \n",
      "\n",
      "Test Balanced Accuracy of Logistic Regression(tf-idf) is 0.8817762158508792 \n",
      "\n",
      "Test F1-score weighted of Logistic Regression(tf-idf) is 0.8984851346275827 \n",
      "\n"
     ]
    }
   ],
   "source": [
    "#FITTING THE CLASSIFICATION MODEL using Logistic Regression(tf-idf)\n",
    "lr_tfidf=LogisticRegression(solver = 'liblinear', C=10, penalty = 'l2')\n",
    "lr_tfidf.fit(X_train_vectors_tfidf, y_train)\n",
    "#Predict y value for test dataset\n",
    "y_predict = lr_tfidf.predict(X_test_vectors_tfidf)\n",
    "y_prob = lr_tfidf.predict_proba(X_test_vectors_tfidf)[:,1]\n",
    "print(classification_report(y_test,y_predict))\n",
    "print('Confusion Matrix:\\n',confusion_matrix(y_test, y_predict))\n",
    "\n",
    "from sklearn.metrics import accuracy_score, confusion_matrix, classification_report, f1_score, balanced_accuracy_score\n",
    "\n",
    "lr_acc = accuracy_score(y_test, y_predict)\n",
    "lr_f1 = f1_score(y_test, y_predict, average ='weighted')\n",
    "lr_bacc = balanced_accuracy_score(y_test, y_predict)\n",
    "\n",
    "print(f\"Test Accuracy of Logistic Regression(tf-idf) is {lr_acc} \\n\")\n",
    "print(f\"Test Balanced Accuracy of Logistic Regression(tf-idf) is {lr_bacc} \\n\")\n",
    "print(f\"Test F1-score weighted of Logistic Regression(tf-idf) is {lr_f1} \\n\")"
   ]
  },
  {
   "cell_type": "code",
   "execution_count": 18,
   "metadata": {
    "collapsed": false,
    "jupyter": {
     "outputs_hidden": false
    },
    "pycharm": {
     "name": "#%%\n"
    }
   },
   "outputs": [
    {
     "name": "stdout",
     "output_type": "stream",
     "text": [
      "                    precision    recall  f1-score   support\n",
      "\n",
      "         rec.autos       0.93      0.95      0.94       100\n",
      "rec.sport.baseball       0.84      0.94      0.89        88\n",
      "           sci.med       0.88      0.97      0.92        95\n",
      "talk.politics.misc       0.86      0.90      0.88        86\n",
      "talk.religion.misc       0.93      0.46      0.62        54\n",
      "\n",
      "          accuracy                           0.88       423\n",
      "         macro avg       0.89      0.84      0.85       423\n",
      "      weighted avg       0.88      0.88      0.87       423\n",
      "\n",
      "Confusion Matrix:\n",
      " [[95  2  0  2  1]\n",
      " [ 3 83  1  0  1]\n",
      " [ 0  3 92  0  0]\n",
      " [ 0  6  3 77  0]\n",
      " [ 4  5  9 11 25]]\n",
      "Test Accuracy of Naive Bayes(tf-idf) is 0.8794326241134752 \n",
      "\n",
      "Test Balanced Accuracy of Naive Bayes(tf-idf) is 0.8439829341971323 \n",
      "\n",
      "Test F1-score weighted of Naive Bayes(tf-idf) is 0.870355523245274 \n",
      "\n"
     ]
    }
   ],
   "source": [
    "#FITTING THE CLASSIFICATION MODEL using Naive Bayes(tf-idf)\n",
    "nb_tfidf = MultinomialNB()\n",
    "nb_tfidf.fit(X_train_vectors_tfidf, y_train)\n",
    "#Predict y value for test dataset\n",
    "y_predict = nb_tfidf.predict(X_test_vectors_tfidf)\n",
    "y_prob = nb_tfidf.predict_proba(X_test_vectors_tfidf)[:,1]\n",
    "print(classification_report(y_test,y_predict))\n",
    "print('Confusion Matrix:\\n',confusion_matrix(y_test, y_predict))\n",
    "\n",
    "nb_acc = accuracy_score(y_test, y_predict)\n",
    "nb_f1 = f1_score(y_test, y_predict, average ='weighted')\n",
    "nb_bacc = balanced_accuracy_score(y_test, y_predict)\n",
    "\n",
    "print(f\"Test Accuracy of Naive Bayes(tf-idf) is {nb_acc} \\n\")\n",
    "print(f\"Test Balanced Accuracy of Naive Bayes(tf-idf) is {nb_bacc} \\n\")\n",
    "print(f\"Test F1-score weighted of Naive Bayes(tf-idf) is {nb_f1} \\n\")"
   ]
  },
  {
   "cell_type": "code",
   "execution_count": 19,
   "metadata": {
    "collapsed": false,
    "jupyter": {
     "outputs_hidden": false
    },
    "pycharm": {
     "name": "#%%\n"
    }
   },
   "outputs": [
    {
     "name": "stdout",
     "output_type": "stream",
     "text": [
      "                    precision    recall  f1-score   support\n",
      "\n",
      "         rec.autos       0.96      0.95      0.95       100\n",
      "rec.sport.baseball       0.93      0.92      0.93        88\n",
      "           sci.med       0.84      0.99      0.91        95\n",
      "talk.politics.misc       0.91      0.87      0.89        86\n",
      "talk.religion.misc       0.91      0.72      0.80        54\n",
      "\n",
      "          accuracy                           0.91       423\n",
      "         macro avg       0.91      0.89      0.90       423\n",
      "      weighted avg       0.91      0.91      0.91       423\n",
      "\n",
      "Confusion Matrix:\n",
      " [[95  0  2  2  1]\n",
      " [ 1 81  4  1  1]\n",
      " [ 0  1 94  0  0]\n",
      " [ 0  3  6 75  2]\n",
      " [ 3  2  6  4 39]]\n",
      "Test Accuracy of Support Vector Machine (tf-idf) is 0.9078014184397163 \n",
      "\n",
      "Test Balanced Accuracy of Support Vector Machine (tf-idf) is 0.8908486950286216 \n",
      "\n",
      "Test F1-score weighted of Support Vector Machine (tf-idf) is 0.9064511395090564 \n",
      "\n"
     ]
    }
   ],
   "source": [
    "svc_tfidf = SVC()\n",
    "svc_tfidf.fit(X_train_vectors_tfidf, y_train)\n",
    "#Predict y value for test dataset\n",
    "y_predict = svc_tfidf.predict(X_test_vectors_tfidf)\n",
    "#y_prob = svc_tfidf.predict_proba(X_test_vectors_tfidf)[:,1]\n",
    "print(classification_report(y_test,y_predict))\n",
    "print('Confusion Matrix:\\n',confusion_matrix(y_test, y_predict))\n",
    "\n",
    "svm_acc = accuracy_score(y_test, y_predict)\n",
    "svm_f1 = f1_score(y_test, y_predict, average ='weighted')\n",
    "svm_bacc = balanced_accuracy_score(y_test, y_predict)\n",
    "\n",
    "print(f\"Test Accuracy of Support Vector Machine (tf-idf) is {svm_acc} \\n\")\n",
    "print(f\"Test Balanced Accuracy of Support Vector Machine (tf-idf) is {svm_bacc} \\n\")\n",
    "print(f\"Test F1-score weighted of Support Vector Machine (tf-idf) is {svm_f1} \\n\")"
   ]
  },
  {
   "cell_type": "code",
   "execution_count": 20,
   "metadata": {
    "collapsed": false,
    "jupyter": {
     "outputs_hidden": false
    },
    "pycharm": {
     "name": "#%%\n"
    }
   },
   "outputs": [
    {
     "name": "stdout",
     "output_type": "stream",
     "text": [
      "                    precision    recall  f1-score   support\n",
      "\n",
      "         rec.autos       0.70      0.76      0.73       100\n",
      "rec.sport.baseball       0.80      0.78      0.79        88\n",
      "           sci.med       0.73      0.75      0.74        95\n",
      "talk.politics.misc       0.70      0.66      0.68        86\n",
      "talk.religion.misc       0.70      0.65      0.67        54\n",
      "\n",
      "          accuracy                           0.73       423\n",
      "         macro avg       0.73      0.72      0.72       423\n",
      "      weighted avg       0.73      0.73      0.73       423\n",
      "\n",
      "Confusion Matrix:\n",
      " [[76  8  9  4  3]\n",
      " [ 9 69  5  3  2]\n",
      " [11  3 71  8  2]\n",
      " [ 4  5 12 57  8]\n",
      " [ 8  1  0 10 35]]\n",
      "Test Accuracy of Decision Tree(tf-idf) is 0.7281323877068558 \n",
      "\n",
      "Test Balanced Accuracy of Decision Tree(tf-idf) is 0.7204796351932214 \n",
      "\n",
      "Test F1-score weighted of Decision Tree(tf-idf) is 0.7277393378136225 \n",
      "\n"
     ]
    }
   ],
   "source": [
    "dt_tfidf = DecisionTreeClassifier()\n",
    "dt_tfidf.fit(X_train_vectors_tfidf, y_train)\n",
    "#Predict y value for test dataset\n",
    "y_predict = dt_tfidf.predict(X_test_vectors_tfidf)\n",
    "#y_prob = dt_tfidf.predict_proba(X_test_vectors_tfidf)[:,1]\n",
    "print(classification_report(y_test,y_predict))\n",
    "print('Confusion Matrix:\\n',confusion_matrix(y_test, y_predict))\n",
    "\n",
    "dt_acc = accuracy_score(y_test, y_predict)\n",
    "dt_f1 = f1_score(y_test, y_predict, average ='weighted')\n",
    "dt_bacc = balanced_accuracy_score(y_test, y_predict)\n",
    "\n",
    "print(f\"Test Accuracy of Decision Tree(tf-idf) is {dt_acc} \\n\")\n",
    "print(f\"Test Balanced Accuracy of Decision Tree(tf-idf) is {dt_bacc} \\n\")\n",
    "print(f\"Test F1-score weighted of Decision Tree(tf-idf) is {dt_f1} \\n\")"
   ]
  },
  {
   "cell_type": "code",
   "execution_count": 21,
   "metadata": {
    "collapsed": false,
    "jupyter": {
     "outputs_hidden": false
    },
    "pycharm": {
     "name": "#%%\n"
    }
   },
   "outputs": [
    {
     "name": "stdout",
     "output_type": "stream",
     "text": [
      "                    precision    recall  f1-score   support\n",
      "\n",
      "         rec.autos       0.92      0.97      0.95       100\n",
      "rec.sport.baseball       0.93      0.93      0.93        88\n",
      "           sci.med       0.95      0.95      0.95        95\n",
      "talk.politics.misc       0.88      0.90      0.89        86\n",
      "talk.religion.misc       0.83      0.72      0.77        54\n",
      "\n",
      "          accuracy                           0.91       423\n",
      "         macro avg       0.90      0.89      0.90       423\n",
      "      weighted avg       0.91      0.91      0.91       423\n",
      "\n",
      "Confusion Matrix:\n",
      " [[97  0  0  2  1]\n",
      " [ 2 82  1  2  1]\n",
      " [ 2  1 90  1  1]\n",
      " [ 1  3  0 77  5]\n",
      " [ 3  2  4  6 39]]\n",
      "Test Accuracy of Neural Network(tf-idf) is 0.9101654846335697 \n",
      "\n",
      "Test Balanced Accuracy of Neural Network(tf-idf) is 0.8933515324604675 \n",
      "\n",
      "Test F1-score weighted of Neural Network(tf-idf) is 0.9088701162345834 \n",
      "\n"
     ]
    }
   ],
   "source": [
    "nn_tfidf = MLPClassifier()\n",
    "nn_tfidf.fit(X_train_vectors_tfidf, y_train)\n",
    "#Predict y value for test dataset\n",
    "y_predict = nn_tfidf.predict(X_test_vectors_tfidf)\n",
    "#y_prob = dt_tfidf.predict_proba(X_test_vectors_tfidf)[:,1]\n",
    "print(classification_report(y_test,y_predict))\n",
    "print('Confusion Matrix:\\n',confusion_matrix(y_test, y_predict))\n",
    "\n",
    "nn_acc = accuracy_score(y_test, y_predict)\n",
    "nn_f1 = f1_score(y_test, y_predict, average ='weighted')\n",
    "nn_bacc = balanced_accuracy_score(y_test, y_predict)\n",
    "\n",
    "print(f\"Test Accuracy of Neural Network(tf-idf) is {nn_acc} \\n\")\n",
    "print(f\"Test Balanced Accuracy of Neural Network(tf-idf) is {nn_bacc} \\n\")\n",
    "print(f\"Test F1-score weighted of Neural Network(tf-idf) is {nn_f1} \\n\")"
   ]
  },
  {
   "cell_type": "code",
   "execution_count": 22,
   "metadata": {
    "collapsed": false,
    "jupyter": {
     "outputs_hidden": false
    },
    "pycharm": {
     "name": "#%%\n"
    }
   },
   "outputs": [],
   "source": [
    "X_train_vectors_tfidf = X_train_vectors_tfidf.toarray()\n",
    "X_val_vectors_tfidf = X_val_vectors_tfidf.toarray()\n",
    "X_test_vectors_tfidf = X_test_vectors_tfidf.toarray()"
   ]
  },
  {
   "cell_type": "code",
   "execution_count": 23,
   "metadata": {
    "collapsed": false,
    "jupyter": {
     "outputs_hidden": false
    },
    "pycharm": {
     "name": "#%%\n"
    }
   },
   "outputs": [],
   "source": [
    "from keras import Sequential\n",
    "from keras.layers import Dense, Dropout\n",
    "import tensorflow as tf\n",
    "from sklearn.preprocessing import LabelEncoder"
   ]
  },
  {
   "cell_type": "code",
   "execution_count": 24,
   "metadata": {
    "collapsed": false,
    "jupyter": {
     "outputs_hidden": false
    },
    "pycharm": {
     "name": "#%%\n"
    }
   },
   "outputs": [
    {
     "data": {
      "text/plain": [
       "array([[1., 0., 0., 0., 0.],\n",
       "       [0., 0., 1., 0., 0.],\n",
       "       [0., 0., 1., 0., 0.],\n",
       "       ...,\n",
       "       [0., 1., 0., 0., 0.],\n",
       "       [1., 0., 0., 0., 0.],\n",
       "       [1., 0., 0., 0., 0.]], dtype=float32)"
      ]
     },
     "execution_count": 24,
     "metadata": {},
     "output_type": "execute_result"
    }
   ],
   "source": [
    "# one hot encode\n",
    "encoder = LabelEncoder()\n",
    "encoder.fit(y_train)\n",
    "y_train = tf.keras.utils.to_categorical(encoder.transform(y_train))\n",
    "y_val = tf.keras.utils.to_categorical(encoder.transform(y_val))\n",
    "y_test = tf.keras.utils.to_categorical(encoder.transform(y_test))\n",
    "y_train"
   ]
  },
  {
   "cell_type": "code",
   "execution_count": 25,
   "metadata": {
    "collapsed": false,
    "jupyter": {
     "outputs_hidden": false
    },
    "pycharm": {
     "name": "#%%\n"
    }
   },
   "outputs": [
    {
     "name": "stdout",
     "output_type": "stream",
     "text": [
      "Epoch 1/10\n",
      "96/96 [==============================] - 2s 7ms/step - loss: 1.5226 - accuracy: 0.5264 - val_loss: 1.4090 - val_accuracy: 0.7301\n",
      "Epoch 2/10\n",
      "96/96 [==============================] - 0s 5ms/step - loss: 1.2576 - accuracy: 0.7973 - val_loss: 1.1513 - val_accuracy: 0.8240\n",
      "Epoch 3/10\n",
      "96/96 [==============================] - 0s 4ms/step - loss: 0.9719 - accuracy: 0.8734 - val_loss: 0.9149 - val_accuracy: 0.8683\n",
      "Epoch 4/10\n",
      "96/96 [==============================] - 0s 4ms/step - loss: 0.7368 - accuracy: 0.9210 - val_loss: 0.7440 - val_accuracy: 0.8774\n",
      "Epoch 5/10\n",
      "96/96 [==============================] - 0s 4ms/step - loss: 0.5776 - accuracy: 0.9403 - val_loss: 0.6265 - val_accuracy: 0.8787\n",
      "Epoch 6/10\n",
      "96/96 [==============================] - 0s 5ms/step - loss: 0.4589 - accuracy: 0.9497 - val_loss: 0.5454 - val_accuracy: 0.8840\n",
      "Epoch 7/10\n",
      "96/96 [==============================] - 0s 5ms/step - loss: 0.3820 - accuracy: 0.9605 - val_loss: 0.4895 - val_accuracy: 0.8892\n",
      "Epoch 8/10\n",
      "96/96 [==============================] - 0s 4ms/step - loss: 0.3112 - accuracy: 0.9651 - val_loss: 0.4494 - val_accuracy: 0.8931\n",
      "Epoch 9/10\n",
      "96/96 [==============================] - 0s 5ms/step - loss: 0.2648 - accuracy: 0.9706 - val_loss: 0.4208 - val_accuracy: 0.8905\n",
      "Epoch 10/10\n",
      "96/96 [==============================] - 0s 5ms/step - loss: 0.2290 - accuracy: 0.9762 - val_loss: 0.3976 - val_accuracy: 0.8970\n"
     ]
    }
   ],
   "source": [
    "model = Sequential()\n",
    "model.add(Dense(16, activation='elu'))\n",
    "model.add(Dropout(0.5))\n",
    "model.add(Dense(5, activation='softmax'))\n",
    "model.compile(optimizer='adam',\n",
    "              loss='categorical_crossentropy',\n",
    "              metrics=['accuracy'])\n",
    "\n",
    "history = model.fit(X_train_vectors_tfidf, y_train,\n",
    "                    epochs=10, validation_data=(X_val_vectors_tfidf, y_val))"
   ]
  },
  {
   "cell_type": "code",
   "execution_count": 26,
   "metadata": {
    "collapsed": false,
    "jupyter": {
     "outputs_hidden": false
    },
    "pycharm": {
     "name": "#%%\n"
    }
   },
   "outputs": [
    {
     "name": "stdout",
     "output_type": "stream",
     "text": [
      "              precision    recall  f1-score   support\n",
      "\n",
      "           0       0.95      0.94      0.94       100\n",
      "           1       0.87      0.94      0.91        88\n",
      "           2       0.96      0.95      0.95        95\n",
      "           3       0.88      0.92      0.90        86\n",
      "           4       0.87      0.72      0.79        54\n",
      "\n",
      "    accuracy                           0.91       423\n",
      "   macro avg       0.91      0.89      0.90       423\n",
      "weighted avg       0.91      0.91      0.91       423\n",
      "\n",
      "Confusion Matrix:\n",
      " [[94  3  0  2  1]\n",
      " [ 2 83  0  2  1]\n",
      " [ 2  2 90  0  1]\n",
      " [ 0  3  1 79  3]\n",
      " [ 1  4  3  7 39]]\n",
      "Test Accuracy of Neural Network(tf-idf) is 0.9101654846335697 \n",
      "\n",
      "Test F1-score weighted of Neural Network(tf-idf) is 0.9090394536578195 \n",
      "\n"
     ]
    }
   ],
   "source": [
    "#Predict y value for test dataset\n",
    "y_predict = model.predict(X_test_vectors_tfidf)\n",
    "print(classification_report(y_test.argmax(axis=1), y_predict.argmax(axis=1)))\n",
    "print('Confusion Matrix:\\n',confusion_matrix(y_test.argmax(axis=1), y_predict.argmax(axis=1)))\n",
    "\n",
    "acc = accuracy_score(y_test.argmax(axis=1), y_predict.argmax(axis=1))\n",
    "f1 = f1_score(y_test.argmax(axis=1), y_predict.argmax(axis=1), average ='weighted')\n",
    "#bacc = balanced_accuracy_score(y_test.argmax(axis=1), y_predict.argmax(axis=1))\n",
    "\n",
    "print(f\"Test Accuracy of Neural Network(tf-idf) is {acc} \\n\")\n",
    "#print(f\"Test Balanced Accuracy of Naive Bayes(tf-idf) is {bacc} \\n\")\n",
    "print(f\"Test F1-score weighted of Neural Network(tf-idf) is {f1} \\n\")\n"
   ]
  }
 ],
 "metadata": {
  "kernelspec": {
   "display_name": "Python 3 (ipykernel)",
   "language": "python",
   "name": "python3"
  },
  "language_info": {
   "codemirror_mode": {
    "name": "ipython",
    "version": 3
   },
   "file_extension": ".py",
   "mimetype": "text/x-python",
   "name": "python",
   "nbconvert_exporter": "python",
   "pygments_lexer": "ipython3",
   "version": "3.10.4"
  }
 },
 "nbformat": 4,
 "nbformat_minor": 4
}
