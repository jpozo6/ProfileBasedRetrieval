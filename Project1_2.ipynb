{
 "cells": [
  {
   "cell_type": "code",
   "execution_count": 1,
   "id": "907af995-b3ce-4e16-a834-8d28fe9fd3c2",
   "metadata": {},
   "outputs": [
    {
     "name": "stderr",
     "output_type": "stream",
     "text": [
      "[nltk_data] Downloading package punkt to\n",
      "[nltk_data]     C:\\Users\\carlo\\AppData\\Roaming\\nltk_data...\n",
      "[nltk_data]   Package punkt is already up-to-date!\n",
      "[nltk_data] Downloading package averaged_perceptron_tagger to\n",
      "[nltk_data]     C:\\Users\\carlo\\AppData\\Roaming\\nltk_data...\n",
      "[nltk_data]   Package averaged_perceptron_tagger is already up-to-\n",
      "[nltk_data]       date!\n",
      "[nltk_data] Downloading package wordnet to\n",
      "[nltk_data]     C:\\Users\\carlo\\AppData\\Roaming\\nltk_data...\n",
      "[nltk_data]   Package wordnet is already up-to-date!\n"
     ]
    }
   ],
   "source": [
    "import pandas as pd\n",
    "import numpy as np\n",
    "#for text pre-processing\n",
    "import re, string\n",
    "import nltk\n",
    "from nltk.tokenize import word_tokenize\n",
    "from nltk.corpus import stopwords\n",
    "from nltk.tokenize import word_tokenize\n",
    "from nltk.stem import SnowballStemmer\n",
    "from nltk.corpus import wordnet\n",
    "from nltk.stem import WordNetLemmatizer\n",
    "nltk.download('punkt')\n",
    "nltk.download('averaged_perceptron_tagger')\n",
    "nltk.download('wordnet')\n",
    "#for model-building\n",
    "from sklearn.model_selection import train_test_split\n",
    "from sklearn.linear_model import LogisticRegression\n",
    "from sklearn.naive_bayes import MultinomialNB\n",
    "from sklearn.metrics import classification_report, f1_score, accuracy_score, confusion_matrix\n",
    "from sklearn.metrics import roc_curve, auc, roc_auc_score\n",
    "# bag of words\n",
    "from sklearn.feature_extraction.text import TfidfVectorizer\n",
    "from sklearn.feature_extraction.text import CountVectorizer\n",
    "#for word embedding\n",
    "import gensim\n",
    "from gensim.models import Word2Vec"
   ]
  },
  {
   "cell_type": "code",
   "execution_count": 32,
   "id": "f9cdee80-28fd-4de7-9923-3952c00e1f25",
   "metadata": {},
   "outputs": [
    {
     "name": "stderr",
     "output_type": "stream",
     "text": [
      "C:\\Users\\carlo\\.conda\\envs\\PBR_22\\lib\\site-packages\\pandas\\core\\arrays\\datetimes.py:2199: FutureWarning: The parsing of 'now' in pd.to_datetime without `utc=True` is deprecated. In a future version, this will match Timestamp('now') and Timestamp.now()\n",
      "  result, tz_parsed = tslib.array_to_datetime(\n"
     ]
    }
   ],
   "source": [
    "from sklearn.datasets import fetch_20newsgroups\n",
    "import pandas as pd\n",
    "\n",
    "def twenty_newsgroup_to_csv():\n",
    "    newsgroups_train = fetch_20newsgroups(subset='all', remove=('headers', 'footers', 'quotes'))\n",
    "\n",
    "    df = pd.DataFrame([newsgroups_train.data, newsgroups_train.target.tolist()]).T\n",
    "    df.columns = ['text', 'target']\n",
    "\n",
    "    targets = pd.DataFrame( newsgroups_train.target_names)\n",
    "    targets.columns=['title']\n",
    "\n",
    "    out = pd.merge(df, targets, left_on='target', right_index=True)\n",
    "    out['date'] = pd.to_datetime('now')\n",
    "    out.to_csv('20_newsgroup.csv')\n",
    "    \n",
    "twenty_newsgroup_to_csv()"
   ]
  },
  {
   "cell_type": "code",
   "execution_count": 33,
   "id": "49c7f371-130e-4835-98e4-f2188fadfee6",
   "metadata": {},
   "outputs": [],
   "source": [
    "data = pd.read_csv('20_newsgroup.csv', index_col = 0)"
   ]
  },
  {
   "cell_type": "code",
   "execution_count": 34,
   "id": "911094be-f472-4664-b2ba-6eec9f0abc1e",
   "metadata": {},
   "outputs": [],
   "source": [
    "#SPLITTING THE TRAINING DATASET INTO TRAIN AND TEST\n",
    "df_train, df_test = train_test_split(data,test_size=0.2,shuffle=True)"
   ]
  },
  {
   "cell_type": "code",
   "execution_count": 11,
   "id": "aa57297f-2bde-4162-a99d-49b210cc5dc4",
   "metadata": {},
   "outputs": [
    {
     "name": "stdout",
     "output_type": "stream",
     "text": [
      "Collecting seaborn\n",
      "  Using cached seaborn-0.11.2-py3-none-any.whl (292 kB)\n",
      "Requirement already satisfied: pandas>=0.23 in c:\\users\\carlo\\.conda\\envs\\pbr_22\\lib\\site-packages (from seaborn) (1.4.2)\n",
      "Requirement already satisfied: scipy>=1.0 in c:\\users\\carlo\\.conda\\envs\\pbr_22\\lib\\site-packages (from seaborn) (1.8.0)\n",
      "Requirement already satisfied: matplotlib>=2.2 in c:\\users\\carlo\\.conda\\envs\\pbr_22\\lib\\site-packages (from seaborn) (3.5.1)\n",
      "Requirement already satisfied: numpy>=1.15 in c:\\users\\carlo\\.conda\\envs\\pbr_22\\lib\\site-packages (from seaborn) (1.22.3)\n",
      "Requirement already satisfied: fonttools>=4.22.0 in c:\\users\\carlo\\.conda\\envs\\pbr_22\\lib\\site-packages (from matplotlib>=2.2->seaborn) (4.31.2)\n",
      "Requirement already satisfied: kiwisolver>=1.0.1 in c:\\users\\carlo\\.conda\\envs\\pbr_22\\lib\\site-packages (from matplotlib>=2.2->seaborn) (1.4.2)\n",
      "Requirement already satisfied: python-dateutil>=2.7 in c:\\users\\carlo\\.conda\\envs\\pbr_22\\lib\\site-packages (from matplotlib>=2.2->seaborn) (2.8.2)\n",
      "Requirement already satisfied: pillow>=6.2.0 in c:\\users\\carlo\\.conda\\envs\\pbr_22\\lib\\site-packages (from matplotlib>=2.2->seaborn) (9.1.0)\n",
      "Requirement already satisfied: packaging>=20.0 in c:\\users\\carlo\\.conda\\envs\\pbr_22\\lib\\site-packages (from matplotlib>=2.2->seaborn) (21.3)\n",
      "Requirement already satisfied: pyparsing>=2.2.1 in c:\\users\\carlo\\.conda\\envs\\pbr_22\\lib\\site-packages (from matplotlib>=2.2->seaborn) (3.0.4)\n",
      "Requirement already satisfied: cycler>=0.10 in c:\\users\\carlo\\.conda\\envs\\pbr_22\\lib\\site-packages (from matplotlib>=2.2->seaborn) (0.11.0)\n",
      "Requirement already satisfied: pytz>=2020.1 in c:\\users\\carlo\\.conda\\envs\\pbr_22\\lib\\site-packages (from pandas>=0.23->seaborn) (2021.3)\n",
      "Requirement already satisfied: six>=1.5 in c:\\users\\carlo\\.conda\\envs\\pbr_22\\lib\\site-packages (from python-dateutil>=2.7->matplotlib>=2.2->seaborn) (1.16.0)\n",
      "Installing collected packages: seaborn\n",
      "Successfully installed seaborn-0.11.2\n"
     ]
    }
   ],
   "source": [
    "! pip install seaborn"
   ]
  },
  {
   "cell_type": "code",
   "execution_count": 17,
   "id": "919c2c65-a552-4f00-af79-c346c20650e1",
   "metadata": {},
   "outputs": [],
   "source": [
    "import seaborn as sns\n",
    "import matplotlib.pyplot as plt"
   ]
  },
  {
   "cell_type": "code",
   "execution_count": 35,
   "id": "6ee01663-97eb-45bb-ad01-16e60ebc6f3b",
   "metadata": {},
   "outputs": [
    {
     "name": "stdout",
     "output_type": "stream",
     "text": [
      "9     811\n",
      "13    808\n",
      "15    802\n",
      "12    800\n",
      "6     798\n",
      "1     795\n",
      "11    795\n",
      "10    789\n",
      "3     786\n",
      "14    783\n",
      "8     780\n",
      "7     780\n",
      "2     773\n",
      "5     760\n",
      "4     756\n",
      "17    751\n",
      "16    737\n",
      "0     651\n",
      "18    612\n",
      "19    509\n",
      "Name: target, dtype: int64\n"
     ]
    },
    {
     "name": "stderr",
     "output_type": "stream",
     "text": [
      "C:\\Users\\carlo\\.conda\\envs\\PBR_22\\lib\\site-packages\\seaborn\\_decorators.py:36: FutureWarning: Pass the following variables as keyword args: x, y. From version 0.12, the only valid positional argument will be `data`, and passing other arguments without an explicit keyword will result in an error or misinterpretation.\n",
      "  warnings.warn(\n"
     ]
    },
    {
     "data": {
      "text/plain": [
       "<AxesSubplot:ylabel='target'>"
      ]
     },
     "execution_count": 35,
     "metadata": {},
     "output_type": "execute_result"
    },
    {
     "data": {
      "image/png": "[encoded data removed]",
      "text/plain": [
       "<Figure size 432x288 with 1 Axes>"
      ]
     },
     "metadata": {
      "needs_background": "light"
     },
     "output_type": "display_data"
    }
   ],
   "source": [
    "x=df_train['target'].value_counts()\n",
    "print(x)\n",
    "sns.barplot(x.index,x)"
   ]
  },
  {
   "cell_type": "code",
   "execution_count": 39,
   "id": "8d871b9b-6af5-422c-aeb3-32402d8136a9",
   "metadata": {},
   "outputs": [
    {
     "data": {
      "text/plain": [
       "text          0\n",
       "target        0\n",
       "title         0\n",
       "date          0\n",
       "word_count    0\n",
       "dtype: int64"
      ]
     },
     "execution_count": 39,
     "metadata": {},
     "output_type": "execute_result"
    }
   ],
   "source": [
    "df_train.isna().sum()"
   ]
  },
  {
   "cell_type": "code",
   "execution_count": 37,
   "id": "ef8f724b-0a2f-4617-9759-d19f4c0407c4",
   "metadata": {},
   "outputs": [
    {
     "name": "stdout",
     "output_type": "stream",
     "text": [
      "179.95849056603774\n",
      "199.32258064516128\n"
     ]
    }
   ],
   "source": [
    "# WORD-COUNT\n",
    "df_train['word_count'] = df_train['text'].apply(lambda x: len(str(x).split()))\n",
    "print(df_train[df_train['target']==1]['word_count'].mean()) #Disaster tweets\n",
    "print(df_train[df_train['target']==0]['word_count'].mean()) #Non-Disaster tweets"
   ]
  },
  {
   "cell_type": "code",
   "execution_count": 38,
   "id": "ecce4817-2942-4e72-bb72-111350b6791e",
   "metadata": {},
   "outputs": [],
   "source": [
    "df_train = df_train.dropna()"
   ]
  },
  {
   "cell_type": "code",
   "execution_count": 40,
   "id": "8b0c4d5c-aa47-47ce-891c-552eda64cc0c",
   "metadata": {},
   "outputs": [
    {
     "data": {
      "image/png": "[encoded data removed]",
      "text/plain": [
       "<Figure size 720x288 with 2 Axes>"
      ]
     },
     "metadata": {
      "needs_background": "light"
     },
     "output_type": "display_data"
    }
   ],
   "source": [
    "# PLOTTING WORD-COUNT\n",
    "fig,(ax1,ax2)=plt.subplots(1,2,figsize=(10,4))\n",
    "train_words=df_train[df_train['target']==1]['word_count']\n",
    "ax1.hist(train_words,color='red')\n",
    "ax1.set_title('Disaster tweets')\n",
    "train_words=df_train[df_train['target']==0]['word_count']\n",
    "ax2.hist(train_words,color='green')\n",
    "ax2.set_title('Non-disaster tweets')\n",
    "fig.suptitle('Words per tweet')\n",
    "plt.show()"
   ]
  },
  {
   "cell_type": "code",
   "execution_count": 41,
   "id": "20b15769-6aa7-4d85-a5c4-691741c9f820",
   "metadata": {},
   "outputs": [
    {
     "name": "stdout",
     "output_type": "stream",
     "text": [
      "1199.5076923076922\n",
      "1217.1921875\n"
     ]
    }
   ],
   "source": [
    "# CHARACTER-COUNT\n",
    "df_train['char_count'] = df_train['text'].apply(lambda x: len(str(x)))\n",
    "print(df_train[df_train['target']==1]['char_count'].mean()) #Disaster tweets\n",
    "print(df_train[df_train['target']==0]['char_count'].mean()) #Non-Disaster tweets"
   ]
  },
  {
   "cell_type": "code",
   "execution_count": 44,
   "id": "e9f8b7b8-6d08-4f05-9d64-ae7969f9bd65",
   "metadata": {},
   "outputs": [],
   "source": [
    "#convert to lowercase, strip and remove punctuations\n",
    "def preprocess(text):\n",
    "    text = text.lower() \n",
    "    text=text.strip()  \n",
    "    text=re.compile('<.*?>').sub('', text) \n",
    "    text = re.compile('[%s]' % re.escape(string.punctuation)).sub(' ', text)  \n",
    "    text = re.sub('\\s+', ' ', text)  \n",
    "    text = re.sub(r'\\[[0-9]*\\]',' ',text) \n",
    "    text=re.sub(r'[^\\w\\s]', '', str(text).lower().strip())\n",
    "    text = re.sub(r'\\d',' ',text) \n",
    "    text = re.sub(r'\\s+',' ',text) \n",
    "    return text\n",
    "\n",
    " \n",
    "# STOPWORD REMOVAL\n",
    "def stopword(string):\n",
    "    a= [i for i in string.split() if i not in stopwords.words('english')]\n",
    "    return ' '.join(a)\n",
    "#LEMMATIZATION\n",
    "# Initialize the lemmatizer\n",
    "wl = WordNetLemmatizer()\n",
    " \n",
    "# This is a helper function to map NTLK position tags\n",
    "def get_wordnet_pos(tag):\n",
    "    if tag.startswith('J'):\n",
    "        return wordnet.ADJ\n",
    "    elif tag.startswith('V'):\n",
    "        return wordnet.VERB\n",
    "    elif tag.startswith('N'):\n",
    "        return wordnet.NOUN\n",
    "    elif tag.startswith('R'):\n",
    "        return wordnet.ADV\n",
    "    else:\n",
    "        return wordnet.NOUN\n",
    "# Tokenize the sentence\n",
    "def lemmatizer(string):\n",
    "    word_pos_tags = nltk.pos_tag(word_tokenize(string)) # Get position tags\n",
    "    a=[wl.lemmatize(tag[0], get_wordnet_pos(tag[1])) for idx, tag in enumerate(word_pos_tags)] # Map the position tag and lemmatize the word/token\n",
    "    return \" \".join(a)"
   ]
  },
  {
   "cell_type": "code",
   "execution_count": 45,
   "id": "b63e9a0c-29ca-40f0-ab3e-28873f0fee9c",
   "metadata": {},
   "outputs": [
    {
     "data": {
      "text/html": [
       "<div>\n",
       "<style scoped>\n",
       "    .dataframe tbody tr th:only-of-type {\n",
       "        vertical-align: middle;\n",
       "    }\n",
       "\n",
       "    .dataframe tbody tr th {\n",
       "        vertical-align: top;\n",
       "    }\n",
       "\n",
       "    .dataframe thead th {\n",
       "        text-align: right;\n",
       "    }\n",
       "</style>\n",
       "<table border=\"1\" class=\"dataframe\">\n",
       "  <thead>\n",
       "    <tr style=\"text-align: right;\">\n",
       "      <th></th>\n",
       "      <th>text</th>\n",
       "      <th>target</th>\n",
       "      <th>title</th>\n",
       "      <th>date</th>\n",
       "      <th>word_count</th>\n",
       "      <th>char_count</th>\n",
       "      <th>clean_text</th>\n",
       "    </tr>\n",
       "  </thead>\n",
       "  <tbody>\n",
       "    <tr>\n",
       "      <th>12442</th>\n",
       "      <td>Hi-\\nDo any of you hardware gurus out there kn...</td>\n",
       "      <td>4</td>\n",
       "      <td>comp.sys.mac.hardware</td>\n",
       "      <td>2022-04-03 10:35:12.269940</td>\n",
       "      <td>122</td>\n",
       "      <td>703</td>\n",
       "      <td>hi hardware guru know kind memory architecture...</td>\n",
       "    </tr>\n",
       "    <tr>\n",
       "      <th>16608</th>\n",
       "      <td>For those who pray in tongues,\\n\\n      When i...</td>\n",
       "      <td>15</td>\n",
       "      <td>soc.religion.christian</td>\n",
       "      <td>2022-04-03 10:35:12.269940</td>\n",
       "      <td>29</td>\n",
       "      <td>164</td>\n",
       "      <td>pray tongue appropriate pray speak tongue woul...</td>\n",
       "    </tr>\n",
       "    <tr>\n",
       "      <th>10158</th>\n",
       "      <td>I feel compelled to complain: the statement th...</td>\n",
       "      <td>14</td>\n",
       "      <td>sci.space</td>\n",
       "      <td>2022-04-03 10:35:12.269940</td>\n",
       "      <td>475</td>\n",
       "      <td>2783</td>\n",
       "      <td>feel compel complain statement recent observat...</td>\n",
       "    </tr>\n",
       "    <tr>\n",
       "      <th>1523</th>\n",
       "      <td>FOR SALE\\n\\nPC TOOLS VERSION 7.1\\n\\nAll origin...</td>\n",
       "      <td>6</td>\n",
       "      <td>misc.forsale</td>\n",
       "      <td>2022-04-03 10:35:12.269940</td>\n",
       "      <td>21</td>\n",
       "      <td>142</td>\n",
       "      <td>sale pc tool version original disk manual incl...</td>\n",
       "    </tr>\n",
       "    <tr>\n",
       "      <th>7138</th>\n",
       "      <td>\\nIt will certainly *help* to be able to run W...</td>\n",
       "      <td>2</td>\n",
       "      <td>comp.os.ms-windows.misc</td>\n",
       "      <td>2022-04-03 10:35:12.269940</td>\n",
       "      <td>87</td>\n",
       "      <td>460</td>\n",
       "      <td>certainly help able run windows dos apps way s...</td>\n",
       "    </tr>\n",
       "  </tbody>\n",
       "</table>\n",
       "</div>"
      ],
      "text/plain": [
       "                                                    text  target  \\\n",
       "12442  Hi-\\nDo any of you hardware gurus out there kn...       4   \n",
       "16608  For those who pray in tongues,\\n\\n      When i...      15   \n",
       "10158  I feel compelled to complain: the statement th...      14   \n",
       "1523   FOR SALE\\n\\nPC TOOLS VERSION 7.1\\n\\nAll origin...       6   \n",
       "7138   \\nIt will certainly *help* to be able to run W...       2   \n",
       "\n",
       "                         title                        date  word_count  \\\n",
       "12442    comp.sys.mac.hardware  2022-04-03 10:35:12.269940         122   \n",
       "16608   soc.religion.christian  2022-04-03 10:35:12.269940          29   \n",
       "10158                sci.space  2022-04-03 10:35:12.269940         475   \n",
       "1523              misc.forsale  2022-04-03 10:35:12.269940          21   \n",
       "7138   comp.os.ms-windows.misc  2022-04-03 10:35:12.269940          87   \n",
       "\n",
       "       char_count                                         clean_text  \n",
       "12442         703  hi hardware guru know kind memory architecture...  \n",
       "16608         164  pray tongue appropriate pray speak tongue woul...  \n",
       "10158        2783  feel compel complain statement recent observat...  \n",
       "1523          142  sale pc tool version original disk manual incl...  \n",
       "7138          460  certainly help able run windows dos apps way s...  "
      ]
     },
     "execution_count": 45,
     "metadata": {},
     "output_type": "execute_result"
    }
   ],
   "source": [
    "def finalpreprocess(string):\n",
    "    return lemmatizer(stopword(preprocess(string)))\n",
    "df_train['clean_text'] = df_train['text'].apply(lambda x: finalpreprocess(x))\n",
    "df_train.head()"
   ]
  },
  {
   "cell_type": "code",
   "execution_count": 46,
   "id": "7439679a-6299-44ca-a0f8-511e83b7aba4",
   "metadata": {},
   "outputs": [],
   "source": [
    "#SPLITTING THE TRAINING DATASET INTO TRAIN AND TEST\n",
    "X_train, X_test, y_train, y_test = train_test_split(df_train[\"clean_text\"],df_train[\"target\"],test_size=0.2,shuffle=True)\n",
    "#Word2Vec\n",
    "# Word2Vec runs on tokenized sentences\n",
    "X_train_tok= [nltk.word_tokenize(i) for i in X_train]  \n",
    "X_test_tok= [nltk.word_tokenize(i) for i in X_test]"
   ]
  },
  {
   "cell_type": "code",
   "execution_count": 51,
   "id": "6253135d-6143-4fb9-9ec7-10cbf3429192",
   "metadata": {},
   "outputs": [
    {
     "ename": "AttributeError",
     "evalue": "'KeyedVectors' object has no attribute 'syn0'",
     "output_type": "error",
     "traceback": [
      "\u001b[1;31m---------------------------------------------------------------------------\u001b[0m",
      "\u001b[1;31mAttributeError\u001b[0m                            Traceback (most recent call last)",
      "Input \u001b[1;32mIn [51]\u001b[0m, in \u001b[0;36m<cell line: 23>\u001b[1;34m()\u001b[0m\n\u001b[0;32m     21\u001b[0m df_train[\u001b[38;5;124m'\u001b[39m\u001b[38;5;124mclean_text_tok\u001b[39m\u001b[38;5;124m'\u001b[39m]\u001b[38;5;241m=\u001b[39m[nltk\u001b[38;5;241m.\u001b[39mword_tokenize(i) \u001b[38;5;28;01mfor\u001b[39;00m i \u001b[38;5;129;01min\u001b[39;00m df_train[\u001b[38;5;124m'\u001b[39m\u001b[38;5;124mclean_text\u001b[39m\u001b[38;5;124m'\u001b[39m]]\n\u001b[0;32m     22\u001b[0m model \u001b[38;5;241m=\u001b[39m Word2Vec(df_train[\u001b[38;5;124m'\u001b[39m\u001b[38;5;124mclean_text_tok\u001b[39m\u001b[38;5;124m'\u001b[39m],min_count\u001b[38;5;241m=\u001b[39m\u001b[38;5;241m1\u001b[39m)    \n\u001b[1;32m---> 23\u001b[0m w2v \u001b[38;5;241m=\u001b[39m \u001b[38;5;28mdict\u001b[39m(\u001b[38;5;28mzip\u001b[39m(model\u001b[38;5;241m.\u001b[39mwv\u001b[38;5;241m.\u001b[39mindex_to_key, \u001b[43mmodel\u001b[49m\u001b[38;5;241;43m.\u001b[39;49m\u001b[43mwv\u001b[49m\u001b[38;5;241;43m.\u001b[39;49m\u001b[43msyn0\u001b[49m)) \n\u001b[0;32m     24\u001b[0m modelw \u001b[38;5;241m=\u001b[39m MeanEmbeddingVectorizer(w2v)\n\u001b[0;32m     25\u001b[0m \u001b[38;5;66;03m# converting text to numerical data using Word2Vec\u001b[39;00m\n",
      "\u001b[1;31mAttributeError\u001b[0m: 'KeyedVectors' object has no attribute 'syn0'"
     ]
    }
   ],
   "source": [
    "#Tf-Idf\n",
    "tfidf_vectorizer = TfidfVectorizer(use_idf=True)\n",
    "X_train_vectors_tfidf = tfidf_vectorizer.fit_transform(X_train) \n",
    "X_test_vectors_tfidf = tfidf_vectorizer.transform(X_test)\n",
    "#building Word2Vec model\n",
    "class MeanEmbeddingVectorizer(object):\n",
    "    def __init__(self, word2vec):\n",
    "        self.word2vec = word2vec\n",
    "        # if a text is empty we should return a vector of zeros\n",
    "        # with the same dimensionality as all the other vectors\n",
    "        self.dim = len(next(iter(word2vec.values())))\n",
    "def fit(self, X, y):\n",
    "        return self\n",
    "def transform(self, X):\n",
    "        return np.array([\n",
    "            np.mean([self.word2vec[w] for w in words if w in self.word2vec]\n",
    "                    or [np.zeros(self.dim)], axis=0)\n",
    "            for words in X\n",
    "        ])\n",
    "\n",
    "df_train['clean_text_tok']=[nltk.word_tokenize(i) for i in df_train['clean_text']]\n",
    "model = Word2Vec(df_train['clean_text_tok'],min_count=1)    \n",
    "w2v = dict(zip(model.wv.index_to_key, model.wv.syn0)) \n",
    "modelw = MeanEmbeddingVectorizer(w2v)\n",
    "# converting text to numerical data using Word2Vec\n",
    "X_train_vectors_w2v = modelw.transform(X_train_tok)\n",
    "X_val_vectors_w2v = modelw.transform(X_test_tok)"
   ]
  },
  {
   "cell_type": "code",
   "execution_count": 58,
   "id": "9bb4fb4f-72a5-499b-ab8f-882753ae2249",
   "metadata": {},
   "outputs": [
    {
     "name": "stdout",
     "output_type": "stream",
     "text": [
      "              precision    recall  f1-score   support\n",
      "\n",
      "           0       0.67      0.62      0.64       141\n",
      "           1       0.70      0.73      0.71       171\n",
      "           2       0.65      0.65      0.65       151\n",
      "           3       0.64      0.63      0.64       154\n",
      "           4       0.76      0.74      0.74       151\n",
      "           5       0.75      0.72      0.74       133\n",
      "           6       0.73      0.75      0.74       169\n",
      "           7       0.80      0.76      0.78       157\n",
      "           8       0.65      0.74      0.69       151\n",
      "           9       0.89      0.81      0.85       154\n",
      "          10       0.92      0.89      0.90       159\n",
      "          11       0.82      0.79      0.81       155\n",
      "          12       0.66      0.77      0.71       149\n",
      "          13       0.83      0.89      0.86       167\n",
      "          14       0.80      0.75      0.77       155\n",
      "          15       0.76      0.79      0.77       150\n",
      "          16       0.63      0.73      0.67       126\n",
      "          17       0.82      0.76      0.79       143\n",
      "          18       0.64      0.69      0.66       120\n",
      "          19       0.49      0.34      0.40        98\n",
      "\n",
      "    accuracy                           0.74      2954\n",
      "   macro avg       0.73      0.73      0.73      2954\n",
      "weighted avg       0.74      0.74      0.73      2954\n",
      "\n",
      "Confusion Matrix: [[ 87   4   1   1   1   0   0   1   1   1   0   3   2   3   3   8   4   3\n",
      "    4  14]\n",
      " [  1 124   8  11   3   6   5   0   2   0   0   1   3   2   2   1   0   1\n",
      "    1   0]\n",
      " [  0   6  98  15   5   8   6   0   4   2   0   1   3   1   1   0   0   1\n",
      "    0   0]\n",
      " [  0   4  16  97  12   2   8   1   3   0   0   0   8   0   1   0   0   0\n",
      "    1   1]\n",
      " [  2   5   7  10 111   3   4   2   1   1   0   2   2   1   0   0   0   0\n",
      "    0   0]\n",
      " [  1  14   7   1   0  96   1   0   2   0   1   2   5   0   0   1   1   0\n",
      "    0   1]\n",
      " [  2   1   1   5   7   2 126   8   5   0   1   1   4   1   1   0   3   0\n",
      "    1   0]\n",
      " [  1   3   2   1   0   0   2 120  10   1   0   1   5   1   0   1   4   0\n",
      "    4   1]\n",
      " [  0   2   3   1   1   1   7   3 111   2   0   1   3   2   5   2   3   1\n",
      "    2   1]\n",
      " [  1   1   0   0   1   1   2   0   7 125   8   1   2   1   0   0   0   3\n",
      "    1   0]\n",
      " [  0   0   1   1   0   0   1   1   1   4 142   0   1   1   1   0   1   2\n",
      "    1   1]\n",
      " [  2   1   0   0   2   1   2   2   0   0   0 123   4   1   2   0   9   0\n",
      "    6   0]\n",
      " [  1   0   3   6   3   2   4   4   2   0   0   4 115   1   2   1   1   0\n",
      "    0   0]\n",
      " [  1   2   1   0   0   0   0   0   3   1   1   1   3 149   2   1   1   0\n",
      "    1   0]\n",
      " [  3   6   0   0   1   2   1   3   4   1   1   2   6   3 116   0   4   0\n",
      "    2   0]\n",
      " [  4   1   2   0   0   1   0   0   1   1   0   0   1   4   3 118   0   3\n",
      "    4   7]\n",
      " [  1   1   0   0   0   2   0   1   5   0   0   3   1   0   1   2  92   3\n",
      "   10   4]\n",
      " [  2   0   1   0   0   1   3   2   2   2   0   2   2   1   1   2   5 108\n",
      "    6   3]\n",
      " [  4   3   0   1   0   0   0   2   4   0   1   1   3   3   1   0   9   3\n",
      "   83   2]\n",
      " [ 16   0   0   1   0   0   0   0   4   0   0   1   0   5   3  19  10   3\n",
      "    3  33]]\n",
      "Test Accuracy of Logistic Regression(tf-idf) is 0.7359512525389302 \n",
      "\n",
      "Test Balanced Accuracy of Logistic Regression(tf-idf) is 0.7267072736767723 \n",
      "\n",
      "Test F1-score weighted of Logistic Regression(tf-idf) is 0.7349707618995013 \n",
      "\n"
     ]
    }
   ],
   "source": [
    "#FITTING THE CLASSIFICATION MODEL using Logistic Regression(tf-idf)\n",
    "lr_tfidf=LogisticRegression(solver = 'liblinear', C=10, penalty = 'l2')\n",
    "lr_tfidf.fit(X_train_vectors_tfidf, y_train)  \n",
    "#Predict y value for test dataset\n",
    "y_predict = lr_tfidf.predict(X_test_vectors_tfidf)\n",
    "y_prob = lr_tfidf.predict_proba(X_test_vectors_tfidf)[:,1]\n",
    "print(classification_report(y_test,y_predict))\n",
    "print('Confusion Matrix:',confusion_matrix(y_test, y_predict))\n",
    "\n",
    "from sklearn.metrics import accuracy_score, confusion_matrix, classification_report, f1_score, balanced_accuracy_score\n",
    "\n",
    "svm_acc = accuracy_score(y_test, y_predict)\n",
    "svm_f1 = f1_score(y_test, y_predict, average ='weighted')\n",
    "svm_bacc = balanced_accuracy_score(y_test, y_predict)\n",
    "\n",
    "print(f\"Test Accuracy of Logistic Regression(tf-idf) is {svm_acc} \\n\")\n",
    "print(f\"Test Balanced Accuracy of Logistic Regression(tf-idf) is {svm_bacc} \\n\")\n",
    "print(f\"Test F1-score weighted of Logistic Regression(tf-idf) is {svm_f1} \\n\")"
   ]
  },
  {
   "cell_type": "code",
   "execution_count": 59,
   "id": "bb36c67f-a330-490a-8d8b-152c0ec31d64",
   "metadata": {},
   "outputs": [
    {
     "name": "stdout",
     "output_type": "stream",
     "text": [
      "              precision    recall  f1-score   support\n",
      "\n",
      "           0       0.91      0.23      0.36       141\n",
      "           1       0.70      0.68      0.69       171\n",
      "           2       0.69      0.58      0.63       151\n",
      "           3       0.53      0.79      0.64       154\n",
      "           4       0.88      0.64      0.74       151\n",
      "           5       0.81      0.76      0.78       133\n",
      "           6       0.76      0.66      0.70       169\n",
      "           7       0.85      0.73      0.78       157\n",
      "           8       0.85      0.66      0.75       151\n",
      "           9       0.90      0.85      0.88       154\n",
      "          10       0.90      0.89      0.90       159\n",
      "          11       0.61      0.86      0.72       155\n",
      "          12       0.73      0.72      0.72       149\n",
      "          13       0.88      0.81      0.84       167\n",
      "          14       0.86      0.74      0.79       155\n",
      "          15       0.33      0.95      0.49       150\n",
      "          16       0.57      0.83      0.67       126\n",
      "          17       0.77      0.77      0.77       143\n",
      "          18       0.94      0.39      0.55       120\n",
      "          19       1.00      0.02      0.04        98\n",
      "\n",
      "    accuracy                           0.69      2954\n",
      "   macro avg       0.77      0.68      0.67      2954\n",
      "weighted avg       0.77      0.69      0.69      2954\n",
      "\n",
      "Confusion Matrix: [[ 32   0   0   1   1   2   0   0   0   1   0   8   0   1   2  80   4   9\n",
      "    0   0]\n",
      " [  0 116   7  16   4   6   3   0   1   1   0   8   1   0   3   5   0   0\n",
      "    0   0]\n",
      " [  0   6  87  25   1   9   4   0   1   0   1  10   2   0   0   5   0   0\n",
      "    0   0]\n",
      " [  0   4   9 122   3   1   6   0   0   0   0   0   3   0   0   5   1   0\n",
      "    0   0]\n",
      " [  0   4   8  23  97   2   5   1   0   0   0   2   5   1   0   3   0   0\n",
      "    0   0]\n",
      " [  0  14   5   3   0 101   1   0   0   0   1   3   1   0   1   3   0   0\n",
      "    0   0]\n",
      " [  0   0   0  17   2   1 111  10   1   0   1   6   8   3   0   5   4   0\n",
      "    0   0]\n",
      " [  0   2   2   2   0   0   1 115   7   0   1   6   4   0   0  11   4   1\n",
      "    1   0]\n",
      " [  0   1   2   5   0   0   6   3 100   5   3   1   3   1   3   7  10   1\n",
      "    0   0]\n",
      " [  0   1   1   0   0   0   2   0   1 131   3   1   0   0   0  12   0   2\n",
      "    0   0]\n",
      " [  0   0   1   1   0   0   1   1   0   3 142   0   0   2   0   7   1   0\n",
      "    0   0]\n",
      " [  0   1   0   0   1   1   0   0   0   0   0 134   3   0   0   6   9   0\n",
      "    0   0]\n",
      " [  0   3   3  10   1   0   3   1   2   0   1  11 107   3   1   1   1   1\n",
      "    0   0]\n",
      " [  0   2   0   1   0   1   1   1   0   0   3   1   4 135   2  14   1   0\n",
      "    1   0]\n",
      " [  0   9   0   2   0   1   1   1   2   1   0   7   2   1 114  12   2   0\n",
      "    0   0]\n",
      " [  0   1   1   0   0   0   0   0   0   0   0   2   1   1   0 142   0   2\n",
      "    0   0]\n",
      " [  0   0   0   0   0   0   0   1   1   1   0   5   0   0   2   9 104   3\n",
      "    0   0]\n",
      " [  0   1   1   0   0   0   1   0   1   2   2   3   1   1   0  13   6 110\n",
      "    1   0]\n",
      " [  0   0   0   1   0   0   0   2   0   0   0   8   2   3   2  24  21  10\n",
      "   47   0]\n",
      " [  3   0   0   0   0   0   0   0   0   0   0   2   0   2   2  69  15   3\n",
      "    0   2]]\n",
      "Test Accuracy of Naive Bayes(tf-idf) is 0.6936357481381178 \n",
      "\n",
      "Test Balanced Accuracy of Naive Bayes(tf-idf) is 0.6775303485044681 \n",
      "\n",
      "Test F1-score weighted of Naive Bayes(tf-idf) is 0.6878797871499319 \n",
      "\n"
     ]
    }
   ],
   "source": [
    "#FITTING THE CLASSIFICATION MODEL using Naive Bayes(tf-idf)\n",
    "nb_tfidf = MultinomialNB()\n",
    "nb_tfidf.fit(X_train_vectors_tfidf, y_train)  \n",
    "#Predict y value for test dataset\n",
    "y_predict = nb_tfidf.predict(X_test_vectors_tfidf)\n",
    "y_prob = nb_tfidf.predict_proba(X_test_vectors_tfidf)[:,1]\n",
    "print(classification_report(y_test,y_predict))\n",
    "print('Confusion Matrix:',confusion_matrix(y_test, y_predict))\n",
    "\n",
    "svm_acc = accuracy_score(y_test, y_predict)\n",
    "svm_f1 = f1_score(y_test, y_predict, average ='weighted')\n",
    "svm_bacc = balanced_accuracy_score(y_test, y_predict)\n",
    "\n",
    "print(f\"Test Accuracy of Naive Bayes(tf-idf) is {svm_acc} \\n\")\n",
    "print(f\"Test Balanced Accuracy of Naive Bayes(tf-idf) is {svm_bacc} \\n\")\n",
    "print(f\"Test F1-score weighted of Naive Bayes(tf-idf) is {svm_f1} \\n\")"
   ]
  },
  {
   "cell_type": "code",
   "execution_count": null,
   "id": "d6d295c6-d19c-4090-ac9a-69c3cb6098fc",
   "metadata": {},
   "outputs": [],
   "source": []
  }
 ],
 "metadata": {
  "kernelspec": {
   "display_name": "Python 3 (ipykernel)",
   "language": "python",
   "name": "python3"
  },
  "language_info": {
   "codemirror_mode": {
    "name": "ipython",
    "version": 3
   },
   "file_extension": ".py",
   "mimetype": "text/x-python",
   "name": "python",
   "nbconvert_exporter": "python",
   "pygments_lexer": "ipython3",
   "version": "3.9.11"
  }
 },
 "nbformat": 4,
 "nbformat_minor": 5
}
