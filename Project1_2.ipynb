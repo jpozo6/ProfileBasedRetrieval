{
 "cells": [
  {
   "cell_type": "code",
   "execution_count": 2,
   "id": "907af995-b3ce-4e16-a834-8d28fe9fd3c2",
   "metadata": {},
   "outputs": [],
   "source": [
    "import pandas as pd\n",
    "import numpy as np\n",
    "#for text pre-processing\n",
    "import re, string\n",
    "import nltk\n",
    "from nltk.tokenize import word_tokenize\n",
    "from nltk.corpus import stopwords\n",
    "from nltk.tokenize import word_tokenize\n",
    "from nltk.stem import SnowballStemmer\n",
    "from nltk.corpus import wordnet\n",
    "from nltk.stem import WordNetLemmatizer\n",
    "#nltk.download('punkt')\n",
    "#nltk.download('averaged_perceptron_tagger')\n",
    "#nltk.download('wordnet')\n",
    "#for model-building\n",
    "from sklearn.model_selection import train_test_split\n",
    "from sklearn.linear_model import LogisticRegression\n",
    "from sklearn.naive_bayes import MultinomialNB\n",
    "from sklearn.svm import SVC\n",
    "from sklearn.tree import DecisionTreeClassifier\n",
    "from sklearn.neural_network import MLPClassifier\n",
    "from sklearn.metrics import classification_report, f1_score, accuracy_score, confusion_matrix\n",
    "from sklearn.metrics import roc_curve, auc, roc_auc_score\n",
    "# bag of words\n",
    "from sklearn.feature_extraction.text import TfidfVectorizer\n",
    "from sklearn.feature_extraction.text import CountVectorizer\n",
    "#for word embedding\n",
    "#import gensim\n",
    "#from gensim.models.doc2vec import Doc2Vec, TaggedDocument "
   ]
  },
  {
   "cell_type": "code",
   "execution_count": 3,
   "id": "f9cdee80-28fd-4de7-9923-3952c00e1f25",
   "metadata": {},
   "outputs": [
    {
     "name": "stderr",
     "output_type": "stream",
     "text": [
      "C:\\ProgramData\\Anaconda3\\envs\\tf\\lib\\site-packages\\pandas\\core\\arrays\\datetimes.py:2199: FutureWarning: The parsing of 'now' in pd.to_datetime without `utc=True` is deprecated. In a future version, this will match Timestamp('now') and Timestamp.now()\n",
      "  result, tz_parsed = tslib.array_to_datetime(\n"
     ]
    }
   ],
   "source": [
    "from sklearn.datasets import fetch_20newsgroups\n",
    "import pandas as pd\n",
    "\n",
    "def twenty_newsgroup_to_csv():\n",
    "    newsgroups_train = fetch_20newsgroups(subset='all', remove=('headers', 'footers', 'quotes'))\n",
    "\n",
    "    df = pd.DataFrame([newsgroups_train.data, newsgroups_train.target.tolist()]).T\n",
    "    df.columns = ['text', 'target']\n",
    "\n",
    "    targets = pd.DataFrame( newsgroups_train.target_names)\n",
    "    targets.columns=['title']\n",
    "\n",
    "    out = pd.merge(df, targets, left_on='target', right_index=True)\n",
    "    out['date'] = pd.to_datetime('now')\n",
    "    out.to_csv('20_newsgroup.csv')\n",
    "    \n",
    "twenty_newsgroup_to_csv()"
   ]
  },
  {
   "cell_type": "code",
   "execution_count": 4,
   "id": "49c7f371-130e-4835-98e4-f2188fadfee6",
   "metadata": {},
   "outputs": [
    {
     "data": {
      "text/html": [
       "<div>\n",
       "<style scoped>\n",
       "    .dataframe tbody tr th:only-of-type {\n",
       "        vertical-align: middle;\n",
       "    }\n",
       "\n",
       "    .dataframe tbody tr th {\n",
       "        vertical-align: top;\n",
       "    }\n",
       "\n",
       "    .dataframe thead th {\n",
       "        text-align: right;\n",
       "    }\n",
       "</style>\n",
       "<table border=\"1\" class=\"dataframe\">\n",
       "  <thead>\n",
       "    <tr style=\"text-align: right;\">\n",
       "      <th></th>\n",
       "      <th>text</th>\n",
       "      <th>target</th>\n",
       "      <th>title</th>\n",
       "      <th>date</th>\n",
       "    </tr>\n",
       "  </thead>\n",
       "  <tbody>\n",
       "    <tr>\n",
       "      <th>9</th>\n",
       "      <td>\\nIf a Christian means someone who believes in...</td>\n",
       "      <td>19</td>\n",
       "      <td>talk.religion.misc</td>\n",
       "      <td>2022-04-05 20:19:43.739096</td>\n",
       "    </tr>\n",
       "    <tr>\n",
       "      <th>10</th>\n",
       "      <td>the blood of the lamb.\\n\\nThis will be a hard ...</td>\n",
       "      <td>19</td>\n",
       "      <td>talk.religion.misc</td>\n",
       "      <td>2022-04-05 20:19:43.739096</td>\n",
       "    </tr>\n",
       "    <tr>\n",
       "      <th>12</th>\n",
       "      <td>930418\\n\\nDo what thou wilt shall be the whole...</td>\n",
       "      <td>19</td>\n",
       "      <td>talk.religion.misc</td>\n",
       "      <td>2022-04-05 20:19:43.739096</td>\n",
       "    </tr>\n",
       "    <tr>\n",
       "      <th>40</th>\n",
       "      <td>\\n\\nNo.  Zeno's paradox is resolved by showing...</td>\n",
       "      <td>19</td>\n",
       "      <td>talk.religion.misc</td>\n",
       "      <td>2022-04-05 20:19:43.739096</td>\n",
       "    </tr>\n",
       "    <tr>\n",
       "      <th>58</th>\n",
       "      <td>\\nDefinitely, J.R. \"Bob\" Dobbs, numero uno, to...</td>\n",
       "      <td>19</td>\n",
       "      <td>talk.religion.misc</td>\n",
       "      <td>2022-04-05 20:19:43.739096</td>\n",
       "    </tr>\n",
       "  </tbody>\n",
       "</table>\n",
       "</div>"
      ],
      "text/plain": [
       "                                                 text  target  \\\n",
       "9   \\nIf a Christian means someone who believes in...      19   \n",
       "10  the blood of the lamb.\\n\\nThis will be a hard ...      19   \n",
       "12  930418\\n\\nDo what thou wilt shall be the whole...      19   \n",
       "40  \\n\\nNo.  Zeno's paradox is resolved by showing...      19   \n",
       "58  \\nDefinitely, J.R. \"Bob\" Dobbs, numero uno, to...      19   \n",
       "\n",
       "                 title                        date  \n",
       "9   talk.religion.misc  2022-04-05 20:19:43.739096  \n",
       "10  talk.religion.misc  2022-04-05 20:19:43.739096  \n",
       "12  talk.religion.misc  2022-04-05 20:19:43.739096  \n",
       "40  talk.religion.misc  2022-04-05 20:19:43.739096  \n",
       "58  talk.religion.misc  2022-04-05 20:19:43.739096  "
      ]
     },
     "execution_count": 4,
     "metadata": {},
     "output_type": "execute_result"
    }
   ],
   "source": [
    "data = pd.read_csv('20_newsgroup.csv', index_col = 0)\n",
    "# Select only 5 classes\n",
    "class_mask = data[\"target\"].isin([7,9,13,18,19])\n",
    "data = data[class_mask]\n",
    "data.head()"
   ]
  },
  {
   "cell_type": "code",
   "execution_count": 5,
   "id": "911094be-f472-4664-b2ba-6eec9f0abc1e",
   "metadata": {},
   "outputs": [],
   "source": [
    "#SPLITTING THE TRAINING DATASET INTO TRAIN AND TEST\n",
    "df_train, df_test = train_test_split(data,test_size=0.1,shuffle=True, random_state=1)"
   ]
  },
  {
   "cell_type": "code",
   "execution_count": 6,
   "id": "aa57297f-2bde-4162-a99d-49b210cc5dc4",
   "metadata": {},
   "outputs": [
    {
     "name": "stdout",
     "output_type": "stream",
     "text": [
      "Collecting seaborn\n",
      "  Using cached seaborn-0.11.2-py3-none-any.whl (292 kB)\n",
      "Requirement already satisfied: numpy>=1.15 in c:\\programdata\\anaconda3\\envs\\tf\\lib\\site-packages (from seaborn) (1.22.3)\n",
      "Requirement already satisfied: pandas>=0.23 in c:\\programdata\\anaconda3\\envs\\tf\\lib\\site-packages (from seaborn) (1.4.1)\n",
      "Requirement already satisfied: scipy>=1.0 in c:\\programdata\\anaconda3\\envs\\tf\\lib\\site-packages (from seaborn) (1.7.3)\n",
      "Requirement already satisfied: matplotlib>=2.2 in c:\\programdata\\anaconda3\\envs\\tf\\lib\\site-packages (from seaborn) (3.5.1)\n",
      "Requirement already satisfied: packaging>=20.0 in c:\\programdata\\anaconda3\\envs\\tf\\lib\\site-packages (from matplotlib>=2.2->seaborn) (21.3)\n",
      "Requirement already satisfied: python-dateutil>=2.7 in c:\\programdata\\anaconda3\\envs\\tf\\lib\\site-packages (from matplotlib>=2.2->seaborn) (2.8.2)\n",
      "Requirement already satisfied: pyparsing>=2.2.1 in c:\\programdata\\anaconda3\\envs\\tf\\lib\\site-packages (from matplotlib>=2.2->seaborn) (3.0.4)\n",
      "Requirement already satisfied: fonttools>=4.22.0 in c:\\programdata\\anaconda3\\envs\\tf\\lib\\site-packages (from matplotlib>=2.2->seaborn) (4.25.0)\n",
      "Requirement already satisfied: kiwisolver>=1.0.1 in c:\\programdata\\anaconda3\\envs\\tf\\lib\\site-packages (from matplotlib>=2.2->seaborn) (1.3.2)\n",
      "Requirement already satisfied: pillow>=6.2.0 in c:\\programdata\\anaconda3\\envs\\tf\\lib\\site-packages (from matplotlib>=2.2->seaborn) (9.0.1)\n",
      "Requirement already satisfied: cycler>=0.10 in c:\\programdata\\anaconda3\\envs\\tf\\lib\\site-packages (from matplotlib>=2.2->seaborn) (0.11.0)\n",
      "Requirement already satisfied: pytz>=2020.1 in c:\\programdata\\anaconda3\\envs\\tf\\lib\\site-packages (from pandas>=0.23->seaborn) (2021.3)\n",
      "Requirement already satisfied: six>=1.5 in c:\\programdata\\anaconda3\\envs\\tf\\lib\\site-packages (from python-dateutil>=2.7->matplotlib>=2.2->seaborn) (1.16.0)\n",
      "Installing collected packages: seaborn\n",
      "Successfully installed seaborn-0.11.2\n"
     ]
    }
   ],
   "source": [
    "! pip install seaborn"
   ]
  },
  {
   "cell_type": "code",
   "execution_count": 7,
   "id": "919c2c65-a552-4f00-af79-c346c20650e1",
   "metadata": {},
   "outputs": [],
   "source": [
    "import seaborn as sns\n",
    "import matplotlib.pyplot as plt"
   ]
  },
  {
   "cell_type": "code",
   "execution_count": 8,
   "id": "6ee01663-97eb-45bb-ad01-16e60ebc6f3b",
   "metadata": {},
   "outputs": [
    {
     "name": "stdout",
     "output_type": "stream",
     "text": [
      "13    901\n",
      "7     889\n",
      "9     883\n",
      "18    700\n",
      "19    566\n",
      "Name: target, dtype: int64\n"
     ]
    },
    {
     "name": "stderr",
     "output_type": "stream",
     "text": [
      "C:\\ProgramData\\Anaconda3\\envs\\tf\\lib\\site-packages\\seaborn\\_decorators.py:36: FutureWarning: Pass the following variables as keyword args: x, y. From version 0.12, the only valid positional argument will be `data`, and passing other arguments without an explicit keyword will result in an error or misinterpretation.\n",
      "  warnings.warn(\n"
     ]
    },
    {
     "data": {
      "text/plain": [
       "<AxesSubplot:ylabel='target'>"
      ]
     },
     "execution_count": 8,
     "metadata": {},
     "output_type": "execute_result"
    },
    {
     "data": {
      "image/png": "[encoded data removed]",
      "text/plain": [
       "<Figure size 432x288 with 1 Axes>"
      ]
     },
     "metadata": {
      "needs_background": "light"
     },
     "output_type": "display_data"
    }
   ],
   "source": [
    "x=df_train['target'].value_counts()\n",
    "print(x)\n",
    "sns.barplot(x.index,x)"
   ]
  },
  {
   "cell_type": "code",
   "execution_count": 9,
   "id": "8d871b9b-6af5-422c-aeb3-32402d8136a9",
   "metadata": {},
   "outputs": [
    {
     "data": {
      "text/plain": [
       "text      112\n",
       "target      0\n",
       "title       0\n",
       "date        0\n",
       "dtype: int64"
      ]
     },
     "execution_count": 9,
     "metadata": {},
     "output_type": "execute_result"
    }
   ],
   "source": [
    "df_train.isna().sum()"
   ]
  },
  {
   "cell_type": "code",
   "execution_count": 10,
   "id": "ef8f724b-0a2f-4617-9759-d19f4c0407c4",
   "metadata": {},
   "outputs": [
    {
     "name": "stdout",
     "output_type": "stream",
     "text": [
      "112.54780652418448\n",
      "118.81426953567384\n"
     ]
    }
   ],
   "source": [
    "# WORD-COUNT\n",
    "df_train['word_count'] = df_train['text'].apply(lambda x: len(str(x).split()))\n",
    "print(df_train[df_train['target']==7]['word_count'].mean()) #Disaster tweets\n",
    "print(df_train[df_train['target']==9]['word_count'].mean()) #Non-Disaster tweets"
   ]
  },
  {
   "cell_type": "code",
   "execution_count": 11,
   "id": "ecce4817-2942-4e72-bb72-111350b6791e",
   "metadata": {},
   "outputs": [],
   "source": [
    "df_train = df_train.dropna()\n",
    "df_test = df_test.dropna()"
   ]
  },
  {
   "cell_type": "code",
   "execution_count": 12,
   "id": "8b0c4d5c-aa47-47ce-891c-552eda64cc0c",
   "metadata": {},
   "outputs": [
    {
     "data": {
      "image/png": "[encoded data removed]",
      "text/plain": [
       "<Figure size 720x288 with 2 Axes>"
      ]
     },
     "metadata": {
      "needs_background": "light"
     },
     "output_type": "display_data"
    }
   ],
   "source": [
    "# PLOTTING WORD-COUNT\n",
    "fig,(ax1,ax2)=plt.subplots(1,2,figsize=(10,4))\n",
    "train_words=df_train[df_train['target']==7]['word_count']\n",
    "ax1.hist(train_words,color='red')\n",
    "ax1.set_title('Cars')\n",
    "train_words=df_train[df_train['target']==9]['word_count']\n",
    "ax2.hist(train_words,color='green')\n",
    "ax2.set_title('Baseball')\n",
    "fig.suptitle('Words per post')\n",
    "plt.show()"
   ]
  },
  {
   "cell_type": "code",
   "execution_count": 13,
   "id": "20b15769-6aa7-4d85-a5c4-691741c9f820",
   "metadata": {},
   "outputs": [
    {
     "name": "stdout",
     "output_type": "stream",
     "text": [
      "683.3851590106007\n",
      "704.0571761960326\n"
     ]
    }
   ],
   "source": [
    "# CHARACTER-COUNT\n",
    "df_train['char_count'] = df_train['text'].apply(lambda x: len(str(x)))\n",
    "print(df_train[df_train['target']==7]['char_count'].mean()) # Cars\n",
    "print(df_train[df_train['target']==9]['char_count'].mean()) # Baseball"
   ]
  },
  {
   "cell_type": "code",
   "execution_count": 14,
   "id": "e9f8b7b8-6d08-4f05-9d64-ae7969f9bd65",
   "metadata": {},
   "outputs": [],
   "source": [
    "#convert to lowercase, strip and remove punctuations\n",
    "def preprocess(text):\n",
    "    text = text.lower() \n",
    "    text=text.strip()  \n",
    "    text=re.compile('<.*?>').sub('', text) \n",
    "    text = re.compile('[%s]' % re.escape(string.punctuation)).sub(' ', text)  \n",
    "    text = re.sub('\\s+', ' ', text)  \n",
    "    text = re.sub(r'\\[[0-9]*\\]',' ',text) \n",
    "    text=re.sub(r'[^\\w\\s]', '', str(text).lower().strip())\n",
    "    text = re.sub(r'\\d',' ',text) \n",
    "    text = re.sub(r'\\s+',' ',text) \n",
    "    return text\n",
    "\n",
    " \n",
    "# STOPWORD REMOVAL\n",
    "def stopword(string):\n",
    "    a= [i for i in string.split() if i not in stopwords.words('english')]\n",
    "    return ' '.join(a)\n",
    "#LEMMATIZATION\n",
    "# Initialize the lemmatizer\n",
    "wl = WordNetLemmatizer()\n",
    " \n",
    "# This is a helper function to map NTLK position tags\n",
    "def get_wordnet_pos(tag):\n",
    "    if tag.startswith('J'):\n",
    "        return wordnet.ADJ\n",
    "    elif tag.startswith('V'):\n",
    "        return wordnet.VERB\n",
    "    elif tag.startswith('N'):\n",
    "        return wordnet.NOUN\n",
    "    elif tag.startswith('R'):\n",
    "        return wordnet.ADV\n",
    "    else:\n",
    "        return wordnet.NOUN\n",
    "# Tokenize the sentence\n",
    "def lemmatizer(string):\n",
    "    word_pos_tags = nltk.pos_tag(word_tokenize(string)) # Get position tags\n",
    "    a=[wl.lemmatize(tag[0], get_wordnet_pos(tag[1])) for idx, tag in enumerate(word_pos_tags)] # Map the position tag and lemmatize the word/token\n",
    "    return \" \".join(a)"
   ]
  },
  {
   "cell_type": "code",
   "execution_count": 15,
   "id": "b63e9a0c-29ca-40f0-ab3e-28873f0fee9c",
   "metadata": {},
   "outputs": [],
   "source": [
    "def finalpreprocess(string):\n",
    "    return lemmatizer(stopword(preprocess(string)))\n",
    "df_train['clean_text'] = df_train['text'].apply(lambda x: finalpreprocess(x))\n",
    "df_train.head()\n",
    "df_test['clean_text'] = df_test['text'].apply(lambda x: finalpreprocess(x))"
   ]
  },
  {
   "cell_type": "code",
   "execution_count": 20,
   "id": "7439679a-6299-44ca-a0f8-511e83b7aba4",
   "metadata": {},
   "outputs": [],
   "source": [
    "#SPLITTING THE TRAINING DATASET INTO TRAIN AND TEST\n",
    "X_train, X_val, y_train, y_val = train_test_split(df_train[\"clean_text\"],df_train[\"title\"],test_size=0.2,shuffle=True, stratify=df_train[\"title\"], random_state=2)\n",
    "X_test = df_test['clean_text']\n",
    "y_test = df_test['title']\n",
    "# Word2Vec runs on tokenized sentences\n",
    "X_train_tok= [nltk.word_tokenize(i) for i in X_train]  \n",
    "X_val_tok= [nltk.word_tokenize(i) for i in X_val]\n",
    "X_test_tok= [nltk.word_tokenize(i) for i in X_test]"
   ]
  },
  {
   "cell_type": "code",
   "execution_count": 21,
   "id": "f3c7e20f",
   "metadata": {},
   "outputs": [],
   "source": [
    "#Tf-Idf vectorizer\n",
    "tfidf_vectorizer = TfidfVectorizer(use_idf=True)\n",
    "X_train_vectors_tfidf = tfidf_vectorizer.fit_transform(X_train) \n",
    "X_val_vectors_tfidf = tfidf_vectorizer.transform(X_val)\n",
    "X_test_vectors_tfidf = tfidf_vectorizer.transform(X_test)"
   ]
  },
  {
   "cell_type": "markdown",
   "id": "7b6e9cf1-d143-40c3-927e-62d9300f0d06",
   "metadata": {},
   "source": [
    "NO SE USA\n",
    "\n",
    "\n",
    "train_docs = [TaggedDocument(doc.split(' '), [i]) \n",
    "             for i, doc in enumerate(df_train.clean_text)]\n",
    "\n",
    "#df_train['clean_text_tok']=[nltk.word_tokenize(i) for i in df_train['clean_text']]\n",
    "#model = Doc2Vec(df_train['clean_text_tok'],min_count=1) \n",
    "#model.train(df_train['clean_text_tok'],total_examples=model.corpus_count,epochs=model.epochs) \n",
    "#vocabulary = model.wv.key_to_index\n",
    "#print(vocabulary)\n",
    "#X_train_vectors_w2v = model.infer_vector(X_train)\n",
    "\n",
    "\n",
    "#build the model\n",
    "model = Doc2Vec(vector_size=64, window=2, min_count=1, workers=8, epochs = 40)\n",
    "#build vocab\n",
    "model.build_vocab(train_docs)\n",
    "#train model\n",
    "model.train(train_docs, total_examples=model.corpus_count, epochs=model.epochs)\n",
    "\n",
    "#w2v = dict(zip(model.wv.index_to_key, model.wv.syn0)) \n",
    "#modelw = MeanEmbeddingVectorizer(w2v)\n",
    "# converting text to numerical data using Word2Vec\n",
    "#X_train_vectors_w2v = modelw.transform(X_train_tok)\n",
    "#X_val_vectors_w2v = modelw.transform(X_test_tok)"
   ]
  },
  {
   "cell_type": "markdown",
   "id": "df275e88-521e-4a66-88cc-e6de72d2001b",
   "metadata": {},
   "source": [
    "NO SE USA\n",
    "\n",
    "# Obtain vectors via doc2vec\n",
    "\n",
    "#obtain vectors\n",
    "X_test_w2v = [model.infer_vector((X_test))]\n",
    "X_test_w2v\n",
    "X_train_w2v = [model.infer_vector((df_train['clean_text'][i].split(' '))) \n",
    "            for i in range(0,len(df_train['clean_text']))]\n",
    "\n",
    "\n",
    "\n"
   ]
  },
  {
   "cell_type": "code",
   "execution_count": 22,
   "id": "9bb4fb4f-72a5-499b-ab8f-882753ae2249",
   "metadata": {},
   "outputs": [
    {
     "name": "stdout",
     "output_type": "stream",
     "text": [
      "                    precision    recall  f1-score   support\n",
      "\n",
      "         rec.autos       0.96      0.93      0.94        98\n",
      "rec.sport.baseball       0.93      0.96      0.95       109\n",
      "           sci.med       0.92      0.89      0.90        88\n",
      "talk.politics.misc       0.76      0.89      0.82        73\n",
      "talk.religion.misc       0.92      0.76      0.83        59\n",
      "\n",
      "          accuracy                           0.90       427\n",
      "         macro avg       0.90      0.89      0.89       427\n",
      "      weighted avg       0.90      0.90      0.90       427\n",
      "\n",
      "Confusion Matrix:\n",
      " [[ 91   1   1   4   1]\n",
      " [  0 105   2   2   0]\n",
      " [  0   3  78   5   2]\n",
      " [  3   2   2  65   1]\n",
      " [  1   2   2   9  45]]\n",
      "Test Accuracy of Logistic Regression(tf-idf) is 0.8992974238875878 \n",
      "\n",
      "Test Balanced Accuracy of Logistic Regression(tf-idf) is 0.8862721281079065 \n",
      "\n",
      "Test F1-score weighted of Logistic Regression(tf-idf) is 0.899543734993221 \n",
      "\n"
     ]
    }
   ],
   "source": [
    "#FITTING THE CLASSIFICATION MODEL using Logistic Regression(tf-idf)\n",
    "lr_tfidf=LogisticRegression(solver = 'liblinear', C=10, penalty = 'l2')\n",
    "lr_tfidf.fit(X_train_vectors_tfidf, y_train)  \n",
    "#Predict y value for test dataset\n",
    "y_predict = lr_tfidf.predict(X_test_vectors_tfidf)\n",
    "y_prob = lr_tfidf.predict_proba(X_test_vectors_tfidf)[:,1]\n",
    "print(classification_report(y_test,y_predict))\n",
    "print('Confusion Matrix:\\n',confusion_matrix(y_test, y_predict))\n",
    "\n",
    "from sklearn.metrics import accuracy_score, confusion_matrix, classification_report, f1_score, balanced_accuracy_score\n",
    "\n",
    "lr_acc = accuracy_score(y_test, y_predict)\n",
    "lr_f1 = f1_score(y_test, y_predict, average ='weighted')\n",
    "lr_bacc = balanced_accuracy_score(y_test, y_predict)\n",
    "\n",
    "print(f\"Test Accuracy of Logistic Regression(tf-idf) is {lr_acc} \\n\")\n",
    "print(f\"Test Balanced Accuracy of Logistic Regression(tf-idf) is {lr_bacc} \\n\")\n",
    "print(f\"Test F1-score weighted of Logistic Regression(tf-idf) is {lr_f1} \\n\")"
   ]
  },
  {
   "cell_type": "code",
   "execution_count": 23,
   "id": "bb36c67f-a330-490a-8d8b-152c0ec31d64",
   "metadata": {},
   "outputs": [
    {
     "name": "stdout",
     "output_type": "stream",
     "text": [
      "                    precision    recall  f1-score   support\n",
      "\n",
      "         rec.autos       0.97      0.91      0.94        98\n",
      "rec.sport.baseball       0.95      0.95      0.95       109\n",
      "           sci.med       0.76      0.93      0.84        88\n",
      "talk.politics.misc       0.70      0.88      0.78        73\n",
      "talk.religion.misc       0.96      0.41      0.57        59\n",
      "\n",
      "          accuracy                           0.85       427\n",
      "         macro avg       0.87      0.82      0.81       427\n",
      "      weighted avg       0.87      0.85      0.84       427\n",
      "\n",
      "Confusion Matrix:\n",
      " [[ 89   3   3   3   0]\n",
      " [  0 104   3   2   0]\n",
      " [  1   1  82   3   1]\n",
      " [  2   1   6  64   0]\n",
      " [  0   1  14  20  24]]\n",
      "Test Accuracy of Naive Bayes(tf-idf) is 0.8501170960187353 \n",
      "\n",
      "Test Balanced Accuracy of Naive Bayes(tf-idf) is 0.8155203754550697 \n",
      "\n",
      "Test F1-score weighted of Naive Bayes(tf-idf) is 0.8414821598989551 \n",
      "\n"
     ]
    }
   ],
   "source": [
    "#FITTING THE CLASSIFICATION MODEL using Naive Bayes(tf-idf)\n",
    "nb_tfidf = MultinomialNB()\n",
    "nb_tfidf.fit(X_train_vectors_tfidf, y_train)  \n",
    "#Predict y value for test dataset\n",
    "y_predict = nb_tfidf.predict(X_test_vectors_tfidf)\n",
    "y_prob = nb_tfidf.predict_proba(X_test_vectors_tfidf)[:,1]\n",
    "print(classification_report(y_test,y_predict))\n",
    "print('Confusion Matrix:\\n',confusion_matrix(y_test, y_predict))\n",
    "\n",
    "nb_acc = accuracy_score(y_test, y_predict)\n",
    "nb_f1 = f1_score(y_test, y_predict, average ='weighted')\n",
    "nb_bacc = balanced_accuracy_score(y_test, y_predict)\n",
    "\n",
    "print(f\"Test Accuracy of Naive Bayes(tf-idf) is {nb_acc} \\n\")\n",
    "print(f\"Test Balanced Accuracy of Naive Bayes(tf-idf) is {nb_bacc} \\n\")\n",
    "print(f\"Test F1-score weighted of Naive Bayes(tf-idf) is {nb_f1} \\n\")"
   ]
  },
  {
   "cell_type": "code",
   "execution_count": 24,
   "id": "ef83986a-e146-4919-8f94-ae4702736202",
   "metadata": {},
   "outputs": [
    {
     "name": "stdout",
     "output_type": "stream",
     "text": [
      "                    precision    recall  f1-score   support\n",
      "\n",
      "         rec.autos       0.98      0.91      0.94        98\n",
      "rec.sport.baseball       0.89      0.95      0.92       109\n",
      "           sci.med       0.84      0.90      0.87        88\n",
      "talk.politics.misc       0.73      0.89      0.80        73\n",
      "talk.religion.misc       0.97      0.59      0.74        59\n",
      "\n",
      "          accuracy                           0.87       427\n",
      "         macro avg       0.88      0.85      0.85       427\n",
      "      weighted avg       0.88      0.87      0.87       427\n",
      "\n",
      "Confusion Matrix:\n",
      " [[ 89   4   2   3   0]\n",
      " [  0 104   3   2   0]\n",
      " [  0   4  79   4   1]\n",
      " [  2   3   3  65   0]\n",
      " [  0   2   7  15  35]]\n",
      "Test Accuracy of Support Vector Machine (tf-idf) is 0.8711943793911007 \n",
      "\n",
      "Test Balanced Accuracy of Support Vector Machine (tf-idf) is 0.8487300552575056 \n",
      "\n",
      "Test F1-score weighted of Support Vector Machine (tf-idf) is 0.8690033158941539 \n",
      "\n"
     ]
    }
   ],
   "source": [
    "svc_tfidf = SVC()\n",
    "svc_tfidf.fit(X_train_vectors_tfidf, y_train)  \n",
    "#Predict y value for test dataset\n",
    "y_predict = svc_tfidf.predict(X_test_vectors_tfidf)\n",
    "#y_prob = svc_tfidf.predict_proba(X_test_vectors_tfidf)[:,1]\n",
    "print(classification_report(y_test,y_predict))\n",
    "print('Confusion Matrix:\\n',confusion_matrix(y_test, y_predict))\n",
    "\n",
    "svm_acc = accuracy_score(y_test, y_predict)\n",
    "svm_f1 = f1_score(y_test, y_predict, average ='weighted')\n",
    "svm_bacc = balanced_accuracy_score(y_test, y_predict)\n",
    "\n",
    "print(f\"Test Accuracy of Support Vector Machine (tf-idf) is {svm_acc} \\n\")\n",
    "print(f\"Test Balanced Accuracy of Support Vector Machine (tf-idf) is {svm_bacc} \\n\")\n",
    "print(f\"Test F1-score weighted of Support Vector Machine (tf-idf) is {svm_f1} \\n\")"
   ]
  },
  {
   "cell_type": "code",
   "execution_count": 25,
   "id": "80576cc4-994d-49f0-8531-e3e6645899fa",
   "metadata": {},
   "outputs": [
    {
     "name": "stdout",
     "output_type": "stream",
     "text": [
      "                    precision    recall  f1-score   support\n",
      "\n",
      "         rec.autos       0.78      0.69      0.74        98\n",
      "rec.sport.baseball       0.73      0.83      0.78       109\n",
      "           sci.med       0.68      0.72      0.70        88\n",
      "talk.politics.misc       0.66      0.66      0.66        73\n",
      "talk.religion.misc       0.67      0.59      0.63        59\n",
      "\n",
      "          accuracy                           0.71       427\n",
      "         macro avg       0.71      0.70      0.70       427\n",
      "      weighted avg       0.71      0.71      0.71       427\n",
      "\n",
      "Confusion Matrix:\n",
      " [[68 10  6  8  6]\n",
      " [ 5 90  6  4  4]\n",
      " [ 5  9 63  8  3]\n",
      " [ 7  6  8 48  4]\n",
      " [ 2  8  9  5 35]]\n",
      "Test Accuracy of Decision Tree(tf-idf) is 0.711943793911007 \n",
      "\n",
      "Test Balanced Accuracy of Decision Tree(tf-idf) is 0.6972458601764776 \n",
      "\n",
      "Test F1-score weighted of Decision Tree(tf-idf) is 0.7105841123365149 \n",
      "\n"
     ]
    }
   ],
   "source": [
    "dt_tfidf = DecisionTreeClassifier()\n",
    "dt_tfidf.fit(X_train_vectors_tfidf, y_train)  \n",
    "#Predict y value for test dataset\n",
    "y_predict = dt_tfidf.predict(X_test_vectors_tfidf)\n",
    "#y_prob = dt_tfidf.predict_proba(X_test_vectors_tfidf)[:,1]\n",
    "print(classification_report(y_test,y_predict))\n",
    "print('Confusion Matrix:\\n',confusion_matrix(y_test, y_predict))\n",
    "\n",
    "dt_acc = accuracy_score(y_test, y_predict)\n",
    "dt_f1 = f1_score(y_test, y_predict, average ='weighted')\n",
    "dt_bacc = balanced_accuracy_score(y_test, y_predict)\n",
    "\n",
    "print(f\"Test Accuracy of Decision Tree(tf-idf) is {dt_acc} \\n\")\n",
    "print(f\"Test Balanced Accuracy of Decision Tree(tf-idf) is {dt_bacc} \\n\")\n",
    "print(f\"Test F1-score weighted of Decision Tree(tf-idf) is {dt_f1} \\n\")"
   ]
  },
  {
   "cell_type": "code",
   "execution_count": 26,
   "id": "fd762e6f-760d-4799-a428-9efdfec36f3e",
   "metadata": {},
   "outputs": [
    {
     "name": "stdout",
     "output_type": "stream",
     "text": [
      "                    precision    recall  f1-score   support\n",
      "\n",
      "         rec.autos       0.96      0.92      0.94        98\n",
      "rec.sport.baseball       0.91      0.97      0.94       109\n",
      "           sci.med       0.95      0.90      0.92        88\n",
      "talk.politics.misc       0.79      0.90      0.84        73\n",
      "talk.religion.misc       0.92      0.76      0.83        59\n",
      "\n",
      "          accuracy                           0.90       427\n",
      "         macro avg       0.90      0.89      0.89       427\n",
      "      weighted avg       0.91      0.90      0.90       427\n",
      "\n",
      "Confusion Matrix:\n",
      " [[ 90   2   2   3   1]\n",
      " [  1 106   1   1   0]\n",
      " [  1   3  79   4   1]\n",
      " [  2   3   0  66   2]\n",
      " [  0   3   1  10  45]]\n",
      "Test Accuracy of Decision Tree(tf-idf) is 0.9039812646370023 \n",
      "\n",
      "Test Balanced Accuracy of Decision Tree(tf-idf) is 0.8910786274668215 \n",
      "\n",
      "Test F1-score weighted of Decision Tree(tf-idf) is 0.9039231662203698 \n",
      "\n"
     ]
    }
   ],
   "source": [
    "nn_tfidf = MLPClassifier()\n",
    "nn_tfidf.fit(X_train_vectors_tfidf, y_train)  \n",
    "#Predict y value for test dataset\n",
    "y_predict = nn_tfidf.predict(X_test_vectors_tfidf)\n",
    "#y_prob = dt_tfidf.predict_proba(X_test_vectors_tfidf)[:,1]\n",
    "print(classification_report(y_test,y_predict))\n",
    "print('Confusion Matrix:\\n',confusion_matrix(y_test, y_predict))\n",
    "\n",
    "nn_acc = accuracy_score(y_test, y_predict)\n",
    "nn_f1 = f1_score(y_test, y_predict, average ='weighted')\n",
    "nn_bacc = balanced_accuracy_score(y_test, y_predict)\n",
    "\n",
    "print(f\"Test Accuracy of Neural Network(tf-idf) is {nn_acc} \\n\")\n",
    "print(f\"Test Balanced Accuracy of Neural Network(tf-idf) is {nn_bacc} \\n\")\n",
    "print(f\"Test F1-score weighted of Neural Network(tf-idf) is {nn_f1} \\n\")"
   ]
  },
  {
   "cell_type": "code",
   "execution_count": 27,
   "id": "8aac5337-1f50-4131-a227-29c0ba187cd3",
   "metadata": {},
   "outputs": [],
   "source": [
    "X_train_vectors_tfidf = X_train_vectors_tfidf.toarray()\n",
    "X_val_vectors_tfidf = X_val_vectors_tfidf.toarray()\n",
    "X_test_vectors_tfidf = X_test_vectors_tfidf.toarray()"
   ]
  },
  {
   "cell_type": "code",
   "execution_count": 29,
   "id": "a0f2c5b5-b90c-4038-a29b-16b46689b9b9",
   "metadata": {},
   "outputs": [],
   "source": [
    "from keras import Sequential\n",
    "from keras.layers import Dense, Dropout\n",
    "import tensorflow as tf\n",
    "from sklearn.preprocessing import LabelEncoder"
   ]
  },
  {
   "cell_type": "code",
   "execution_count": 30,
   "id": "09b65abf-c496-4738-afa0-e7a3d20941c1",
   "metadata": {},
   "outputs": [
    {
     "data": {
      "text/plain": [
       "array([[0., 0., 0., 1., 0.],\n",
       "       [0., 0., 1., 0., 0.],\n",
       "       [0., 1., 0., 0., 0.],\n",
       "       ...,\n",
       "       [0., 0., 0., 0., 1.],\n",
       "       [0., 0., 1., 0., 0.],\n",
       "       [1., 0., 0., 0., 0.]], dtype=float32)"
      ]
     },
     "execution_count": 30,
     "metadata": {},
     "output_type": "execute_result"
    }
   ],
   "source": [
    "# one hot encode\n",
    "encoder = LabelEncoder()\n",
    "encoder.fit(y_train)\n",
    "y_train = tf.keras.utils.to_categorical(encoder.transform(y_train))\n",
    "y_val = tf.keras.utils.to_categorical(encoder.transform(y_val))\n",
    "y_test = tf.keras.utils.to_categorical(encoder.transform(y_test))\n",
    "y_train"
   ]
  },
  {
   "cell_type": "code",
   "execution_count": 31,
   "id": "58c6a752-3e7c-4884-8e8d-d429af735241",
   "metadata": {},
   "outputs": [
    {
     "name": "stdout",
     "output_type": "stream",
     "text": [
      "Epoch 1/10\n",
      "96/96 [==============================] - 1s 6ms/step - loss: 1.5341 - accuracy: 0.5580 - val_loss: 1.4322 - val_accuracy: 0.7272\n",
      "Epoch 2/10\n",
      "96/96 [==============================] - 0s 4ms/step - loss: 1.2795 - accuracy: 0.7690 - val_loss: 1.1792 - val_accuracy: 0.7963\n",
      "Epoch 3/10\n",
      "96/96 [==============================] - 0s 4ms/step - loss: 0.9875 - accuracy: 0.8595 - val_loss: 0.9433 - val_accuracy: 0.8407\n",
      "Epoch 4/10\n",
      "96/96 [==============================] - 0s 4ms/step - loss: 0.7496 - accuracy: 0.9131 - val_loss: 0.7687 - val_accuracy: 0.8616\n",
      "Epoch 5/10\n",
      "96/96 [==============================] - 0s 4ms/step - loss: 0.5732 - accuracy: 0.9412 - val_loss: 0.6506 - val_accuracy: 0.8695\n",
      "Epoch 6/10\n",
      "96/96 [==============================] - 0s 4ms/step - loss: 0.4541 - accuracy: 0.9559 - val_loss: 0.5717 - val_accuracy: 0.8734\n",
      "Epoch 7/10\n",
      "96/96 [==============================] - 0s 4ms/step - loss: 0.3700 - accuracy: 0.9641 - val_loss: 0.5167 - val_accuracy: 0.8721\n",
      "Epoch 8/10\n",
      "96/96 [==============================] - 0s 4ms/step - loss: 0.3060 - accuracy: 0.9693 - val_loss: 0.4768 - val_accuracy: 0.8773\n",
      "Epoch 9/10\n",
      "96/96 [==============================] - 0s 4ms/step - loss: 0.2508 - accuracy: 0.9758 - val_loss: 0.4480 - val_accuracy: 0.8786\n",
      "Epoch 10/10\n",
      "96/96 [==============================] - 0s 4ms/step - loss: 0.2206 - accuracy: 0.9791 - val_loss: 0.4258 - val_accuracy: 0.8773\n"
     ]
    }
   ],
   "source": [
    "model = Sequential()\n",
    "model.add(Dense(16, activation='elu'))\n",
    "model.add(Dropout(0.5))\n",
    "model.add(Dense(5, activation='softmax'))\n",
    "model.compile(optimizer='adam',\n",
    "              loss='categorical_crossentropy',\n",
    "              metrics=['accuracy'])\n",
    "\n",
    "history = model.fit(X_train_vectors_tfidf, y_train,\n",
    "                    epochs=10, validation_data=(X_val_vectors_tfidf, y_val))"
   ]
  },
  {
   "cell_type": "code",
   "execution_count": 32,
   "id": "8acec637-e0ac-4ffd-9569-e82c4755fd96",
   "metadata": {},
   "outputs": [
    {
     "name": "stdout",
     "output_type": "stream",
     "text": [
      "              precision    recall  f1-score   support\n",
      "\n",
      "           0       0.91      0.92      0.91        98\n",
      "           1       0.96      0.96      0.96       109\n",
      "           2       0.94      0.89      0.91        88\n",
      "           3       0.79      0.93      0.86        73\n",
      "           4       0.92      0.78      0.84        59\n",
      "\n",
      "    accuracy                           0.91       427\n",
      "   macro avg       0.90      0.90      0.90       427\n",
      "weighted avg       0.91      0.91      0.91       427\n",
      "\n",
      "Confusion Matrix:\n",
      " [[ 90   3   1   3   1]\n",
      " [  2 105   0   2   0]\n",
      " [  2   1  78   5   2]\n",
      " [  3   0   1  68   1]\n",
      " [  2   0   3   8  46]]\n",
      "Test Accuracy of Neural Network(tf-idf) is 0.9063231850117096 \n",
      "\n",
      "Test F1-score weighted of Neural Network(tf-idf) is 0.9064690062586639 \n",
      "\n"
     ]
    }
   ],
   "source": [
    "#Predict y value for test dataset\n",
    "y_predict = model.predict(X_test_vectors_tfidf)\n",
    "print(classification_report(y_test.argmax(axis=1), y_predict.argmax(axis=1)))\n",
    "print('Confusion Matrix:\\n',confusion_matrix(y_test.argmax(axis=1), y_predict.argmax(axis=1)))\n",
    "\n",
    "acc = accuracy_score(y_test.argmax(axis=1), y_predict.argmax(axis=1))\n",
    "f1 = f1_score(y_test.argmax(axis=1), y_predict.argmax(axis=1), average ='weighted')\n",
    "#bacc = balanced_accuracy_score(y_test.argmax(axis=1), y_predict.argmax(axis=1))\n",
    "\n",
    "print(f\"Test Accuracy of Neural Network(tf-idf) is {acc} \\n\")\n",
    "#print(f\"Test Balanced Accuracy of Naive Bayes(tf-idf) is {bacc} \\n\")\n",
    "print(f\"Test F1-score weighted of Neural Network(tf-idf) is {f1} \\n\")"
   ]
  },
  {
   "cell_type": "code",
   "execution_count": null,
   "id": "d3e64d05-83b8-4248-9932-965fb99b26f5",
   "metadata": {},
   "outputs": [],
   "source": []
  }
 ],
 "metadata": {
  "kernelspec": {
   "display_name": "Python 3 (ipykernel)",
   "language": "python",
   "name": "python3"
  },
  "language_info": {
   "codemirror_mode": {
    "name": "ipython",
    "version": 3
   },
   "file_extension": ".py",
   "mimetype": "text/x-python",
   "name": "python",
   "nbconvert_exporter": "python",
   "pygments_lexer": "ipython3",
   "version": "3.8.13"
  }
 },
 "nbformat": 4,
 "nbformat_minor": 5
}